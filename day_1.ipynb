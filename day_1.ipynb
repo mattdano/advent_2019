{
 "cells": [
  {
   "cell_type": "code",
   "execution_count": 13,
   "metadata": {},
   "outputs": [],
   "source": [
    "import pandas as pd\n",
    "dat = pd.read_csv('input-1.txt',names='d')"
   ]
  },
  {
   "cell_type": "code",
   "execution_count": 3,
   "metadata": {},
   "outputs": [],
   "source": [
    "import numpy as np"
   ]
  },
  {
   "cell_type": "code",
   "execution_count": 8,
   "metadata": {},
   "outputs": [
    {
     "data": {
      "text/plain": [
       "654.0"
      ]
     },
     "execution_count": 8,
     "metadata": {},
     "output_type": "execute_result"
    }
   ],
   "source": [
    "np.sum(np.floor(1969/3)-2)"
   ]
  },
  {
   "cell_type": "code",
   "execution_count": 19,
   "metadata": {},
   "outputs": [
    {
     "data": {
      "text/plain": [
       "3161483"
      ]
     },
     "execution_count": 19,
     "metadata": {},
     "output_type": "execute_result"
    }
   ],
   "source": [
    "np.int(np.sum(np.floor(dat['d']/3)-2))"
   ]
  },
  {
   "cell_type": "code",
   "execution_count": 48,
   "metadata": {},
   "outputs": [
    {
     "name": "stdout",
     "output_type": "stream",
     "text": [
      "966.0\n",
      "35639.0\n"
     ]
    }
   ],
   "source": [
    "# make a recursive function\n",
    "def fuel_needed(mass,tally):\n",
    "    \n",
    "    amt = np.floor(mass/3)-2\n",
    "    if amt < 0:\n",
    "        amt = 0\n",
    "    tally+=amt\n",
    "    #print(amt)\n",
    "    if amt == 0 :\n",
    "        return tally\n",
    "    else:\n",
    "        return fuel_needed(amt,tally)\n",
    "    \n",
    "    \n",
    "print(fuel_needed(1969,0))\n",
    "print(fuel_needed(71343,0))"
   ]
  },
  {
   "cell_type": "code",
   "execution_count": 46,
   "metadata": {},
   "outputs": [
    {
     "data": {
      "text/plain": [
       "0     71343\n",
       "1     60747\n",
       "2    122054\n",
       "3     67364\n",
       "4     53017\n",
       "Name: d, dtype: int64"
      ]
     },
     "execution_count": 46,
     "metadata": {},
     "output_type": "execute_result"
    }
   ],
   "source": [
    "dat['d'].head()"
   ]
  },
  {
   "cell_type": "code",
   "execution_count": null,
   "metadata": {},
   "outputs": [],
   "source": [
    "tots = dat['d'].apply(lambda x: fuel_needed(x,0))\n",
    "np.int(np.sum(tots))"
   ]
  },
  {
   "cell_type": "code",
   "execution_count": 49,
   "metadata": {},
   "outputs": [],
   "source": [
    "tots = dat['d'].apply(lambda x: fuel_needed(x,0))\n",
    "np.int(np.sum(tots))"
   ]
  }
 ],
 "metadata": {
  "kernelspec": {
   "display_name": "Python 3",
   "language": "python",
   "name": "python3"
  },
  "language_info": {
   "codemirror_mode": {
    "name": "ipython",
    "version": 3
   },
   "file_extension": ".py",
   "mimetype": "text/x-python",
   "name": "python",
   "nbconvert_exporter": "python",
   "pygments_lexer": "ipython3",
   "version": "3.7.3"
  }
 },
 "nbformat": 4,
 "nbformat_minor": 2
}

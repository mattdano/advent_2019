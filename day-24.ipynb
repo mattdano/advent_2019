{
 "cells": [
  {
   "cell_type": "code",
   "execution_count": 1,
   "metadata": {},
   "outputs": [],
   "source": [
    "#looks like conway's game of life"
   ]
  },
  {
   "cell_type": "code",
   "execution_count": 5,
   "metadata": {},
   "outputs": [],
   "source": []
  },
  {
   "cell_type": "code",
   "execution_count": null,
   "metadata": {},
   "outputs": [],
   "source": []
  },
  {
   "cell_type": "code",
   "execution_count": 78,
   "metadata": {},
   "outputs": [],
   "source": [
    "f= open('input-24.txt','r')\n",
    "dat = f.readlines()\n",
    "f.close()"
   ]
  },
  {
   "cell_type": "code",
   "execution_count": 7,
   "metadata": {},
   "outputs": [
    {
     "data": {
      "text/plain": [
       "['.#..#\\n', '#..##\\n', '##..#\\n', '##.##\\n', '#..##\\n']"
      ]
     },
     "execution_count": 7,
     "metadata": {},
     "output_type": "execute_result"
    }
   ],
   "source": [
    "dat"
   ]
  },
  {
   "cell_type": "code",
   "execution_count": 91,
   "metadata": {},
   "outputs": [],
   "source": [
    "testdat = ['....#\\n',\n",
    "'#..#.\\n',\n",
    "'#..##\\n',\n",
    "'..#..\\n',\n",
    "'#....\\n',]"
   ]
  },
  {
   "cell_type": "code",
   "execution_count": 79,
   "metadata": {},
   "outputs": [
    {
     "name": "stdout",
     "output_type": "stream",
     "text": [
      "[[0. 1. 0. 0. 1.]\n",
      " [1. 0. 0. 1. 1.]\n",
      " [1. 1. 0. 0. 1.]\n",
      " [1. 1. 0. 1. 1.]\n",
      " [1. 0. 0. 1. 1.]]\n"
     ]
    }
   ],
   "source": [
    "grid = np.zeros((7,7))\n",
    "\n",
    "for y,char in enumerate(dat):\n",
    "    for x,c in enumerate(char[0:-1]):\n",
    "        #print(c)\n",
    "        if c == '#':\n",
    "            grid[y+1,x+1] = 1\n",
    "        \n",
    "print(grid[1:6,1:6])\n"
   ]
  },
  {
   "cell_type": "code",
   "execution_count": 80,
   "metadata": {},
   "outputs": [
    {
     "data": {
      "text/plain": [
       "3"
      ]
     },
     "execution_count": 80,
     "metadata": {},
     "output_type": "execute_result"
    }
   ],
   "source": [
    "x=4\n",
    "y=1\n",
    "grid[x,y]\n",
    "bugtally = np.sum(grid[y-1:y+2,x-1:x+2]==1)\n",
    "bugtally"
   ]
  },
  {
   "cell_type": "code",
   "execution_count": 81,
   "metadata": {},
   "outputs": [
    {
     "data": {
      "text/plain": [
       "array([[0., 0., 0.],\n",
       "       [0., 0., 1.],\n",
       "       [0., 1., 1.]])"
      ]
     },
     "execution_count": 81,
     "metadata": {},
     "output_type": "execute_result"
    }
   ],
   "source": [
    "\n",
    "grid[y-1:y+2,x-1:x+2]"
   ]
  },
  {
   "cell_type": "code",
   "execution_count": 141,
   "metadata": {},
   "outputs": [
    {
     "name": "stdout",
     "output_type": "stream",
     "text": [
      "[[0 1 0 0 1]\n",
      " [1 0 0 1 1]\n",
      " [1 1 0 0 1]\n",
      " [1 1 0 1 1]\n",
      " [1 0 0 1 1]]\n",
      "finished at gen: 74\n"
     ]
    }
   ],
   "source": [
    "import copy \n",
    "\n",
    "#Each minute, The bugs live and die based on the number of bugs in the four adjacent tiles:\n",
    "\n",
    "#A bug dies (becoming an empty space) unless there is exactly one bug adjacent to it.\n",
    "\n",
    "#An empty space becomes infested with a bug if exactly one or two bugs are adjacent to it.\n",
    "\n",
    "import numpy as np\n",
    "grid = np.zeros((7,7)).astype(int)\n",
    "\n",
    "for y,char in enumerate(dat):\n",
    "    for x,c in enumerate(char[0:-1]):\n",
    "        #print(c)\n",
    "        if c == '#':\n",
    "            grid[y+1,x+1] = 1\n",
    "        elif c == '.':\n",
    "            grid[y+1,x+1] = 0\n",
    "\n",
    "\n",
    "        \n",
    "print(grid[1:6,1:6])\n",
    "\n",
    "\n",
    "seen = set()\n",
    "gen = 0\n",
    "while True:\n",
    "    nextgrid = np.zeros((7,7)).astype(int)\n",
    "    bcount = np.zeros((7,7)).astype(int)\n",
    "    for x in range(1,6):\n",
    "        for y in range(1,6):\n",
    "            bugtally = 0\n",
    "            bugtally = grid[y-1,x]+grid[y+1,x]+grid[y,x+1]+grid[y,x-1]\n",
    "            bcount[y,x]=bugtally\n",
    "\n",
    "            #bugs die if next to another bug\n",
    "            \n",
    "            if grid[y,x] == 0 and (bugtally == 1):\n",
    "                nextgrid[y,x]=1\n",
    "            \n",
    "            if grid[y,x] == 0 and (bugtally == 2):\n",
    "                nextgrid[y,x]=1\n",
    "                \n",
    "            if grid[y,x] == 1 and bugtally == 1:\n",
    "                nextgrid[y,x]=1\n",
    "\n",
    "\n",
    "    if False:\n",
    "        print(' -- ')\n",
    "        print(bcount[1:6,1:6])\n",
    "        print(' ')\n",
    "        print(nextgrid[1:6,1:6])\n",
    "        print(' -- ')\n",
    "\n",
    "\n",
    "    grid = copy.deepcopy(nextgrid)\n",
    "    sighted = ''.join(list(map(str,list(map(int,list(np.ravel(nextgrid[1:6,1:6])))))))\n",
    "    if sighted in seen:\n",
    "        print('finished at gen:',gen)\n",
    "        repeated = sighted\n",
    "        break\n",
    "    else:\n",
    "        seen.add(sighted)\n",
    "        gen+=1"
   ]
  },
  {
   "cell_type": "code",
   "execution_count": 142,
   "metadata": {},
   "outputs": [
    {
     "ename": "SyntaxError",
     "evalue": "invalid syntax (<ipython-input-142-c92f6fac5556>, line 5)",
     "output_type": "error",
     "traceback": [
      "\u001b[0;36m  File \u001b[0;32m\"<ipython-input-142-c92f6fac5556>\"\u001b[0;36m, line \u001b[0;32m5\u001b[0m\n\u001b[0;31m    .##..\u001b[0m\n\u001b[0m    ^\u001b[0m\n\u001b[0;31mSyntaxError\u001b[0m\u001b[0;31m:\u001b[0m invalid syntax\n"
     ]
    }
   ],
   "source": [
    "#..#.\n",
    "####.\n",
    "###.#\n",
    "##.##\n",
    ".##.."
   ]
  },
  {
   "cell_type": "code",
   "execution_count": 143,
   "metadata": {},
   "outputs": [
    {
     "data": {
      "text/plain": [
       "{'0000000000000010000100111',\n",
       " '0000000001000110011001100',\n",
       " '0000100000001110011010100',\n",
       " '0000100011001000100111010',\n",
       " '0001000010110101111011100',\n",
       " '0001000011001101110101010',\n",
       " '0001000111010011100101110',\n",
       " '0001100110010111111010101',\n",
       " '0010000010100110110100111',\n",
       " '0010000111110010100001100',\n",
       " '0010100000100110011010100',\n",
       " '0010100000101000000110011',\n",
       " '0010101100110010000010100',\n",
       " '0010101100111000000010000',\n",
       " '0011000010100111110000100',\n",
       " '0011100000100001000110010',\n",
       " '0011100101110001000011001',\n",
       " '0011100111001110010111111',\n",
       " '0011100111110011100111110',\n",
       " '0011101100111101011110011',\n",
       " '0011111101000010000100010',\n",
       " '0100001000010001100010000',\n",
       " '0100011000001100011100011',\n",
       " '0100011101011010000101110',\n",
       " '0100110001000010000011100',\n",
       " '0101010011001011101101110',\n",
       " '0101010101010111011101110',\n",
       " '0101010111011001100001000',\n",
       " '0101010111011011100101110',\n",
       " '0101110010001001100010000',\n",
       " '0101110011000011100111110',\n",
       " '0101110110010111111110110',\n",
       " '0110000110000011100001001',\n",
       " '0110010111000010001100111',\n",
       " '0110110101111010001111110',\n",
       " '0110110111110010101011101',\n",
       " '0110111111110100110111010',\n",
       " '0111010000101101011100010',\n",
       " '0111010011100101110001000',\n",
       " '0111010011101101110101010',\n",
       " '0111011011101001100101010',\n",
       " '0111011101110101010101010',\n",
       " '0111110011100001100111010',\n",
       " '0111110011100111110011100',\n",
       " '0111111000101111010110110',\n",
       " '1000100000000100010010001',\n",
       " '1000100001000000000011001',\n",
       " '1000100001000110011011101',\n",
       " '1000100011000000100111011',\n",
       " '1000100100010000000010001',\n",
       " '1001100000000001000010001',\n",
       " '1001100000000001001110011',\n",
       " '1001100001000111010011100',\n",
       " '1010001100110100011100011',\n",
       " '1010101111110100110011000',\n",
       " '1011100001000000000000011',\n",
       " '1011101010100111110110110',\n",
       " '1011101100110001000010001',\n",
       " '1011110110001000010011100',\n",
       " '1100010000111100001100101',\n",
       " '1100011100010110011000101',\n",
       " '1100011100011000001100010',\n",
       " '1100110000001010000010100',\n",
       " '1100111001000000000011001',\n",
       " '1100111001110101101010010',\n",
       " '1100111101011110011011100',\n",
       " '1101001011111101010111110',\n",
       " '1101100000101000010001100',\n",
       " '1101110010000001100010001',\n",
       " '1101111110010011100110111',\n",
       " '1110010100101000010011000',\n",
       " '1110010110110010100000100',\n",
       " '1110110011100100111111011',\n",
       " '1111111111011101101011010'}"
      ]
     },
     "execution_count": 143,
     "metadata": {},
     "output_type": "execute_result"
    }
   ],
   "source": [
    "seen"
   ]
  },
  {
   "cell_type": "code",
   "execution_count": 144,
   "metadata": {},
   "outputs": [
    {
     "data": {
      "text/plain": [
       "'0000100011001000100111010'"
      ]
     },
     "execution_count": 144,
     "metadata": {},
     "output_type": "execute_result"
    }
   ],
   "source": [
    "repeated"
   ]
  },
  {
   "cell_type": "code",
   "execution_count": 147,
   "metadata": {},
   "outputs": [
    {
     "name": "stdout",
     "output_type": "stream",
     "text": [
      "0 0 1\n",
      "1 0 2\n",
      "2 0 4\n",
      "3 0 8\n",
      "4 1 16\n",
      "5 0 32\n",
      "6 0 64\n",
      "7 0 128\n",
      "8 1 256\n",
      "9 1 512\n",
      "10 0 1024\n",
      "11 0 2048\n",
      "12 1 4096\n",
      "13 0 8192\n",
      "14 0 16384\n",
      "15 0 32768\n",
      "16 1 65536\n",
      "17 0 131072\n",
      "18 0 262144\n",
      "19 1 524288\n",
      "20 1 1048576\n",
      "21 1 2097152\n",
      "22 0 4194304\n",
      "23 1 8388608\n",
      "24 0 16777216\n",
      "12129040\n"
     ]
    }
   ],
   "source": [
    "total = 0\n",
    "for i,c in enumerate(repeated):\n",
    "    print(i,c,pow(2,i))\n",
    "    if c =='1':\n",
    "        total+=pow(2,i)\n",
    "        \n",
    "        \n",
    "print(total)"
   ]
  },
  {
   "cell_type": "code",
   "execution_count": 146,
   "metadata": {},
   "outputs": [
    {
     "data": {
      "text/plain": [
       "8635242"
      ]
     },
     "execution_count": 146,
     "metadata": {},
     "output_type": "execute_result"
    }
   ],
   "source": [
    "8635242"
   ]
  },
  {
   "cell_type": "code",
   "execution_count": 148,
   "metadata": {},
   "outputs": [],
   "source": [
    "# each map is a recursive grid. what's the number of bugs after 200 mins. \n",
    "#Initially, no other levels contain bugs.\n",
    "# expand the grid to (501 dims,7,7) \n",
    "\n",
    "\n",
    "# need a function that fetches the neighbors: \n",
    "\n",
    "levelzero = 250\n",
    "\n",
    "grid = np.zeros((500,7,7)).astype(int)\n",
    "\n",
    "for y,char in enumerate(dat):\n",
    "    for x,c in enumerate(char[0:-1]):\n",
    "        #print(c)\n",
    "        if c == '#':\n",
    "            grid[levelzero,y+1,x+1] = 1\n",
    "        elif c == '.':\n",
    "            grid[levelzero,y+1,x+1] = 0"
   ]
  },
  {
   "cell_type": "code",
   "execution_count": null,
   "metadata": {},
   "outputs": [],
   "source": [
    "     |     |         |     |     \n",
    "  1  |  2  |    3    |  4  |  5  \n",
    "     |     |         |     |     \n",
    "-----+-----+---------+-----+-----\n",
    "     |     |         |     |     \n",
    "  6  |  7  |    8    |  9  |  10 \n",
    "     |     |         |     |     \n",
    "-----+-----+---------+-----+-----\n",
    "     |     |A|B|C|D|E|     |     \n",
    "     |     |-+-+-+-+-|     |     \n",
    "     |     |F|G|H|I|J|     |     \n",
    "     |     |-+-+-+-+-|     |     \n",
    " 11  | 12  |K|L|?|N|O|  14 |  15 \n",
    "     |     |-+-+-+-+-|     |     \n",
    "     |     |P|Q|R|S|T|     |     \n",
    "     |     |-+-+-+-+-|     |     \n",
    "     |     |U|V|W|X|Y|     |     \n",
    "-----+-----+---------+-----+-----\n",
    "     |     |         |     |     \n",
    " 16  | 17  |    18   |  19 |  20 \n",
    "     |     |         |     |     \n",
    "-----+-----+---------+-----+-----\n",
    "     |     |         |     |     \n",
    " 21  | 22  |    23   |  24 |  25 \n",
    "     |     |         |     |     "
   ]
  },
  {
   "cell_type": "code",
   "execution_count": 219,
   "metadata": {},
   "outputs": [],
   "source": [
    "def get_adjacent_tally(grid,level,x,y):\n",
    "    \n",
    "    if x==3 and y==2:\n",
    "        #number 8\n",
    "        tally = np.sum(grid[level-1,1,:])+grid[level,y-1,x]+grid[level,y,x+1]+grid[level,y,x-1]\n",
    "    elif x==2 and y==3:\n",
    "        # number 12\n",
    "        tally = np.sum(grid[level-1,:,1])+grid[level,y-1,x]+grid[level,y+1,x]+grid[level,y,x-1]\n",
    "    elif x==4 and y==3:\n",
    "        # number 14\n",
    "        tally = np.sum(grid[level-1,:,6])+grid[level,y-1,x]+grid[level,y+1,x]+grid[level,y,x+1]\n",
    "    elif x==4 and y==3:\n",
    "        # number 18\n",
    "        tally = np.sum(grid[level-1,6,:])+grid[level,y+1,x]+grid[level,y,x+1]+grid[level,y,x-1]\n",
    "        \n",
    "    \n",
    "    elif y==1:\n",
    "        if x>1 and x<6:\n",
    "            # row 1, x: 2 to 4\n",
    "            # all their tops are tile 8.\n",
    "            tally = grid[level+1,2,3] + grid[level,y,x+1]+grid[level,y,x-1]+grid[level,y+1,x]\n",
    "        if x==1:\n",
    "            tally = grid[level+1,2,3] + grid[level+1,3,2]+grid[level,y+1,x]+grid[level,y,x+1]\n",
    "        if x==5:\n",
    "            tally = grid[level+1,2,3] + grid[level+1,3,4]+grid[level,y+1,x]+grid[level,y,x-1]\n",
    "\n",
    "    elif y==5:\n",
    "        if x>1 and x<6:\n",
    "            # row 1, x: 2 to 4\n",
    "            # all their bottoms are tile 18.\n",
    "            tally = grid[level+1,4,3] + grid[level,y,x+1]+grid[level,y,x-1]+grid[level,y-1,x]\n",
    "        if x==1:\n",
    "            tally = grid[level+1,4,3] + grid[level+1,3,2]+grid[level,y-1,x]+grid[level,y,x+1]\n",
    "        if x==5:\n",
    "            tally = grid[level+1,4,3] + grid[level+1,3,4]+grid[level,y-1,x]+grid[level,y,x-1]\n",
    "\n",
    "    elif x==1 and (y==2 or y==3 or y==4):\n",
    "        tally = grid[level+1,3,1] + grid[level,y,x+1]+ grid[level,y+1,x]+ grid[level,y-1,x]\n",
    "\n",
    "    elif x==5 and (y==2 or y==3 or y==4):\n",
    "        tally = grid[level+1,3,4] + grid[level,y,x-1]+ grid[level,y+1,x]+ grid[level,y-1,x]\n",
    "    elif x ==3 and y ==4:\n",
    "        tally = np.sum(grid[level-1,5,:]) + grid[level,y,x-1]+ grid[level,y+1,x]+ grid[level,y,x+1]\n",
    "    elif x ==2 and y ==2:\n",
    "        tally = grid[level,y,x+1]+grid[level,y,x-1]+ grid[level,y+1,x]+ grid[level,y-1,x]\n",
    "    elif x ==2 and y ==4:\n",
    "        tally = grid[level,y,x+1]+grid[level,y,x-1]+ grid[level,y+1,x]+ grid[level,y-1,x]\n",
    "\n",
    "    elif x ==4 and y ==2:\n",
    "        tally = grid[level,y,x+1]+grid[level,y,x-1]+ grid[level,y+1,x]+ grid[level,y-1,x]\n",
    "\n",
    "    elif x ==4 and y ==4:\n",
    "        tally = grid[level,y,x+1]+grid[level,y,x-1]+ grid[level,y+1,x]+ grid[level,y-1,x]\n",
    "\n",
    "    elif x ==3 and y ==3:\n",
    "        tally = grid[level,y,x+1]+grid[level,y,x-1]+ grid[level,y+1,x]+ grid[level,y-1,x]\n",
    "\n",
    "    return tally\n",
    "\n",
    "    "
   ]
  },
  {
   "cell_type": "code",
   "execution_count": 243,
   "metadata": {},
   "outputs": [
    {
     "data": {
      "text/plain": [
       "2760"
      ]
     },
     "execution_count": 243,
     "metadata": {},
     "output_type": "execute_result"
    }
   ],
   "source": [
    "# each map is a recursive grid. what's the number of bugs after 200 mins. \n",
    "#Initially, no other levels contain bugs.\n",
    "# expand the grid to (501 dims,7,7) \n",
    "\n",
    "\n",
    "# need a function that fetches the neighbors: \n",
    "\n",
    "levelzero = 250\n",
    "mins = 200\n",
    "\n",
    "grid = np.zeros((500,7,7)).astype(int)\n",
    "\n",
    "for y,char in enumerate(dat):\n",
    "    for x,c in enumerate(char[0:-1]):\n",
    "        #print(c)\n",
    "        if c == '#':\n",
    "            grid[levelzero,y+1,x+1] = 1\n",
    "        elif c == '.':\n",
    "            grid[levelzero,y+1,x+1] = 0\n",
    "            \n",
    "for generation in range(0,mins):\n",
    "    #nextgrid = np.zeros((500,7,7)).astype(int)\n",
    "    for level in range(249-generation,251+generation):\n",
    "        #print(level)\n",
    "        for x in range(1,6):\n",
    "            for y in range(1,6):\n",
    "                bugtally = 0\n",
    "                bugtally = get_adjacent_tally(grid,level,x,y)\n",
    "\n",
    "                #bugs die if next to another bug\n",
    "\n",
    "                if grid[level,y,x] == 0 and (bugtally == 1):\n",
    "                    grid[level,y,x]=1\n",
    "\n",
    "                if grid[level,y,x] == 0 and (bugtally == 2):\n",
    "                    grid[y,x]=1\n",
    "                if grid[level,y,x] == 1 and bugtally == 1:\n",
    "                    grid[level,y,x]=1\n",
    "                    \n",
    "    grid[level,3,3] = 0\n",
    "\n",
    "\n",
    "np.sum(grid)"
   ]
  }
 ],
 "metadata": {
  "kernelspec": {
   "display_name": "Python 3",
   "language": "python",
   "name": "python3"
  },
  "language_info": {
   "codemirror_mode": {
    "name": "ipython",
    "version": 3
   },
   "file_extension": ".py",
   "mimetype": "text/x-python",
   "name": "python",
   "nbconvert_exporter": "python",
   "pygments_lexer": "ipython3",
   "version": "3.7.3"
  }
 },
 "nbformat": 4,
 "nbformat_minor": 2
}

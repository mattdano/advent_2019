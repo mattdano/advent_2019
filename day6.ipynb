{
 "cells": [
  {
   "cell_type": "code",
   "execution_count": 29,
   "metadata": {},
   "outputs": [],
   "source": [
    "data = ['COM)B',\n",
    "'B)C',\n",
    "'C)D',\n",
    "'D)E',\n",
    "'E)F',\n",
    "'B)G',\n",
    "'G)H','D)I','E)J','J)K','K)L']"
   ]
  },
  {
   "cell_type": "code",
   "execution_count": 93,
   "metadata": {},
   "outputs": [],
   "source": [
    "f = open('input-6.txt','r')\n",
    "data = f.readlines()\n",
    "f.close()"
   ]
  },
  {
   "cell_type": "code",
   "execution_count": 95,
   "metadata": {},
   "outputs": [],
   "source": [
    "connections = {}\n",
    "for points in data:\n",
    "    p = points.replace('\\n','').split(')')\n",
    "    connections[p[1]] = p[0]"
   ]
  },
  {
   "cell_type": "code",
   "execution_count": 96,
   "metadata": {},
   "outputs": [
    {
     "data": {
      "text/plain": [
       "234446"
      ]
     },
     "execution_count": 96,
     "metadata": {},
     "output_type": "execute_result"
    }
   ],
   "source": [
    "def distance(n):\n",
    "    if n in connections:\n",
    "        return 1+distance(connections[n])\n",
    "    else:\n",
    "        return 0 \n",
    "    \n",
    "sum(distance(n) for n in connections)"
   ]
  },
  {
   "cell_type": "code",
   "execution_count": 111,
   "metadata": {},
   "outputs": [
    {
     "data": {
      "text/plain": [
       "385"
      ]
     },
     "execution_count": 111,
     "metadata": {},
     "output_type": "execute_result"
    }
   ],
   "source": [
    "def same_node(n):\n",
    "    if n in connections:\n",
    "        return same_node(connections[n]).union([connections[n]])\n",
    "    else:\n",
    "        return set()\n",
    "    \n",
    "shared = same_node('SAN').symmetric_difference(same_node('YOU'))\n",
    "len(shared)"
   ]
  },
  {
   "cell_type": "code",
   "execution_count": null,
   "metadata": {},
   "outputs": [],
   "source": []
  }
 ],
 "metadata": {
  "kernelspec": {
   "display_name": "Python 3",
   "language": "python",
   "name": "python3"
  },
  "language_info": {
   "codemirror_mode": {
    "name": "ipython",
    "version": 3
   },
   "file_extension": ".py",
   "mimetype": "text/x-python",
   "name": "python",
   "nbconvert_exporter": "python",
   "pygments_lexer": "ipython3",
   "version": "3.7.3"
  }
 },
 "nbformat": 4,
 "nbformat_minor": 2
}

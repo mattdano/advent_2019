{
 "cells": [
  {
   "cell_type": "code",
   "execution_count": 128,
   "metadata": {},
   "outputs": [],
   "source": [
    "import math"
   ]
  },
  {
   "cell_type": "code",
   "execution_count": 151,
   "metadata": {},
   "outputs": [],
   "source": [
    "def get_files(file):\n",
    "    f = open(file,'r')\n",
    "    lines = f.readlines()\n",
    "    \n",
    "    asteroids = []\n",
    "\n",
    "    for y,line in enumerate(lines):\n",
    "        for x,c in enumerate(line[:-1]):\n",
    "            if c == '#':\n",
    "                asteroids.append([x,y])\n",
    "    return asteroids\n",
    "\n",
    "\n",
    "#get_files('input-10.txt')\n",
    "asteroids = get_files('test_1.txt')"
   ]
  },
  {
   "cell_type": "code",
   "execution_count": 166,
   "metadata": {},
   "outputs": [
    {
     "data": {
      "image/png": "[encoded data removed]",
      "text/plain": [
       "<Figure size 432x288 with 1 Axes>"
      ]
     },
     "metadata": {
      "needs_background": "light"
     },
     "output_type": "display_data"
    }
   ],
   "source": [
    "import matplotlib.pyplot as plt\n",
    "import numpy as np\n",
    "%matplotlib inline\n",
    "\n"
   ]
  },
  {
   "cell_type": "code",
   "execution_count": 158,
   "metadata": {},
   "outputs": [],
   "source": [
    "allvecs = dict()\n",
    "dist = dict()\n",
    "normed = dict()\n",
    "for a_id, a in enumerate(asteroids):\n",
    "    vecs = []\n",
    "    distances = []\n",
    "    norm_vec = []\n",
    "    for b in asteroids:\n",
    "        if a!=b:\n",
    "            dx = a[0]-b[0]\n",
    "            dy = a[1]-b[1]\n",
    "            #print(dx,dy)\n",
    "            vecs.append([dx,dy])\n",
    "            thisdist = (abs(dx)**2) + (abs(dy)**2)\n",
    "            distances.append(thisdist)\n",
    "            vecdist = math.sqrt(dx**2+dy**2)\n",
    "            norm_vec.append([dx/vecdist,dy/vecdist])\n",
    "        #if a != b:\n",
    "    dist[a_id] = distances    \n",
    "    allvecs[a_id] = vecs\n",
    "    normed[a_id] = norm_vec"
   ]
  },
  {
   "cell_type": "code",
   "execution_count": 159,
   "metadata": {},
   "outputs": [
    {
     "data": {
      "text/plain": [
       "195"
      ]
     },
     "execution_count": 159,
     "metadata": {},
     "output_type": "execute_result"
    }
   ],
   "source": [
    "len(set(tuple(i) for i in normed[5]))"
   ]
  },
  {
   "cell_type": "code",
   "execution_count": null,
   "metadata": {},
   "outputs": [],
   "source": []
  },
  {
   "cell_type": "code",
   "execution_count": 168,
   "metadata": {},
   "outputs": [
    {
     "name": "stdout",
     "output_type": "stream",
     "text": [
      "[18, 19] 206\n"
     ]
    }
   ],
   "source": [
    "most = 0\n",
    "for i,asteroid in enumerate(asteroids):\n",
    "    counts = 0 \n",
    "    mostseen = len(set(tuple(i) for i in normed[i]))\n",
    "    if mostseen>= most:\n",
    "        most = len(seen)\n",
    "        most_pos = asteroid\n",
    "print(most_pos,most)"
   ]
  },
  {
   "cell_type": "code",
   "execution_count": 169,
   "metadata": {},
   "outputs": [
    {
     "name": "stdout",
     "output_type": "stream",
     "text": [
      "[11, 13] 216\n"
     ]
    }
   ],
   "source": [
    "most = 0\n",
    "for i,asteroid in enumerate(asteroids):\n",
    "    seen = dict()\n",
    "    counts = 0 \n",
    "    for myvec,mydist in zip(normed[i],dist[i]):\n",
    "        vecstr = str(myvec[0])+'_'+str(myvec[1])\n",
    "        if vecstr in seen:\n",
    "            if seen[vecstr] > mydist:\n",
    "                seen[vecstr] = mydist\n",
    "        else:\n",
    "            seen[vecstr] = mydist\n",
    "\n",
    "    if len(seen)> most:\n",
    "        most = len(seen)\n",
    "        most_pos = asteroid\n",
    "print(most_pos,most-1)"
   ]
  },
  {
   "cell_type": "code",
   "execution_count": 167,
   "metadata": {},
   "outputs": [
    {
     "data": {
      "image/png": "[encoded data removed]",
      "text/plain": [
       "<Figure size 432x288 with 1 Axes>"
      ]
     },
     "metadata": {
      "needs_background": "light"
     },
     "output_type": "display_data"
    }
   ],
   "source": [
    "arr = np.array(asteroids)\n",
    "plt.scatter(arr[:,0],arr[:,1])\n",
    "plt.scatter(11,13)\n",
    "plt.show()"
   ]
  },
  {
   "cell_type": "code",
   "execution_count": 144,
   "metadata": {},
   "outputs": [
    {
     "ename": "TypeError",
     "evalue": "unhashable type: 'list'",
     "output_type": "error",
     "traceback": [
      "\u001b[0;31m---------------------------------------------------------------------------\u001b[0m",
      "\u001b[0;31mTypeError\u001b[0m                                 Traceback (most recent call last)",
      "\u001b[0;32m<ipython-input-144-362157ccf31a>\u001b[0m in \u001b[0;36m<module>\u001b[0;34m\u001b[0m\n\u001b[0;32m----> 1\u001b[0;31m \u001b[0mset\u001b[0m\u001b[0;34m(\u001b[0m\u001b[0mnormed\u001b[0m\u001b[0;34m[\u001b[0m\u001b[0;36m0\u001b[0m\u001b[0;34m]\u001b[0m\u001b[0;34m)\u001b[0m\u001b[0;34m\u001b[0m\u001b[0;34m\u001b[0m\u001b[0m\n\u001b[0m",
      "\u001b[0;31mTypeError\u001b[0m: unhashable type: 'list'"
     ]
    }
   ],
   "source": [
    "set(normed[0])"
   ]
  },
  {
   "cell_type": "code",
   "execution_count": 105,
   "metadata": {},
   "outputs": [
    {
     "data": {
      "text/plain": [
       "31"
      ]
     },
     "execution_count": 105,
     "metadata": {},
     "output_type": "execute_result"
    }
   ],
   "source": [
    "len(seen)"
   ]
  },
  {
   "cell_type": "code",
   "execution_count": null,
   "metadata": {},
   "outputs": [],
   "source": []
  },
  {
   "cell_type": "code",
   "execution_count": 102,
   "metadata": {},
   "outputs": [
    {
     "data": {
      "text/plain": [
       "'1.0_0.0'"
      ]
     },
     "execution_count": 102,
     "metadata": {},
     "output_type": "execute_result"
    }
   ],
   "source": [
    "str(myvec[0])+'_'+str(myvec[1])"
   ]
  },
  {
   "cell_type": "code",
   "execution_count": 95,
   "metadata": {},
   "outputs": [
    {
     "data": {
      "text/plain": [
       "[4,\n",
       " 65,\n",
       " 26,\n",
       " 10,\n",
       " 40,\n",
       " 29,\n",
       " 20,\n",
       " 13,\n",
       " 8,\n",
       " 5,\n",
       " 4,\n",
       " 58,\n",
       " 34,\n",
       " 18,\n",
       " 13,\n",
       " 10,\n",
       " 65,\n",
       " 32,\n",
       " 61,\n",
       " 26,\n",
       " 26,\n",
       " 100,\n",
       " 61,\n",
       " 36,\n",
       " 98,\n",
       " 85,\n",
       " 65,\n",
       " 50,\n",
       " 49,\n",
       " 50,\n",
       " 128,\n",
       " 113,\n",
       " 73,\n",
       " 64,\n",
       " 130,\n",
       " 85,\n",
       " 82,\n",
       " 81,\n",
       " 82]"
      ]
     },
     "execution_count": 95,
     "metadata": {},
     "output_type": "execute_result"
    }
   ],
   "source": [
    "dist[1]"
   ]
  },
  {
   "cell_type": "code",
   "execution_count": null,
   "metadata": {},
   "outputs": [],
   "source": []
  }
 ],
 "metadata": {
  "kernelspec": {
   "display_name": "Python 3",
   "language": "python",
   "name": "python3"
  },
  "language_info": {
   "codemirror_mode": {
    "name": "ipython",
    "version": 3
   },
   "file_extension": ".py",
   "mimetype": "text/x-python",
   "name": "python",
   "nbconvert_exporter": "python",
   "pygments_lexer": "ipython3",
   "version": "3.7.3"
  }
 },
 "nbformat": 4,
 "nbformat_minor": 2
}

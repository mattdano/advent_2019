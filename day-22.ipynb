{
 "cells": [
  {
   "cell_type": "code",
   "execution_count": 65,
   "metadata": {},
   "outputs": [],
   "source": [
    "f = open('input-22.txt','r')\n",
    "cmds = f.readlines()\n",
    "f.close()"
   ]
  },
  {
   "cell_type": "code",
   "execution_count": 66,
   "metadata": {},
   "outputs": [],
   "source": [
    "stack = []\n",
    "for i in range(0,10007+1):\n",
    "    stack.append(i)"
   ]
  },
  {
   "cell_type": "code",
   "execution_count": 10,
   "metadata": {},
   "outputs": [
    {
     "data": {
      "text/plain": [
       "10007"
      ]
     },
     "execution_count": 10,
     "metadata": {},
     "output_type": "execute_result"
    }
   ],
   "source": [
    "stack[-1]"
   ]
  },
  {
   "cell_type": "code",
   "execution_count": 32,
   "metadata": {},
   "outputs": [],
   "source": [
    "import numpy as np\n",
    "\n",
    "stack = np.arange(0,9)"
   ]
  },
  {
   "cell_type": "code",
   "execution_count": 40,
   "metadata": {},
   "outputs": [
    {
     "data": {
      "text/plain": [
       "array([6, 7, 8, 0, 1, 2, 3, 4, 5])"
      ]
     },
     "execution_count": 40,
     "metadata": {},
     "output_type": "execute_result"
    }
   ],
   "source": [
    "n_cut(stack,-4)"
   ]
  },
  {
   "cell_type": "code",
   "execution_count": 322,
   "metadata": {},
   "outputs": [],
   "source": [
    "def new_stack(stackl):\n",
    "    return np.flip(stackl)\n",
    "\n",
    "\n",
    "def n_cut(stackl,n):\n",
    "    if n<0:\n",
    "        return np.roll(stackl,-n)\n",
    "    return np.roll(stackl,-n)\n",
    "\n",
    "\n",
    "def deal_increment(stackl,n):\n",
    "    tmp_stack = []\n",
    "    newdeck = np.ones(len(stackl))*-1\n",
    "    p = 0\n",
    "    npos=0\n",
    "    for card in stackl:\n",
    "        newdeck[npos] = card\n",
    "        npos+=n\n",
    "        npos = npos%(len(stackl))\n",
    "    #print(newdeck)\n",
    "    assert (newdeck==-1).sum() == 0\n",
    "    return newdeck\n",
    "        \n"
   ]
  },
  {
   "cell_type": "code",
   "execution_count": 323,
   "metadata": {},
   "outputs": [
    {
     "data": {
      "text/plain": [
       "3"
      ]
     },
     "execution_count": 323,
     "metadata": {},
     "output_type": "execute_result"
    }
   ],
   "source": [
    "12%9"
   ]
  },
  {
   "cell_type": "code",
   "execution_count": 324,
   "metadata": {},
   "outputs": [
    {
     "data": {
      "text/plain": [
       "array([6, 7, 8, 9, 0, 1, 2, 3, 4, 5])"
      ]
     },
     "execution_count": 324,
     "metadata": {},
     "output_type": "execute_result"
    }
   ],
   "source": [
    "n_cut(np.arange(0,10),-4)"
   ]
  },
  {
   "cell_type": "code",
   "execution_count": 325,
   "metadata": {},
   "outputs": [
    {
     "name": "stdout",
     "output_type": "stream",
     "text": [
      "10 10\n"
     ]
    },
    {
     "data": {
      "text/plain": [
       "array([0., 7., 4., 1., 8., 5., 2., 9., 6., 3.])"
      ]
     },
     "execution_count": 325,
     "metadata": {},
     "output_type": "execute_result"
    }
   ],
   "source": [
    "stack = np.arange(0,10)\n",
    "\n",
    "#print(len(stack))\n",
    "ans = deal_increment(stack,3)\n",
    "\n",
    "\n",
    "print(len(stack),len(ans))\n",
    "ans"
   ]
  },
  {
   "cell_type": "code",
   "execution_count": 326,
   "metadata": {},
   "outputs": [],
   "source": [
    "#0 7 4 1 8 5 2 9 6 3 "
   ]
  },
  {
   "cell_type": "code",
   "execution_count": 327,
   "metadata": {},
   "outputs": [
    {
     "name": "stdout",
     "output_type": "stream",
     "text": [
      "Dealing 10\n",
      "cut -5908\n",
      "Dealing 75\n",
      "cut 8705\n",
      "Dealing 49\n",
      "cut -1609\n",
      "Dealing 69\n",
      "cut 7797\n",
      "cut -6211\n",
      "Dealing 10\n",
      "cut 6188\n",
      "Dealing 57\n",
      "cut -1659\n",
      "Dealing 16\n",
      "cut -5930\n",
      "cut -2758\n",
      "Dealing 33\n",
      "cut -3275\n",
      "Dealing 39\n",
      "cut -1301\n",
      "Dealing 50\n",
      "cut 7837\n",
      "Dealing 74\n",
      "cut 1200\n",
      "Dealing 23\n",
      "cut -9922\n",
      "Dealing 65\n",
      "cut 4896\n",
      "Dealing 61\n",
      "cut 5945\n",
      "Dealing 9\n",
      "Dealing 2\n",
      "cut -8205\n",
      "Dealing 75\n",
      "cut -4063\n",
      "Dealing 40\n",
      "cut -7366\n",
      "Dealing 51\n",
      "cut 7213\n",
      "cut 4763\n",
      "Dealing 43\n",
      "cut 3963\n",
      "Dealing 50\n",
      "cut -8856\n",
      "Dealing 43\n",
      "cut 8604\n",
      "Dealing 72\n",
      "cut -7026\n",
      "Dealing 25\n",
      "cut 7843\n",
      "Dealing 71\n",
      "cut -1272\n",
      "Dealing 64\n",
      "cut 7770\n",
      "Dealing 18\n",
      "cut -5278\n",
      "Dealing 67\n",
      "Dealing 18\n",
      "cut 2216\n",
      "Dealing 42\n",
      "cut 3206\n",
      "Dealing 14\n",
      "cut -6559\n",
      "Dealing 12\n",
      "Dealing 75\n",
      "Dealing 41\n",
      "cut 7378\n",
      "Dealing 44\n",
      "cut 774\n",
      "Dealing 60\n",
      "cut 7357\n",
      "Dealing 41\n",
      "cut 479\n",
      "Dealing 40\n",
      "cut 5146\n",
      "Dealing 13\n",
      "cut 2017\n",
      "Dealing 35\n",
      "cut 9218\n",
      "Dealing 22\n",
      "cut -2462\n",
      "Dealing 23\n",
      "cut -1820\n",
      "Dealing 69\n"
     ]
    }
   ],
   "source": [
    "stack = np.arange(0,10007)\n",
    "for cmd in cmds:\n",
    "    if 'deal into new stack' in cmd:\n",
    "        #print('New stack')\n",
    "        stack = new_stack(stack)\n",
    "    elif 'cut' in cmd:\n",
    "        amt = int(cmd.split(' ')[-1])\n",
    "        print('cut',amt)\n",
    "        stack = n_cut(stack,amt)\n",
    "    elif 'deal with increment' in cmd:\n",
    "        amt = int(cmd.split(' ')[-1])\n",
    "        print('Dealing',amt)\n",
    "        stack = deal_increment(stack,amt)\n",
    "    else:\n",
    "        print('something else')"
   ]
  },
  {
   "cell_type": "code",
   "execution_count": 332,
   "metadata": {},
   "outputs": [
    {
     "data": {
      "text/plain": [
       "4649"
      ]
     },
     "execution_count": 332,
     "metadata": {},
     "output_type": "execute_result"
    }
   ],
   "source": [
    "np.where(stack == 2019)[0][0]"
   ]
  },
  {
   "cell_type": "code",
   "execution_count": 370,
   "metadata": {},
   "outputs": [
    {
     "name": "stdout",
     "output_type": "stream",
     "text": [
      "68849657493596\n"
     ]
    }
   ],
   "source": [
    "card_len = 119315717514047\n",
    "times = 101741582076661\n",
    "final_card = 2020\n",
    "#card_len, final_card, times = 10007, 4649, 1\n",
    "\n",
    "a = 1\n",
    "b = 0\n",
    "\n",
    "#need to go backwards\n",
    "for cmd in reversed(cmds):\n",
    "    if cmd.startswith('deal into new stack'):\n",
    "        #print('New stack')\n",
    "        #stack = new_stack(stack)\n",
    "        \n",
    "        b += 1\n",
    "        a *= -1\n",
    "        b *= -1\n",
    "        \n",
    "    elif 'cut' in cmd:\n",
    "        amt = int(cmd.split(' ')[-1])\n",
    "        #print('cut',amt)\n",
    "        #stack = n_cut(stack,amt)\n",
    "        \n",
    "        b += amt\n",
    "        \n",
    "    elif cmd.startswith('deal with increment'):\n",
    "        amt = int(cmd.split(' ')[-1])\n",
    "        #print('Dealing',amt)\n",
    "        #stack = deal_increment(stack,amt)\n",
    "        \n",
    "        p = pow(amt, card_len-2,card_len)\n",
    "        a *= p\n",
    "        b *= p\n",
    "\n",
    "    else:\n",
    "        print('something else')\n",
    "        break\n",
    "        \n",
    "    a %= card_len\n",
    "    b %= card_len\n",
    "\n",
    "    \n",
    "\n",
    "print((\n",
    "    pow(a, times, card_len) * final_card +\n",
    "    b * (pow(a, times, card_len) +card_len- 1)\n",
    "      * (pow(a-1, card_len - 2, card_len))\n",
    ") % card_len)\n",
    "\n"
   ]
  }
 ],
 "metadata": {
  "kernelspec": {
   "display_name": "Python 3",
   "language": "python",
   "name": "python3"
  },
  "language_info": {
   "codemirror_mode": {
    "name": "ipython",
    "version": 3
   },
   "file_extension": ".py",
   "mimetype": "text/x-python",
   "name": "python",
   "nbconvert_exporter": "python",
   "pygments_lexer": "ipython3",
   "version": "3.7.3"
  }
 },
 "nbformat": 4,
 "nbformat_minor": 2
}

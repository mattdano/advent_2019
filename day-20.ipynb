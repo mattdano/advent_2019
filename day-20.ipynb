{
 "cells": [
  {
   "cell_type": "code",
   "execution_count": 103,
   "metadata": {},
   "outputs": [],
   "source": [
    "f = open('input-20.txt','r')\n",
    "dat = f.readlines()\n",
    "f.close()"
   ]
  },
  {
   "cell_type": "code",
   "execution_count": 127,
   "metadata": {},
   "outputs": [
    {
     "data": {
      "text/plain": [
       "['                               L       S     F Z     O     X     Q     W                                   \\n',\n",
       " '                               T       S     P Z     J     J     X     L                                   \\n',\n",
       " '  #############################.#######.#####.#.#####.#####.#####.#####.#################################  \\n',\n",
       " '  #.#.....#.....#.#.#.#.....#.....#.#.......#...#.....#.#...#.#.#.#.......#...#.#.#...#.#...#.#...#.#.#.#  \\n',\n",
       " '  #.###.#.###.###.#.#.###.#####.###.###.#.#####.###.###.#.###.#.#.#####.###.#.#.#.#.###.#.###.#.#.#.#.#.#  \\n',\n",
       " '  #.....#.#...#.#.....#.#...#.....#.#.#.#.#...#.#.....#.......#...#...#.....#.#.............#.#.#.....#.#  \\n',\n",
       " '  #######.###.#.#.#####.###.#.#####.#.###.#.#.#.#####.#.#.#.#.#.#.#.###.#####.#.#.#########.#.#.#######.#  \\n',\n",
       " '  #...#.....#.....#...#.........#.......#.#.#.....#...#.#.#.#.#.#.#...#.#.......#.........#.......#.....#  \\n',\n",
       " '  #.#######.#####.###.#########.###.###.#.#.#######.#.###.###.###.###.#.#.#####.#.#####.#.#.#.#######.###  \\n',\n",
       " '  #.#...#.....#.......#.#.#.#...#...#...#.#...#...#.#...#...#.#.....#...#.....#.#.....#.#.#.#.#.#.#.....#  \\n',\n",
       " '  #.#.#####.#.###.###.#.#.#.#.#####.###.#.#.###.#####.#.#.#######.#####.#####.###########.###.#.#.#.###.#  \\n',\n",
       " '  #...#...#.#.......#...........#.....#.#.#...#...#...#.#.....#...#.....#...#.#.....#...#.#.#.#.....#.#.#  \\n',\n",
       " '  ###.#.#######.#############.#######.#.#.###.#.#####.#.#.#.###.#.#######.#.#.#.###.###.###.#####.###.###  \\n',\n",
       " '  #.........#.#.#.....#...#.......#...#...#.......#...#.#.#.#.#.#.....#...#.......#.#.......#.....#...#.#  \\n',\n",
       " '  #.###.###.#.#.#####.###.###.#####.###.#.###.#.#######.#.###.###.#.#.#.#.#.###.###.###.#####.###.#.###.#  \\n',\n",
       " '  #.#...#.........#...............#.#...#.#...#...#.....#...#...#.#.#.#.#.#...#.#.......#.#.#...#...#...#  \\n',\n",
       " '  ###.#######.#.#####.###.###.#####.#######.###########.#.###.###.#####.#################.#.#.#####.###.#  \\n',\n",
       " '  #.#...#.....#.....#...#.#.....#.......#.#...#.........#.....#.#.....#...........#.#.#.#...#.#.#.#.#...#  \\n',\n",
       " '  #.#######.###.#.###########.#########.#.###.###.###.#######.#.###.###.#.###.#####.#.#.#.#.###.#.#.#.###  \\n',\n",
       " '  #.#...#.#.#...#...#.............#.......#.....#...#...#.......#...#...#.#...#.#...#.#...#...#.#.#...#.#  \\n',\n",
       " '  #.###.#.#####.#####.#######.###.###.#####.###########.###.#####.#####.#######.#.###.###.#####.#.#.###.#  \\n',\n",
       " '  #.#.........#.....#.#.....#.#.....#.....#...#.#.....#.#.......#...#.#...........#.#.#...#.#.#.#...#...#  \\n',\n",
       " '  #.#.#####.#.#.#.###.#####.###.#####.#.#####.#.###.#.#.###.#####.#.#.#.#####.#####.#.###.#.#.#.###.#.#.#  \\n',\n",
       " '  #.#.#.#...#.#.#.#.#.#.....#.......#.#.#.#.....#...#...#...#.....#.#.#.#.....#.#.#.#.#.....#...#...#.#.#  \\n',\n",
       " '  #.###.###.#######.#####.#.#####.#####.#.#.#####.###.#.#.#######.###.#.#####.#.#.#.#.###.#####.###.#.###  \\n',\n",
       " '  #.#.#...#.#.#.....#...#.#.......#.......#.....#...#.#.#.......#.....#.#...........#...#...#.#.#.......#  \\n',\n",
       " '  #.#.#.###.#.#####.###.#######.#########.#####.#.#############.#####.#####.#########.###.###.#.###.###.#  \\n',\n",
       " '  #.#.....#.#.#.#.#...#.#.#    U         D     P I             Q     L     M    #.#...#...#.......#.#...#  \\n',\n",
       " '  #.#####.#.#.#.#.#.###.#.#    E         R     V Q             X     T     X    #.###.###.###.#######.#.#  \\n',\n",
       " '  #.#.........#.#.....#.#.#                                                     #...#.#.#.#.......#.#.#.#  \\n',\n",
       " '  #.###.#######.###.###.#.#                                                     #.###.#.#.###.#####.###.#  \\n',\n",
       " '  #.#.#...#.....#.#.......#                                                   TI......#.........#.#.....#  \\n',\n",
       " '  #.#.#.#######.#.###.###.#                                                     #.#.#.#.###.#.###.###.#.#  \\n',\n",
       " '  #.....#.....#...#.#.#...#                                                     #.#.#...#...#.....#...#..IQ\\n',\n",
       " '  #.###.###.#####.#.#.###.#                                                     #.#.#.#.#.#####.#.#.#.###  \\n',\n",
       " 'TI..#...#.....#...#.#...#..WL                                                   #.#.#.#.#.#.....#.#.#...#  \\n',\n",
       " '  #.#.###.#.#####.#.###.#.#                                                     #############.#####.#.###  \\n',\n",
       " '  #.#.....#.............#.#                                                     #...#...#.#.........#.#.#  \\n',\n",
       " '  #######.#.#.#.#.#######.#                                                     ###.###.#.#####.#.#####.#  \\n',\n",
       " '  #.....#.#.#.#.#.#.#.....#                                                     #.............#.#.#.#....UE\\n',\n",
       " '  #.###.###########.###.###                                                     ###.#.#######.#####.###.#  \\n',\n",
       " '  #...#...#.....#...#...#.#                                                     #...#.....#...........#.#  \\n',\n",
       " '  ###.###.#.#.#####.###.#.#                                                     #.#####.#.###.###.###.#.#  \\n',\n",
       " 'OG..#...#...#...#.#.#.#.#..OB                                                   #.#.....#.#.#...#.#...#.#  \\n',\n",
       " '  #.###.#####.###.#.#.###.#                                                     ###.###.#.#.#########.#.#  \\n',\n",
       " '  #.......#...............#                                                   VU....#...#.#.#...#...#...#  \\n',\n",
       " '  #.###.#.#.#.#.###.#.#####                                                     #.#########.#.#####.#####  \\n',\n",
       " '  #...#.#.#.#.#...#.#.#....ZH                                                   #...#...#...#.....#.....#  \\n',\n",
       " '  #####.#.###.#.#######.###                                                     #######.#.#.#.###.#.###.#  \\n',\n",
       " '  #...#.#.#.#.#...#.......#                                                     #.....#...#.....#.....#.#  \\n',\n",
       " '  ###.#####.###.#########.#                                                     #.#.###.#####.###.#.###.#  \\n',\n",
       " 'PV....#.#.....#.#.#.#.#...#                                                     #.#.......#.....#.#.#...#  \\n',\n",
       " '  #.#.#.#.#.#####.#.#.#.###                                                     ###.#.#############.#.#.#  \\n',\n",
       " '  #.#.....#.............#.#                                                   DS....#.#.#.....#.#.#.#.#..DR\\n',\n",
       " '  #######################.#                                                     #######.###.###.#.#######  \\n',\n",
       " '  #.................#.....#                                                     #.#.#.................#.#  \\n',\n",
       " '  #.###.###.#.#.#.#.#.###.#                                                     #.#.#.#####.###.#####.#.#  \\n',\n",
       " '  #.#...#.#.#.#.#.#.#.#...#                                                   SB....#...#.....#.#...#...#  \\n',\n",
       " '  #####.#.#########.#.#.###                                                     #.###.###.#.###.###.###.#  \\n',\n",
       " '  #...#.......#...#...#...#                                                     #.......#.#.#...#.#.#...#  \\n',\n",
       " '  #.#.#.###.###.#####.###.#                                                     #.#.#.#####.#####.#.#.###  \\n',\n",
       " 'GU..#...#...#...#.#.....#..SS                                                   #.#.#.#.#.#.#.#.#.#......QN\\n',\n",
       " '  #############.#.#######.#                                                     #####.#.#.###.#.#.#######  \\n',\n",
       " '  #.#.#...............#.#.#                                                   OJ..#.#.#...#.......#.#....PO\\n',\n",
       " '  #.#.#.#######.#.###.#.###                                                     #.#.###.#.#.#####.#.###.#  \\n',\n",
       " 'AA....#.....#.#.#.#.#.....#                                                     #...#...#.....#.#...#...#  \\n',\n",
       " '  #.###.#.#.#.#####.#####.#                                                     #.#.#.#.#.#####.#.#.#.#.#  \\n',\n",
       " '  #...#.#.#.....#.........#                                                     #.#...#.#.#...#...#.#.#.#  \\n',\n",
       " '  #.#.#.#####.#####.#.#####                                                     #.#.###.#.#.###.#.#.#.#.#  \\n',\n",
       " 'MX..#.....#.#...#.#.#......OQ                                                 QN..#.#...#.#.#.#.#.#...#..MH\\n',\n",
       " '  ###.#####.#####.###.#####                                                     ###########.#.###########  \\n',\n",
       " '  #.#.#.#.#.....#...#.#....MH                                                 PO......#.#................YJ\\n',\n",
       " '  #.###.#.#.#######.#####.#                                                     #.#.###.#.#.#.###.###.#.#  \\n',\n",
       " '  #...#.........#.........#                                                     #.#.#.....#.#.#.....#.#.#  \\n',\n",
       " '  #.#.#.#.###############.#                                                     ###.#.#########.#.#.#.#.#  \\n',\n",
       " 'OB..#.#.#...#.#.#.#.....#.#                                                     #...#.....#.#.#.#.#.#.#.#  \\n',\n",
       " '  #.#.#.#.###.#.#.#.#.#.#.#                                                     #.#######.#.#.###.#.#####  \\n',\n",
       " '  #.#...#...........#.#...#                                                     #...............#.#.....#  \\n',\n",
       " '  ###.###.#.#.#.#.#####.#.#        X D       H       O         G F         Y    #.#.#.###.###.#####.###.#  \\n',\n",
       " '  #.....#.#.#.#.#...#...#.#        J C       Y       G         U P         J    #.#.#.#.....#.....#.#.#.#  \\n',\n",
       " '  ###.###.###.#.#.###.#.###########.#.#######.#######.#########.#.#########.#########.###.#######.###.###  \\n',\n",
       " '  #.#...#...#.#.#...#.#.#.#.#.....#.#...#.........#...#.........#.....#.......#.....#.#.........#.#.#...#  \\n',\n",
       " '  #.#.###.#####.#.#.#####.#.#.###.#.###.#########.#.#####.#########.#####.#######.#####.###.#.#####.###.#  \\n',\n",
       " '  #...#.....#.#.#.#...#.#.......#...#.......#.....#.#...........#...#.#.#.............#.#...#...........#  \\n',\n",
       " '  ###.###.###.###.#####.#.#.###.#######.#.#####.###.#.#####.###.###.#.#.###.#.###.#.###.#.###.#.#######.#  \\n',\n",
       " '  #.#...#...#.........#...#...#.......#.#.#...#...#.#.#...#.#.....#.#.....#.#...#.#.#...#.#...#...#.....#  \\n',\n",
       " '  #.#.#.#.###.###.#.#######.#.#.###.#.###.#.#####.#.###.#####.#####.#.#.###.###########.#####.###.###.#.#  \\n',\n",
       " '  #...#.#.#.....#.#...#.#...#.#.#.#.#.#.......#...#...#.......#.....#.#...#.......#.#.#.#.......#.#.#.#.#  \\n',\n",
       " '  #.#.###.#.#.#.#####.#.#.#.#####.#.#.###.###.###.#.###.#.###.#####.#.#.###.#######.#.#.#####.###.#.###.#  \\n',\n",
       " '  #.#...#.#.#.#.#.#.#.#.#.#...#.....#.#.....#.#.#.#...#.#...#...#.....#.#.......#.#.#...#...#.#...#.....#  \\n',\n",
       " '  #######.#####.#.#.###.###.#####.#.#####.#####.#.#.#####.#######.#####.###.#####.#.#####.#.#####.#.###.#  \\n',\n",
       " '  #.#.#.#.....#.#.#.......#.#.#...#.....#.#.#.....#.....#.#.#.#...#.....#.................#...#...#...#.#  \\n',\n",
       " '  #.#.#.#.#.#####.#####.#####.#####.#####.#.###.###.#####.#.#.#######.###.#.#######.###.#.#######.#.###.#  \\n',\n",
       " '  #.......#.#.#.#...#.......#.........#.....#.#...#.#.#.....#.#.#.#.#...#.#.....#.#...#.#.......#.#.#...#  \\n',\n",
       " '  #.#.###.###.#.###.###.#########.###.###.###.###.#.#.#.###.#.#.#.#.###.#.###.#.#.#######.#########.###.#  \\n',\n",
       " '  #.#.#.#...#.......................#.#...#.#.....#...#.#.......#.......#...#.#.#.#...#.#.#.....#...#...#  \\n',\n",
       " '  #.###.#.###.###.###.#######.#########.#.#.#.###.###.###.#######.###.#####.#####.#.###.#####.#####.###.#  \\n',\n",
       " '  #...#...#.#.#.....#.#...#...#.....#...#.#.....#.#.#.#.#.#.#.#.....#...#.....#...........#.......#.#...#  \\n',\n",
       " '  #.###.###.#########.###.###.#.#.###.#.#####.#####.#.#.#.#.#.#######.#.#.#######.###.#####.###########.#  \\n',\n",
       " '  #.#.....#.#.#.......#.....#...#...#.#.#.....#.........#.#.#.#...#...#.#...........#...#.#...#.....#...#  \\n',\n",
       " '  ###.###.#.#.#######.###.#######.#####.###.#########.#.#.#.#.#.#######.###.#.###.###.###.#.###.#########  \\n',\n",
       " '  #...#.......#.......#.#...........#.....#.#.....#...#.#...#...#...#...#...#...#.#.....................#  \\n',\n",
       " '  #.###.#.###.#.#.#####.#####.###########.#.#.###.#.###.#.###.#.###.#.###.#.###########.###.###.#########  \\n',\n",
       " '  #.#...#.#...#.#.#...................#...#...#...#.#...#.....#.#.....#...#...........#...#...#.........#  \\n',\n",
       " '  #################################.###.#########.#####.#######.###.#####.###############################  \\n',\n",
       " '                                   H   V         Z     D       S   D     O                                 \\n',\n",
       " '                                   Y   U         H     C       B   S     Q                                 \\n']"
      ]
     },
     "execution_count": 127,
     "metadata": {},
     "output_type": "execute_result"
    }
   ],
   "source": [
    "dat"
   ]
  },
  {
   "cell_type": "code",
   "execution_count": 105,
   "metadata": {},
   "outputs": [],
   "source": [
    "from collections import defaultdict\n",
    "\n",
    "grid = defaultdict(list)\n",
    "for i,line in enumerate(dat):\n",
    "    for char in line.replace('\\n',''):\n",
    "        grid[i].append(char)"
   ]
  },
  {
   "cell_type": "code",
   "execution_count": 106,
   "metadata": {},
   "outputs": [],
   "source": [
    "letters = 'QWERTYUIOPASDFGHJKLZXCVBNM'"
   ]
  },
  {
   "cell_type": "code",
   "execution_count": 107,
   "metadata": {},
   "outputs": [
    {
     "data": {
      "text/plain": [
       "True"
      ]
     },
     "execution_count": 107,
     "metadata": {},
     "output_type": "execute_result"
    }
   ],
   "source": [
    "'A' in letters"
   ]
  },
  {
   "cell_type": "code",
   "execution_count": 108,
   "metadata": {},
   "outputs": [
    {
     "data": {
      "text/plain": [
       "False"
      ]
     },
     "execution_count": 108,
     "metadata": {},
     "output_type": "execute_result"
    }
   ],
   "source": [
    "'.'.isalpha()"
   ]
  },
  {
   "cell_type": "code",
   "execution_count": 117,
   "metadata": {},
   "outputs": [
    {
     "data": {
      "text/plain": [
       "{'LT_outer': (31, 2),\n",
       " 'SS_outer': (39, 2),\n",
       " 'FP_outer': (45, 2),\n",
       " 'ZZ_outer': (47, 2),\n",
       " 'OJ_outer': (53, 2),\n",
       " 'XJ_outer': (59, 2),\n",
       " 'QX_outer': (65, 2),\n",
       " 'WL_outer': (71, 2),\n",
       " 'UE_inner': (31, 26),\n",
       " 'DR_inner': (41, 26),\n",
       " 'PV_inner': (47, 26),\n",
       " 'IQ_inner': (49, 26),\n",
       " 'QX_inner': (63, 26),\n",
       " 'LT_inner': (69, 26),\n",
       " 'MX_inner': (75, 26),\n",
       " 'TI_inner': (80, 31),\n",
       " 'IQ_outer': (104, 33),\n",
       " 'TI_outer': (2, 35),\n",
       " 'WL_inner': (26, 35),\n",
       " 'UE_outer': (104, 39),\n",
       " 'OG_outer': (2, 43),\n",
       " 'OB_inner': (26, 43),\n",
       " 'VU_inner': (80, 45),\n",
       " 'ZH_inner': (26, 47),\n",
       " 'PV_outer': (2, 51),\n",
       " 'DS_inner': (80, 53),\n",
       " 'DR_outer': (104, 53),\n",
       " 'SB_inner': (80, 57),\n",
       " 'GU_outer': (2, 61),\n",
       " 'SS_inner': (26, 61),\n",
       " 'QN_outer': (104, 61),\n",
       " 'OJ_inner': (80, 63),\n",
       " 'PO_outer': (104, 63),\n",
       " 'AA_outer': (2, 65),\n",
       " 'MX_outer': (2, 69),\n",
       " 'OQ_inner': (26, 69),\n",
       " 'QN_inner': (80, 69),\n",
       " 'MH_outer': (104, 69),\n",
       " 'MH_inner': (26, 71),\n",
       " 'PO_inner': (80, 71),\n",
       " 'YJ_outer': (104, 71),\n",
       " 'OB_outer': (2, 75),\n",
       " 'XJ_inner': (35, 80),\n",
       " 'DC_inner': (37, 80),\n",
       " 'HY_inner': (45, 80),\n",
       " 'OG_inner': (53, 80),\n",
       " 'GU_inner': (63, 80),\n",
       " 'FP_inner': (65, 80),\n",
       " 'YJ_inner': (75, 80),\n",
       " 'HY_outer': (35, 104),\n",
       " 'VU_outer': (39, 104),\n",
       " 'ZH_outer': (49, 104),\n",
       " 'DC_outer': (55, 104),\n",
       " 'SB_outer': (63, 104),\n",
       " 'DS_outer': (67, 104),\n",
       " 'OQ_outer': (73, 104)}"
      ]
     },
     "execution_count": 117,
     "metadata": {},
     "output_type": "execute_result"
    }
   ],
   "source": [
    "# need to link all paths \n",
    "# and make lookup for all portals\n",
    "portals = dict()\n",
    "edgesize = 25\n",
    "#edgesize = 6\n",
    "lengthsize = 108\n",
    "#lengthsize = 37\n",
    "\n",
    "for y,line in enumerate(grid.keys()):\n",
    "    for x,c in enumerate(grid[y]):\n",
    "        isportal=False\n",
    "        \n",
    "        if c =='.' and (grid[y][x+1].isalpha() and grid[y][x+2].isalpha()):\n",
    "            portname_name = grid[y][x+1]+grid[y][x+2]\n",
    "            isportal = True\n",
    "            #print('1',portname_name,x,y)\n",
    "        elif c =='.' and grid[y][x-1].isalpha() and grid[y][x-2].isalpha():\n",
    "            portname_name = grid[y][x-2]+grid[y][x-1]\n",
    "            isportal = True\n",
    "            #print('2',portname_name)\n",
    "        elif c =='.' and grid[y-1][x].isalpha() and grid[y-2][x].isalpha():\n",
    "            portname_name = grid[y-2][x]+grid[y-1][x]\n",
    "            isportal = True\n",
    "            #print('3',portname_name)\n",
    "        elif c =='.' and grid[y+1][x].isalpha() and grid[y+2][x].isalpha():\n",
    "            portname_name = grid[y+1][x]+grid[y+2][x]\n",
    "            isportal = True\n",
    "            #print('4',portname_name)\n",
    "            \n",
    "        if isportal and x > edgesize and x< (lengthsize-edgesize) and y>edgesize and y< (lengthsize-edgesize):\n",
    "            portals[portname_name+'_inner'] = (x,y)\n",
    "        elif isportal:\n",
    "            portals[portname_name+'_outer'] = (x,y)\n",
    "\n",
    "portals"
   ]
  },
  {
   "cell_type": "code",
   "execution_count": 118,
   "metadata": {},
   "outputs": [
    {
     "data": {
      "text/plain": [
       "56"
      ]
     },
     "execution_count": 118,
     "metadata": {},
     "output_type": "execute_result"
    }
   ],
   "source": [
    "len(portals)"
   ]
  },
  {
   "cell_type": "code",
   "execution_count": 119,
   "metadata": {},
   "outputs": [],
   "source": [
    "import networkx as nx"
   ]
  },
  {
   "cell_type": "code",
   "execution_count": 120,
   "metadata": {},
   "outputs": [],
   "source": [
    "graph = nx.Graph()"
   ]
  },
  {
   "cell_type": "code",
   "execution_count": 121,
   "metadata": {},
   "outputs": [],
   "source": [
    "graph = nx.Graph()\n",
    "portalcodes = set()\n",
    "for p in list(portals.keys()):\n",
    "    portalcodes.add(p[0:2])\n",
    "    \n",
    "portalcodes\n",
    "\n",
    "for pc in portalcodes:\n",
    "    try:\n",
    "        graph.add_edge(portals[pc+'_inner'],portals[pc+'_outer'])\n",
    "    except KeyError:\n",
    "        pass"
   ]
  },
  {
   "cell_type": "code",
   "execution_count": 122,
   "metadata": {},
   "outputs": [],
   "source": [
    "# add all the walking parts too\n",
    "import numpy as np\n",
    "\n",
    "grid_array = np.zeros((105,105))\n",
    "\n",
    "for y,m in enumerate(grid.keys()):\n",
    "    for x,tile in enumerate(grid[m]):\n",
    "        if tile == '.':\n",
    "            grid_array[x,y] = 1\n",
    "            \n",
    "            if grid[m][x-1] == '.':\n",
    "                graph.add_edge((x,y), (x-1,y))\n",
    "            if grid[m][x+1] == '.':\n",
    "                graph.add_edge((x,y), (x+1,y))\n",
    "            if grid[m+1][x] == '.':\n",
    "                graph.add_edge((x,y), (x,y+1))\n",
    "            if grid[m-1][x] == '.':\n",
    "                graph.add_edge((x,y), (x,y-1))"
   ]
  },
  {
   "cell_type": "code",
   "execution_count": 123,
   "metadata": {},
   "outputs": [],
   "source": [
    "#graph.sho (AA_outer to ZZ_outer)\n",
    "\n",
    "aa_to_zz = nx.shortest_path(graph, portals['AA_outer'], portals['ZZ_outer'])"
   ]
  },
  {
   "cell_type": "code",
   "execution_count": 124,
   "metadata": {},
   "outputs": [
    {
     "data": {
      "text/plain": [
       "498"
      ]
     },
     "execution_count": 124,
     "metadata": {},
     "output_type": "execute_result"
    }
   ],
   "source": [
    "len(aa_to_zz)-1"
   ]
  },
  {
   "cell_type": "code",
   "execution_count": 125,
   "metadata": {},
   "outputs": [],
   "source": [
    "import matplotlib.pyplot as plt\n",
    "%matplotlib inline"
   ]
  },
  {
   "cell_type": "code",
   "execution_count": 126,
   "metadata": {},
   "outputs": [
    {
     "data": {
      "text/plain": [
       "<matplotlib.collections.PathCollection at 0xa2a71a588>"
      ]
     },
     "execution_count": 126,
     "metadata": {},
     "output_type": "execute_result"
    },
    {
     "data": {
      "image/png": "[encoded data removed]",
      "text/plain": [
       "<Figure size 576x576 with 1 Axes>"
      ]
     },
     "metadata": {
      "needs_background": "light"
     },
     "output_type": "display_data"
    }
   ],
   "source": [
    "plt.figure(figsize=(8,8))\n",
    "plt.imshow(grid_array.T)\n",
    "\n",
    "\n",
    "for x,y in aa_to_zz:\n",
    "    plt.scatter(x,y,c='r')\n",
    "    \n",
    "plt.scatter(portals['AA_outer'][0],portals['AA_outer'][1],c='g')\n",
    "plt.scatter(portals['ZZ_outer'][0],portals['ZZ_outer'][1],c='b')\n",
    "\n"
   ]
  },
  {
   "cell_type": "code",
   "execution_count": 184,
   "metadata": {},
   "outputs": [],
   "source": [
    "# part 2, recursive path\n",
    "\n",
    "graph = nx.Graph()\n",
    "portalcodes = set()\n",
    "for p in list(portals.keys()):\n",
    "    portalcodes.add(p[0:2])\n",
    "    \n",
    "portalcodes.discard('AA')\n",
    "portalcodes.discard('ZZ')\n",
    "portalcodes\n",
    "\n",
    "for n in range(0,150):\n",
    "    for pc in portalcodes:\n",
    "        try:\n",
    "            if n==0:\n",
    "                graph.add_edge((portals[pc+'_outer'][0],portals[pc+'_outer'][1],n),(portals[pc+'_inner'][0],portals[pc+'_inner'][1],n+1))\n",
    "            if n>0:\n",
    "                graph.add_edge((portals[pc+'_outer'][0],portals[pc+'_outer'][1],n),(portals[pc+'_inner'][0],portals[pc+'_inner'][1],n+1))\n",
    "                graph.add_edge((portals[pc+'_inner'][0],portals[pc+'_inner'][1],n),(portals[pc+'_outer'][0],portals[pc+'_outer'][1],n-1))\n",
    "\n",
    "\n",
    "\n",
    "        except KeyError:\n",
    "            pass"
   ]
  },
  {
   "cell_type": "code",
   "execution_count": 185,
   "metadata": {},
   "outputs": [],
   "source": [
    "import numpy as np\n",
    "\n",
    "grid_array = np.zeros((105,105))\n",
    "\n",
    "for layer in range(0,150):\n",
    "    for y,m in enumerate(grid.keys()):\n",
    "        for x,tile in enumerate(grid[m]):\n",
    "            if tile == '.':\n",
    "                grid_array[x,y] = 1\n",
    "\n",
    "                if grid[m][x-1] == '.':\n",
    "                    graph.add_edge((x,y,layer), (x-1,y,layer))\n",
    "                    graph.add_edge((x-1,y,layer), (x,y,layer))\n",
    "                if grid[m][x+1] == '.':\n",
    "                    graph.add_edge((x,y,layer), (x+1,y,layer))\n",
    "                    graph.add_edge((x+1,y,layer), (x,y,layer))\n",
    "                if grid[m+1][x] == '.':\n",
    "                    graph.add_edge((x,y,layer), (x,y+1,layer))\n",
    "                    graph.add_edge((x,y+1,layer), (x,y,layer))\n",
    "                if grid[m-1][x] == '.':\n",
    "                    graph.add_edge((x,y,layer), (x,y-1,layer))\n",
    "                    graph.add_edge((x,y-1,layer), (x,y,layer))"
   ]
  },
  {
   "cell_type": "code",
   "execution_count": 186,
   "metadata": {},
   "outputs": [
    {
     "data": {
      "text/plain": [
       "(2, 65, 0)"
      ]
     },
     "execution_count": 186,
     "metadata": {},
     "output_type": "execute_result"
    }
   ],
   "source": [
    "(portals['AA_outer'][0],portals['AA_outer'][1],0)"
   ]
  },
  {
   "cell_type": "code",
   "execution_count": 187,
   "metadata": {},
   "outputs": [
    {
     "data": {
      "text/plain": [
       "4206"
      ]
     },
     "execution_count": 187,
     "metadata": {},
     "output_type": "execute_result"
    }
   ],
   "source": [
    "aa_to_zz = nx.shortest_path(graph, (portals['AA_outer'][0],portals['AA_outer'][1],0), (portals['ZZ_outer'][0],portals['ZZ_outer'][1],0))\n",
    "\n",
    "len(aa_to_zz)-1"
   ]
  },
  {
   "cell_type": "code",
   "execution_count": 188,
   "metadata": {},
   "outputs": [],
   "source": [
    "#5564"
   ]
  },
  {
   "cell_type": "code",
   "execution_count": null,
   "metadata": {},
   "outputs": [],
   "source": []
  },
  {
   "cell_type": "code",
   "execution_count": null,
   "metadata": {},
   "outputs": [],
   "source": []
  }
 ],
 "metadata": {
  "kernelspec": {
   "display_name": "Python 3",
   "language": "python",
   "name": "python3"
  },
  "language_info": {
   "codemirror_mode": {
    "name": "ipython",
    "version": 3
   },
   "file_extension": ".py",
   "mimetype": "text/x-python",
   "name": "python",
   "nbconvert_exporter": "python",
   "pygments_lexer": "ipython3",
   "version": "3.7.3"
  }
 },
 "nbformat": 4,
 "nbformat_minor": 2
}

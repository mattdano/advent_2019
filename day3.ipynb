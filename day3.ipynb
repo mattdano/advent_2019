{
 "cells": [
  {
   "cell_type": "code",
   "execution_count": 137,
   "metadata": {},
   "outputs": [],
   "source": [
    "f = open('input-3.txt','r')\n",
    "in_data = f.readlines()\n",
    "\n",
    "import numpy as np"
   ]
  },
  {
   "cell_type": "code",
   "execution_count": 96,
   "metadata": {},
   "outputs": [],
   "source": [
    "import matplotlib.pyplot as plt\n",
    "\n",
    "%matplotlib inline"
   ]
  },
  {
   "cell_type": "code",
   "execution_count": 58,
   "metadata": {},
   "outputs": [],
   "source": [
    "import copy"
   ]
  },
  {
   "cell_type": "code",
   "execution_count": 133,
   "metadata": {},
   "outputs": [],
   "source": [
    "grid = np.zeros((21,21))\n",
    "startpos = [10,10]\n",
    "wirevalue=1\n",
    "for wire in ['R8,U5,L5,D3','U7,R6,D4,L4']:\n",
    "    current_pos = copy.deepcopy(startpos)\n",
    "    wires = wire.split(',')\n",
    "    #print(wires)\n",
    "    for w in wires:\n",
    "        unit=int(w[1:3])\n",
    "        if w[0] == 'R':\n",
    "            grid[current_pos[0]:current_pos[0]+unit,current_pos[1]]+=wirevalue\n",
    "            current_pos[0] = current_pos[0]+unit\n",
    "        elif w[0] == 'L':\n",
    "            grid[current_pos[0]-unit:current_pos[0],current_pos[1]]+=wirevalue\n",
    "            current_pos[0] = current_pos[0]-unit\n",
    "        elif w[0] == 'U':\n",
    "            grid[current_pos[0],current_pos[1]:current_pos[1]+unit]+=wirevalue\n",
    "            current_pos[1] = current_pos[1]+unit\n",
    "        elif w[0] == 'D':\n",
    "            grid[current_pos[0],current_pos[1]-unit:current_pos[1]]+=wirevalue\n",
    "            current_pos[1] = current_pos[1]-unit\n",
    "\n",
    "    #wirevalue+=2"
   ]
  },
  {
   "cell_type": "code",
   "execution_count": 134,
   "metadata": {},
   "outputs": [
    {
     "data": {
      "text/plain": [
       "<matplotlib.image.AxesImage at 0x851a6f710>"
      ]
     },
     "execution_count": 134,
     "metadata": {},
     "output_type": "execute_result"
    },
    {
     "data": {
      "image/png": "[encoded data removed]",
      "text/plain": [
       "<Figure size 432x288 with 1 Axes>"
      ]
     },
     "metadata": {
      "needs_background": "light"
     },
     "output_type": "display_data"
    }
   ],
   "source": [
    "plt.imshow(grid,interpolation=None)"
   ]
  },
  {
   "cell_type": "code",
   "execution_count": 135,
   "metadata": {},
   "outputs": [
    {
     "data": {
      "text/plain": [
       "array([[0, 3, 6],\n",
       "       [0, 3, 5]])"
      ]
     },
     "execution_count": 135,
     "metadata": {},
     "output_type": "execute_result"
    }
   ],
   "source": [
    "points = np.asarray(np.where((grid%2==0)&(grid>0)))-10\n",
    "points"
   ]
  },
  {
   "cell_type": "code",
   "execution_count": 171,
   "metadata": {},
   "outputs": [
    {
     "data": {
      "text/plain": [
       "159"
      ]
     },
     "execution_count": 171,
     "metadata": {},
     "output_type": "execute_result"
    }
   ],
   "source": [
    "grid = np.zeros((1001,1001))\n",
    "startpos = [500,500]\n",
    "wirevalue=1\n",
    "for wirenum,wire in enumerate(['R75,D30,R83,U83,L12,D49,R71,U7,L72','U62,R66,U55,R34,D71,R55,D58,R83']):\n",
    "    current_pos = copy.deepcopy(startpos)\n",
    "    wires = wire.split(',')\n",
    "    #print(wires)\n",
    "    for w in wires:\n",
    "        \n",
    "        unit=int(w[1:3])\n",
    "        if wirenum ==0:\n",
    "            if w[0] == 'R':\n",
    "                grid[current_pos[0]:current_pos[0]+unit,current_pos[1]]=wirevalue\n",
    "                current_pos[0] = current_pos[0]+unit\n",
    "            elif w[0] == 'L':\n",
    "                grid[current_pos[0]-unit:current_pos[0],current_pos[1]]=wirevalue\n",
    "                current_pos[0] = current_pos[0]-unit\n",
    "            elif w[0] == 'U':\n",
    "                grid[current_pos[0],current_pos[1]:current_pos[1]+unit]=wirevalue\n",
    "                current_pos[1] = current_pos[1]+unit\n",
    "            elif w[0] == 'D':\n",
    "                grid[current_pos[0],current_pos[1]-unit:current_pos[1]]=wirevalue\n",
    "                current_pos[1] = current_pos[1]-unit\n",
    "        elif wirenum==1:\n",
    "            if w[0] == 'R':\n",
    "                grid[current_pos[0]:current_pos[0]+unit,current_pos[1]]*=wirevalue\n",
    "                current_pos[0] = current_pos[0]+unit\n",
    "            elif w[0] == 'L':\n",
    "                grid[current_pos[0]-unit:current_pos[0],current_pos[1]]*=wirevalue\n",
    "                current_pos[0] = current_pos[0]-unit\n",
    "            elif w[0] == 'U':\n",
    "                grid[current_pos[0],current_pos[1]:current_pos[1]+unit]*=wirevalue\n",
    "                current_pos[1] = current_pos[1]+unit\n",
    "            elif w[0] == 'D':\n",
    "                grid[current_pos[0],current_pos[1]-unit:current_pos[1]]*=wirevalue\n",
    "                current_pos[1] = current_pos[1]-unit\n",
    "\n",
    "\n",
    "\n",
    "    wirevalue=2\n",
    "points = np.asarray(np.where((grid==2)))-startpos[0]\n",
    "np.sort(np.sum(abs(points),axis=0))[1]"
   ]
  },
  {
   "cell_type": "code",
   "execution_count": 180,
   "metadata": {},
   "outputs": [
    {
     "data": {
      "text/plain": [
       "135"
      ]
     },
     "execution_count": 180,
     "metadata": {},
     "output_type": "execute_result"
    }
   ],
   "source": [
    "grid = np.zeros((1001,1001))\n",
    "startpos = [500,500]\n",
    "wirevalue=1\n",
    "for wirenum,wire in enumerate(['R98,U47,R26,D63,R33,U87,L62,D20,R33,U53,R51','U98,R91,D20,R16,D67,R40,U7,R15,U6,R7']):\n",
    "    current_pos = copy.deepcopy(startpos)\n",
    "    wires = wire.split(',')\n",
    "    #print(wires)\n",
    "    for w in wires:\n",
    "        \n",
    "        unit=int(w[1:3])\n",
    "        if wirenum ==0:\n",
    "            if w[0] == 'R':\n",
    "                grid[current_pos[0]:current_pos[0]+unit,current_pos[1]]=wirevalue\n",
    "                current_pos[0] = current_pos[0]+unit\n",
    "            elif w[0] == 'L':\n",
    "                grid[current_pos[0]-unit:current_pos[0],current_pos[1]]=wirevalue\n",
    "                current_pos[0] = current_pos[0]-unit\n",
    "            elif w[0] == 'U':\n",
    "                grid[current_pos[0],current_pos[1]:current_pos[1]+unit]=wirevalue\n",
    "                current_pos[1] = current_pos[1]+unit\n",
    "            elif w[0] == 'D':\n",
    "                grid[current_pos[0],current_pos[1]-unit:current_pos[1]]=wirevalue\n",
    "                current_pos[1] = current_pos[1]-unit\n",
    "        elif wirenum==1:\n",
    "            if w[0] == 'R':\n",
    "                grid[current_pos[0]:current_pos[0]+unit,current_pos[1]]*=wirevalue\n",
    "                current_pos[0] = current_pos[0]+unit\n",
    "            elif w[0] == 'L':\n",
    "                grid[current_pos[0]-unit:current_pos[0],current_pos[1]]*=wirevalue\n",
    "                current_pos[0] = current_pos[0]-unit\n",
    "            elif w[0] == 'U':\n",
    "                grid[current_pos[0],current_pos[1]:current_pos[1]+unit]*=wirevalue\n",
    "                current_pos[1] = current_pos[1]+unit\n",
    "            elif w[0] == 'D':\n",
    "                grid[current_pos[0],current_pos[1]-unit:current_pos[1]]*=wirevalue\n",
    "                current_pos[1] = current_pos[1]-unit\n",
    "\n",
    "    wirevalue=2\n",
    "points = np.asarray(np.where((grid==2)))-startpos[0]\n",
    "np.sort(np.sum(abs(points),axis=0))[1]"
   ]
  },
  {
   "cell_type": "code",
   "execution_count": 136,
   "metadata": {},
   "outputs": [
    {
     "data": {
      "text/plain": [
       "6"
      ]
     },
     "execution_count": 136,
     "metadata": {},
     "output_type": "execute_result"
    }
   ],
   "source": [
    "np.sort(np.sum(abs(points),axis=0))[1]"
   ]
  },
  {
   "cell_type": "code",
   "execution_count": 177,
   "metadata": {},
   "outputs": [
    {
     "data": {
      "text/plain": [
       "['R997,D443,L406,D393,L66,D223,R135,U452,L918,U354,L985,D402,R257,U225,R298,U369,L762,D373,R781,D935,R363,U952,L174,D529,L127,D549,R874,D993,L890,U881,R549,U537,L174,U766,R244,U131,R861,D487,R849,U304,L653,D497,L711,D916,R12,D753,R19,D528,L944,D155,L507,U552,R844,D822,R341,U948,L922,U866,R387,U973,R534,U127,R48,U744,R950,U522,R930,U320,R254,D577,L142,D29,L24,D118,L583,D683,L643,U974,L683,U985,R692,D271,L279,U62,R157,D932,L556,U574,R615,D428,R296,U551,L452,U533,R475,D302,R39,U846,R527,D433,L453,D567,R614,U807,R463,U712,L247,D436,R141,U180,R783,D65,L379,D935,R989,U945,L901,D160,R356,D828,R45,D619,R655,U104,R37,U793,L360,D242,L137,D45,L671,D844,R112,U627,R976,U10,R942,U26,L470,D284,R832,D59,R97,D9,L320,D38,R326,U317,L752,U213,R840,U789,L152,D64,L628,U326,L640,D610,L769,U183,R844,U834,R342,U630,L945,D807,L270,D472,R369,D920,R283,U440,L597,U137,L133,U458,R266,U91,R137,U536,R861,D325,R902,D971,R891,U648,L573,U139,R951,D671,R996,U864,L749,D681,R255,U306,R154,U706,L817,D798,R109,D594,R496,D867,L217,D572,L166,U723,R66,D210,R732,D741,L21,D574,L523,D646,R313,D961,L474,U990,R125,U928,L58,U726,R200,D364,R244,U622,R823,U39,R918,U549,R667,U935,R372,U241,L56,D713,L735,U735,L812,U700,L408,U980,L242,D697,L580,D34,L266,U190,R876,U857,L967,U493,R871,U563,L241,D636,L467,D793,R304,U103,L950,D503,R487,D868,L358,D747,L338,D273,L485,D686,L974,D724,L534,U561,R729,D162,R731,D17,R305,U712,R472,D158,R921,U827,L944,D303,L526,D782,R575,U948,L401,D142,L48,U766,R799,D242,R821,U673,L120\\n',\n",
       " 'L991,D492,L167,D678,L228,U504,R972,U506,R900,U349,R329,D802,R616,U321,R252,U615,R494,U577,R322,D593,R348,U140,L676,U908,L528,D247,L498,D79,L247,D432,L569,U206,L668,D269,L25,U180,R181,D268,R655,D346,R716,U240,L227,D239,L223,U760,L10,D92,L633,D425,R198,U222,L542,D790,L596,U667,L87,D324,R456,U366,R888,U319,R784,D948,R641,D433,L519,U950,L689,D601,L860,U233,R21,D214,L89,U756,L361,U258,L950,D483,R252,U206,L184,U574,L540,U926,R374,U315,R357,U512,R503,U917,R745,D809,L94,D209,R616,U47,R61,D993,L589,D1,R387,D731,R782,U771,L344,U21,L88,U614,R678,U259,L311,D503,L477,U829,R861,D46,R738,D138,L564,D279,L669,U328,L664,U720,L746,U638,R790,D242,R504,D404,R409,D753,L289,U128,L603,D696,L201,D638,L902,D279,L170,D336,L311,U683,L272,U396,R180,D8,R816,D904,L129,D809,R168,D655,L459,D545,L839,U910,L642,U704,R301,D235,R469,D556,L624,D669,L174,D272,R515,D60,L668,U550,L903,D881,L600,D734,R815,U585,R39,D87,R198,D418,L150,D964,L818,D250,L198,D127,R521,U478,L489,D676,L84,U973,R384,D167,R372,D981,L733,D682,R746,D803,L834,D421,R153,U752,L381,D990,R216,U469,L446,D763,R332,D813,L701,U872,L39,D524,L469,U508,L700,D382,L598,U563,R652,D901,R638,D358,L486,D735,L232,U345,R746,U818,L13,U618,R881,D647,R191,U652,R358,U423,L137,D224,R415,U82,R778,D403,R661,D157,R393,D954,L308,D986,L293,U870,R13,U666,L232,U144,R887,U364,L507,U520,R823,D11,L927,D904,R618,U875,R143,D457,R459,D755,R677,D561,L499,U267,L721,U274,L700,D870,L612,D673,L811,D695,R929,D84,L578,U201,L745,U963,L185,D687,L662,U313,L853,U314,R336\\n']"
      ]
     },
     "execution_count": 177,
     "metadata": {},
     "output_type": "execute_result"
    }
   ],
   "source": [
    "in_data"
   ]
  },
  {
   "cell_type": "code",
   "execution_count": 206,
   "metadata": {},
   "outputs": [],
   "source": [
    "grid = np.zeros((3001,3001))\n",
    "startpos = [1500,1500]\n",
    "wirevalue=1\n",
    "# need to make two wires out just to be sure. \n",
    "\n",
    "\n",
    "\n",
    "wire = in_data[0]\n",
    "current_pos = copy.deepcopy(startpos)\n",
    "wires = wire.split(',')\n",
    "#print(wires)\n",
    "for w in wires:\n",
    "\n",
    "    unit=int(w[1:3])\n",
    "    if w[0] == 'R':\n",
    "        grid[current_pos[0]:current_pos[0]+unit,current_pos[1]]=1\n",
    "        current_pos[0] = current_pos[0]+unit\n",
    "    elif w[0] == 'L':\n",
    "        grid[current_pos[0]-unit:current_pos[0],current_pos[1]]=1\n",
    "        current_pos[0] = current_pos[0]-unit\n",
    "    elif w[0] == 'U':\n",
    "        grid[current_pos[0],current_pos[1]:current_pos[1]+unit]=1\n",
    "        current_pos[1] = current_pos[1]+unit\n",
    "    elif w[0] == 'D':\n",
    "        grid[current_pos[0],current_pos[1]-unit:current_pos[1]]=1\n",
    "        current_pos[1] = current_pos[1]-unit\n",
    "\n",
    "firstwire = copy.deepcopy(grid)\n",
    "            \n",
    "grid = np.zeros((3001,3001))\n",
    "startpos = [1500,1500]\n",
    "wire = in_data[1]\n",
    "current_pos = copy.deepcopy(startpos)\n",
    "wires = wire.split(',')\n",
    "#print(wires)\n",
    "for w in wires:\n",
    "        if w[0] == 'R':\n",
    "            grid[current_pos[0]:current_pos[0]+unit,current_pos[1]]=1\n",
    "            current_pos[0] = current_pos[0]+unit\n",
    "        elif w[0] == 'L':\n",
    "            grid[current_pos[0]-unit:current_pos[0],current_pos[1]]=1\n",
    "            current_pos[0] = current_pos[0]-unit\n",
    "        elif w[0] == 'U':\n",
    "            grid[current_pos[0],current_pos[1]:current_pos[1]+unit]=1\n",
    "            current_pos[1] = current_pos[1]+unit\n",
    "        elif w[0] == 'D':\n",
    "            grid[current_pos[0],current_pos[1]-unit:current_pos[1]]=1\n",
    "            current_pos[1] = current_pos[1]-unit\n",
    "\n",
    "secondwire = copy.deepcopy(grid)\n"
   ]
  },
  {
   "cell_type": "code",
   "execution_count": 207,
   "metadata": {},
   "outputs": [
    {
     "data": {
      "text/plain": [
       "16300.0"
      ]
     },
     "execution_count": 207,
     "metadata": {},
     "output_type": "execute_result"
    }
   ],
   "source": [
    "np.sum(firstwire)"
   ]
  },
  {
   "cell_type": "code",
   "execution_count": 222,
   "metadata": {},
   "outputs": [
    {
     "data": {
      "text/plain": [
       "(array([1295, 1295, 1295, ..., 2650, 2650, 2650]),\n",
       " array([1456, 1457, 1458, ..., 1658, 1659, 1660]))"
      ]
     },
     "execution_count": 222,
     "metadata": {},
     "output_type": "execute_result"
    }
   ],
   "source": [
    "np.where(firstwire==1)"
   ]
  },
  {
   "cell_type": "code",
   "execution_count": 212,
   "metadata": {},
   "outputs": [
    {
     "ename": "TypeError",
     "evalue": "unhashable type: 'numpy.ndarray'",
     "output_type": "error",
     "traceback": [
      "\u001b[0;31m---------------------------------------------------------------------------\u001b[0m",
      "\u001b[0;31mTypeError\u001b[0m                                 Traceback (most recent call last)",
      "\u001b[0;32m<ipython-input-212-0b8eb914bec2>\u001b[0m in \u001b[0;36m<module>\u001b[0;34m\u001b[0m\n\u001b[0;32m----> 1\u001b[0;31m \u001b[0mboth\u001b[0m\u001b[0;34m=\u001b[0m\u001b[0mset\u001b[0m\u001b[0;34m(\u001b[0m\u001b[0mnp\u001b[0m\u001b[0;34m.\u001b[0m\u001b[0mwhere\u001b[0m\u001b[0;34m(\u001b[0m\u001b[0mfirstwire\u001b[0m\u001b[0;34m==\u001b[0m\u001b[0;36m1\u001b[0m\u001b[0;34m)\u001b[0m\u001b[0;34m)\u001b[0m \u001b[0;34m&\u001b[0m \u001b[0mset\u001b[0m\u001b[0;34m(\u001b[0m\u001b[0mnp\u001b[0m\u001b[0;34m.\u001b[0m\u001b[0mwhere\u001b[0m\u001b[0;34m(\u001b[0m\u001b[0msecondwire\u001b[0m\u001b[0;34m==\u001b[0m\u001b[0;36m1\u001b[0m\u001b[0;34m)\u001b[0m\u001b[0;34m)\u001b[0m\u001b[0;34m\u001b[0m\u001b[0;34m\u001b[0m\u001b[0m\n\u001b[0m\u001b[1;32m      2\u001b[0m \u001b[0mans\u001b[0m \u001b[0;34m=\u001b[0m \u001b[0mmin\u001b[0m\u001b[0;34m(\u001b[0m\u001b[0;34m[\u001b[0m\u001b[0mabs\u001b[0m\u001b[0;34m(\u001b[0m\u001b[0mx\u001b[0m\u001b[0;34m)\u001b[0m\u001b[0;34m+\u001b[0m\u001b[0mabs\u001b[0m\u001b[0;34m(\u001b[0m\u001b[0my\u001b[0m\u001b[0;34m)\u001b[0m \u001b[0;32mfor\u001b[0m\u001b[0;34m(\u001b[0m\u001b[0mx\u001b[0m\u001b[0;34m,\u001b[0m\u001b[0my\u001b[0m\u001b[0;34m)\u001b[0m \u001b[0;32min\u001b[0m \u001b[0mboth\u001b[0m\u001b[0;34m]\u001b[0m\u001b[0;34m)\u001b[0m\u001b[0;34m\u001b[0m\u001b[0;34m\u001b[0m\u001b[0m\n\u001b[1;32m      3\u001b[0m \u001b[0mans2\u001b[0m \u001b[0;34m=\u001b[0m \u001b[0mmin\u001b[0m\u001b[0;34m(\u001b[0m\u001b[0;34m[\u001b[0m\u001b[0mPA\u001b[0m\u001b[0;34m[\u001b[0m\u001b[0mp\u001b[0m\u001b[0;34m]\u001b[0m\u001b[0;34m+\u001b[0m\u001b[0mPB\u001b[0m\u001b[0;34m[\u001b[0m\u001b[0mp\u001b[0m\u001b[0;34m]\u001b[0m \u001b[0;32mfor\u001b[0m \u001b[0mp\u001b[0m \u001b[0;32min\u001b[0m \u001b[0mboth\u001b[0m\u001b[0;34m]\u001b[0m\u001b[0;34m)\u001b[0m\u001b[0;34m\u001b[0m\u001b[0;34m\u001b[0m\u001b[0m\n\u001b[1;32m      4\u001b[0m \u001b[0mprint\u001b[0m\u001b[0;34m(\u001b[0m\u001b[0mans\u001b[0m\u001b[0;34m,\u001b[0m\u001b[0mans2\u001b[0m\u001b[0;34m)\u001b[0m\u001b[0;34m\u001b[0m\u001b[0;34m\u001b[0m\u001b[0m\n",
      "\u001b[0;31mTypeError\u001b[0m: unhashable type: 'numpy.ndarray'"
     ]
    }
   ],
   "source": [
    "both=set(np.where(firstwire==1)) & set(np.where(secondwire==1))\n",
    "ans = min([abs(x)+abs(y) for(x,y) in both])\n",
    "print(ans)"
   ]
  },
  {
   "cell_type": "code",
   "execution_count": null,
   "metadata": {},
   "outputs": [],
   "source": []
  },
  {
   "cell_type": "code",
   "execution_count": 210,
   "metadata": {},
   "outputs": [
    {
     "data": {
      "text/plain": [
       "array([  0,   1,   2,   3,   4,   5,   6,   7,   8,   9,  10,  11,  12,\n",
       "        41,  53,  59,  71,  83,  95, 133, 141, 145, 153, 175, 187, 199,\n",
       "       211, 214, 215, 216, 223, 302, 306, 314, 318])"
      ]
     },
     "execution_count": 210,
     "metadata": {},
     "output_type": "execute_result"
    }
   ],
   "source": [
    "points=np.asarray(np.where((firstwire+secondwire)==2))-startpos[0]\n",
    "np.sort(np.sum(abs(points),axis=0))"
   ]
  },
  {
   "cell_type": "code",
   "execution_count": 209,
   "metadata": {},
   "outputs": [
    {
     "data": {
      "text/plain": [
       "array([], shape=(2, 0), dtype=int64)"
      ]
     },
     "execution_count": 209,
     "metadata": {},
     "output_type": "execute_result"
    }
   ],
   "source": [
    "points = np.asarray(np.where((grid>1)))-startpos[0]\n",
    "points\n"
   ]
  },
  {
   "cell_type": "code",
   "execution_count": 204,
   "metadata": {},
   "outputs": [
    {
     "data": {
      "text/plain": [
       "(1000, 2000)"
      ]
     },
     "execution_count": 204,
     "metadata": {},
     "output_type": "execute_result"
    },
    {
     "data": {
      "image/png": "[encoded data removed]",
      "text/plain": [
       "<Figure size 1440x1440 with 1 Axes>"
      ]
     },
     "metadata": {
      "needs_background": "light"
     },
     "output_type": "display_data"
    }
   ],
   "source": [
    "plt.figure(figsize=(20,20))\n",
    "plt.imshow(firstwire,interpolation=None)\n",
    "#plt.imshow(secondwire,interpolation=None)\n",
    "#plt.imshow(firstwire+secondwire,interpolation=None)\n",
    "plt.xlim((1000,2000))\n",
    "plt.ylim((1000,2000))"
   ]
  },
  {
   "cell_type": "code",
   "execution_count": 146,
   "metadata": {},
   "outputs": [
    {
     "data": {
      "text/plain": [
       "array([  25,   31,   32,   35,   41,   43,   44,   44,   45,   45,   46,\n",
       "         47,   47,   48,   48,   48,   49,   50,   50,   51,   52,   53,\n",
       "         54,   54,   54,   55,   55,   56,   57,   57,   57,   57,   58,\n",
       "         59,   59,   60,   60,   61,   62,   63,   63,   64,   65,   65,\n",
       "         66,   66,   67,   67,   68,   69,   70,   71,   72,   73,   73,\n",
       "         74,   75,   75,   76,   77,   78,   78,   79,   79,   80,   80,\n",
       "         80,   81,   82,   82,   82,   83,   83,   84,   85,   86,   87,\n",
       "         87,   87,   88,   88,   89,   89,   89,   90,   90,   90,   91,\n",
       "         91,   91,   91,   92,   93,   94,   94,   94,   95,   95,   95,\n",
       "         96,   96,   97,   97,   98,   99,  100,  100,  101,  102,  103,\n",
       "        103,  103,  104,  105,  105,  105,  106,  107,  108,  109,  110,\n",
       "        110,  111,  112,  112,  113,  113,  114,  114,  115,  115,  115,\n",
       "        115,  116,  116,  116,  117,  117,  117,  118,  118,  119,  119,\n",
       "        119,  119,  120,  120,  120,  120,  121,  122,  122,  123,  123,\n",
       "        124,  124,  124,  125,  126,  126,  127,  127,  127,  128,  129,\n",
       "        130,  131,  132,  133,  134,  134,  135,  135,  136,  137,  137,\n",
       "        138,  139,  139,  140,  140,  141,  141,  142,  142,  143,  143,\n",
       "        143,  144,  144,  145,  145,  146,  147,  148,  149,  150,  151,\n",
       "        151,  152,  153,  154,  154,  155,  156,  157,  157,  157,  158,\n",
       "        158,  159,  160,  161,  162,  163,  163,  164,  165,  166,  167,\n",
       "        168,  169,  170,  171,  172,  173,  173,  174,  174,  174,  175,\n",
       "        176,  177,  178,  178,  179,  179,  179,  180,  181,  181,  181,\n",
       "        182,  182,  183,  184,  184,  185,  185,  186,  187,  188,  189,\n",
       "        190,  190,  191,  191,  192,  192,  192,  193,  193,  194,  195,\n",
       "        196,  196,  197,  198,  199,  199,  199,  200,  200,  201,  202,\n",
       "        202,  202,  202,  202,  203,  204,  209,  212,  216,  220,  224,\n",
       "        224,  225,  225,  227,  229,  232,  235,  235,  236,  236,  242,\n",
       "        243,  244,  246,  248,  249,  250,  253,  257,  259,  260,  261,\n",
       "        264,  264,  265,  266,  267,  268,  268,  272,  272,  273,  276,\n",
       "        277,  277,  278,  287,  288,  288,  290,  292,  296,  298,  303,\n",
       "        304,  305,  305,  306,  307,  308,  314,  314,  318,  319,  320,\n",
       "        321,  322,  323,  324,  324,  325,  326,  326,  327,  328,  328,\n",
       "        329,  330,  330,  331,  332,  333,  333,  334,  335,  336,  336,\n",
       "        337,  338,  339,  339,  339,  340,  341,  341,  341,  341,  342,\n",
       "        342,  343,  343,  344,  344,  345,  346,  347,  348,  349,  350,\n",
       "        351,  352,  353,  353,  354,  355,  355,  356,  356,  357,  358,\n",
       "        358,  361,  364,  366,  367,  367,  369,  369,  369,  370,  371,\n",
       "        372,  376,  377,  377,  377,  378,  378,  379,  379,  380,  380,\n",
       "        381,  381,  382,  383,  383,  384,  385,  386,  387,  388,  389,\n",
       "        389,  390,  390,  391,  391,  392,  392,  393,  394,  394,  394,\n",
       "        395,  396,  396,  397,  398,  399,  400,  400,  401,  402,  403,\n",
       "        403,  404,  405,  409,  410,  410,  412,  421,  424,  428,  432,\n",
       "        435,  446,  448,  451,  452,  452,  457,  474,  483,  487,  494,\n",
       "        494,  495,  496,  498,  509,  510,  516,  518,  526,  529,  533,\n",
       "        535,  536,  538,  540,  540,  550,  558,  568,  573,  576,  579,\n",
       "        581,  581,  584,  586,  589,  594,  603,  621,  622,  625,  627,\n",
       "        635,  635,  644,  650,  651,  654,  670,  674,  675,  677,  678,\n",
       "        688,  689,  691,  693,  695,  698,  698,  700,  704,  705,  707,\n",
       "        709,  711,  711,  715,  716,  728,  728,  736,  746,  748,  749,\n",
       "        750,  752,  752,  754,  754,  755,  759,  759,  760,  761,  761,\n",
       "        765,  770,  774,  779,  781,  790,  797,  812,  829,  830,  844,\n",
       "        846,  852,  859,  861,  865,  867,  871,  876,  880,  885,  889,\n",
       "        895,  896,  903,  908,  909,  917,  917,  924,  928,  928,  936,\n",
       "        939,  947,  961,  977,  984,  990,  994, 1003, 1020, 1036, 1065,\n",
       "       1085, 1095, 1103, 1105, 1111, 1115, 1132, 1133, 1134, 1175, 1210,\n",
       "       1214, 1227, 1245, 1248, 1260, 1264, 1289, 1364, 1374, 1391, 1404,\n",
       "       1432, 1437, 1437, 1442, 1447, 1450, 1450, 1468, 1478, 1486, 1488,\n",
       "       1491, 1501, 1514, 1520, 1521, 1565, 1578, 1579, 1611, 1625, 1632,\n",
       "       1635, 1648, 1657, 1661, 1663, 1677, 1678, 1754, 1779, 1787, 1796,\n",
       "       1800, 1846, 1860, 1872, 1896, 1932, 1945, 1963, 1991, 1999, 2048,\n",
       "       2055, 2109])"
      ]
     },
     "execution_count": 146,
     "metadata": {},
     "output_type": "execute_result"
    }
   ],
   "source": [
    "np.sort(np.sum(abs(points),axis=0))"
   ]
  },
  {
   "cell_type": "code",
   "execution_count": null,
   "metadata": {},
   "outputs": [],
   "source": []
  }
 ],
 "metadata": {
  "kernelspec": {
   "display_name": "Python 3",
   "language": "python",
   "name": "python3"
  },
  "language_info": {
   "codemirror_mode": {
    "name": "ipython",
    "version": 3
   },
   "file_extension": ".py",
   "mimetype": "text/x-python",
   "name": "python",
   "nbconvert_exporter": "python",
   "pygments_lexer": "ipython3",
   "version": "3.7.3"
  }
 },
 "nbformat": 4,
 "nbformat_minor": 2
}

{
 "cells": [
  {
   "cell_type": "code",
   "execution_count": 56,
   "metadata": {},
   "outputs": [
    {
     "name": "stdout",
     "output_type": "stream",
     "text": [
      "part 1 8865\n"
     ]
    }
   ],
   "source": [
    "import sys\n",
    "import itertools\n",
    "\n",
    "\n",
    "class IntcodeMachine:\n",
    "    def __init__(self, data):\n",
    "        self.memory = data\n",
    "        self.pointer = 0\n",
    "        self.size = len(data)\n",
    "        self.out = 0\n",
    "        self.halt = False\n",
    "        self.initialized = False\n",
    "        self.relBase = 0\n",
    "        self.pos = 0\n",
    "        self.inject_coords = None\n",
    "\n",
    "    def process(self, inputArg = None):\n",
    "        if inputArg != None:  \n",
    "            self.initialized = True\n",
    "        \n",
    "        while self.pointer < self.size:\n",
    "            opcode = int(str(self.memory[self.pointer])[-2:])\n",
    "            paramModes = str(self.memory[self.pointer])[:-2]\n",
    "            if (opcode == 99): # HALT\n",
    "                self.halt = True\n",
    "                #print('halt')\n",
    "                break\n",
    "            elif (opcode == 1): # OPCODE 01 - Sum\n",
    "                self.__setParam(paramModes, 3, self.__getParam(paramModes,1) + self.__getParam(paramModes,2))\n",
    "                self.pointer += 4\n",
    "            elif (opcode == 2): # OPCODE 02 - Multiply\n",
    "                self.__setParam(paramModes, 3, self.__getParam(paramModes,1) * self.__getParam(paramModes,2))\n",
    "                self.pointer += 4\n",
    "            elif (opcode == 3):  # OPCODE 03 - Input\n",
    "                if inputArg != None:\n",
    "                    self.__setParam(paramModes, 1, inputArg)\n",
    "                    inputArg = None\n",
    "                else:\n",
    "                    if VERBOSE:\n",
    "                        self.__setParam(paramModes, 1, self.inject_coords[self.pos])\n",
    "                        self.pos += 1\n",
    "                        if self.pos > 1:\n",
    "                            self.pos = 0\n",
    "                    else:\n",
    "                        break\n",
    "                self.pointer += 2\n",
    "            elif (opcode == 4):  # OPCODE 04 - Print\n",
    "                out = self.__getParam(paramModes,1)\n",
    "                #if VERBOSE:\n",
    "                    #print(\">> \" + str(out))\n",
    "                self.out = out\n",
    "                self.pointer += 2\n",
    "            # Start of part 2\n",
    "            elif (opcode == 5):  # OPCODE 05 - JNZ (jump if not zero)\n",
    "                if (self.__getParam(paramModes,1) != 0):\n",
    "                    self.pointer = self.__getParam(paramModes,2)\n",
    "                else:\n",
    "                    self.pointer += 3\n",
    "            elif (opcode == 6):  # OPCODE 06 - JZ (jump if zero)\n",
    "                if (self.__getParam(paramModes,1) == 0):\n",
    "                    self.pointer = self.__getParam(paramModes,2)\n",
    "                else:\n",
    "                    self.pointer += 3\n",
    "            elif (opcode == 7):  # OPCODE 07 - Set 1 if first is less than second else 0\n",
    "                if (self.__getParam(paramModes,1) < self.__getParam(paramModes,2)):\n",
    "                    self.__setParam(paramModes, 3, 1)\n",
    "                else:\n",
    "                    self.__setParam(paramModes, 3, 0)\n",
    "                self.pointer += 4\n",
    "            elif (opcode == 8):  # OPCODE 08 - Set 1 if first is equal to second else 0\n",
    "                if (self.__getParam(paramModes,1) == self.__getParam(paramModes,2)):\n",
    "                    self.__setParam(paramModes, 3, 1)\n",
    "                else:\n",
    "                    self.__setParam(paramModes, 3, 0)\n",
    "                self.pointer += 4\n",
    "            elif opcode == 9:\n",
    "                self.relBase += self.__getParam(paramModes,1)\n",
    "                self.pointer += 2\n",
    "            else:\n",
    "                print(str(self.memory[self.pointer]) + \" Something went wrong :(\")\n",
    "                break\n",
    "\n",
    "    def __getParam(self, paramModes, param):\n",
    "        return self.memory[self.__getParamAddress(paramModes, param)]\n",
    "\n",
    "    def __setParam(self, paramModes, param, value):\n",
    "        self.memory[self.__getParamAddress(paramModes, param)] = value\n",
    "    \n",
    "    def __getParamAddress(self, paramModes, param):\n",
    "        type = 0\n",
    "        try:\n",
    "            type = int(paramModes[-param])\n",
    "        except:\n",
    "            pass\n",
    "        if type == 0:\n",
    "            return self.memory[self.pointer + param]\n",
    "        elif type == 1:\n",
    "            return self.pointer + param\n",
    "        elif type == 2:\n",
    "            offset = self.memory[self.pointer + param]\n",
    "            return self.relBase + offset\n",
    "        else:\n",
    "            print('Param type error')\n",
    "            return 0\n",
    "\n",
    "VERBOSE = True\n",
    "ans = []\n",
    "total = 0\n",
    "for x in range(200,400):\n",
    "    for y in range(0,400):\n",
    "        data = list(map(lambda x: int(x), open('./input-19.txt', \"r\").read().split(','))) + [0 for i in range(10000)]\n",
    "        machine = IntcodeMachine(data)\n",
    "        machine.inject_coords = (x,y)\n",
    "        machine.process()\n",
    "        results = machine.out\n",
    "        ans.append((x,y,results))\n",
    "#        print(results)\n",
    "        if results == 1:\n",
    "            #print(x,y)\n",
    "            total+=1\n",
    "            \n",
    "print('part 1',total)"
   ]
  },
  {
   "cell_type": "code",
   "execution_count": 86,
   "metadata": {},
   "outputs": [
    {
     "name": "stdout",
     "output_type": "stream",
     "text": [
      "All matched: 1011 555\n",
      "10110555\n",
      "All matched: 1013 556\n",
      "10130556\n",
      "All matched: 1014 557\n",
      "10140557\n",
      "All matched: 1015 557\n",
      "10150557\n",
      "All matched: 1016 558\n",
      "10160558\n",
      "All matched: 1017 558\n",
      "10170558\n",
      "All matched: 1018 559\n",
      "10180559\n",
      "All matched: 1019 559\n",
      "10190559\n",
      "All matched: 1020 560\n",
      "10200560\n",
      "All matched: 1021 560\n",
      "10210560\n",
      "All matched: 1022 561\n",
      "10220561\n",
      "All matched: 1023 561\n",
      "10230561\n",
      "All matched: 1024 562\n",
      "10240562\n"
     ]
    }
   ],
   "source": [
    "for x in range(1020-55,1020+5,1):\n",
    "    for y in range(560-55,560+5,1):\n",
    "        checks = [False,False,False,False]\n",
    "        testpoints = [(x,y), (x,y+99),(x+99, y+99),(x+99,y)]\n",
    "\n",
    "        for tid,t in enumerate(testpoints):\n",
    "            data = list(map(lambda x: int(x), open('./input-19.txt', \"r\").read().split(','))) + [0 for i in range(10000)]\n",
    "            machine = IntcodeMachine(data)\n",
    "            machine.inject_coords = t\n",
    "            machine.process()\n",
    "            results = machine.out\n",
    "            #ans.append((x,y,results))\n",
    "            if results ==1:\n",
    "                checks[tid]= True\n",
    "            if results == 0:\n",
    "                break\n",
    "#        print(results)\n",
    "        if checks[0] and checks[1] and checks[2] and checks[3]:\n",
    "            print('All matched:',x,y)\n",
    "            print(x*10000+y)\n",
    "            break\n"
   ]
  },
  {
   "cell_type": "code",
   "execution_count": 78,
   "metadata": {},
   "outputs": [
    {
     "data": {
      "text/plain": [
       "(1110, 555)"
      ]
     },
     "execution_count": 78,
     "metadata": {},
     "output_type": "execute_result"
    }
   ],
   "source": [
    "x,y"
   ]
  },
  {
   "cell_type": "code",
   "execution_count": 73,
   "metadata": {},
   "outputs": [
    {
     "data": {
      "text/plain": [
       "11080552"
      ]
     },
     "execution_count": 73,
     "metadata": {},
     "output_type": "execute_result"
    }
   ],
   "source": [
    "x*10000+y"
   ]
  },
  {
   "cell_type": "code",
   "execution_count": 57,
   "metadata": {},
   "outputs": [],
   "source": [
    "import matplotlib.pyplot as plt\n",
    "\n",
    "%matplotlib inline"
   ]
  },
  {
   "cell_type": "code",
   "execution_count": 51,
   "metadata": {},
   "outputs": [
    {
     "data": {
      "image/png": "[encoded data removed]",
      "text/plain": [
       "<Figure size 432x288 with 1 Axes>"
      ]
     },
     "metadata": {
      "needs_background": "light"
     },
     "output_type": "display_data"
    }
   ],
   "source": [
    "for x,y,a in ans:\n",
    "    if a != 0:\n",
    "        plt.scatter(x,y,c='r')"
   ]
  },
  {
   "cell_type": "code",
   "execution_count": 58,
   "metadata": {},
   "outputs": [],
   "source": [
    "import numpy as np \n",
    "grid = np.zeros((400,400))\n",
    "\n",
    "for x,y,a in ans:\n",
    "    grid[x,y] = a\n"
   ]
  },
  {
   "cell_type": "code",
   "execution_count": 55,
   "metadata": {},
   "outputs": [
    {
     "data": {
      "text/plain": [
       "array([ 0.,  0.,  0.,  0.,  0.,  0.,  0.,  0.,  0.,  0.,  0.,  0.,  0.,\n",
       "        0.,  0.,  0.,  0.,  0.,  0.,  0.,  0.,  0.,  0.,  0.,  0.,  0.,\n",
       "        0.,  0.,  0.,  0.,  0.,  0.,  0.,  0.,  0.,  0.,  0.,  0.,  0.,\n",
       "        0.,  0.,  0.,  0.,  0.,  0.,  0.,  0.,  0.,  0.,  0.,  0.,  0.,\n",
       "        0.,  0.,  0.,  0.,  0.,  0.,  0.,  0.,  0.,  0.,  0.,  0.,  0.,\n",
       "        0.,  0.,  0.,  0.,  0.,  0.,  0.,  0.,  0.,  0.,  0.,  0.,  0.,\n",
       "        0.,  0.,  0.,  0.,  0.,  0.,  0.,  0.,  0.,  0.,  0.,  0.,  0.,\n",
       "        0.,  0.,  0.,  0.,  0.,  0.,  0.,  0.,  0.,  0.,  0.,  0.,  0.,\n",
       "        0.,  0.,  0.,  0.,  0.,  0.,  0.,  0.,  0.,  0.,  0.,  0.,  0.,\n",
       "        0.,  0.,  0.,  0.,  0.,  0.,  0.,  0.,  0.,  0.,  0.,  0.,  0.,\n",
       "        0.,  0.,  0.,  0.,  0.,  0.,  0.,  0.,  0.,  0.,  0.,  0.,  0.,\n",
       "        0.,  0.,  0.,  0.,  0.,  0.,  0.,  0.,  0.,  0.,  0.,  0.,  0.,\n",
       "        0.,  0.,  0.,  0.,  0.,  0.,  0.,  0.,  0.,  0.,  0.,  0.,  0.,\n",
       "        0.,  0.,  0.,  0.,  0.,  0.,  0.,  0.,  0.,  0.,  0.,  0.,  0.,\n",
       "        0.,  0.,  0.,  0.,  0.,  0.,  0.,  0.,  0.,  0.,  0.,  0.,  0.,\n",
       "        0.,  0.,  0.,  0.,  0.,  0.,  0.,  0.,  0.,  0.,  0.,  0.,  0.,\n",
       "        0.,  0.,  0.,  0.,  0.,  0.,  0.,  0.,  0.,  0.,  0.,  0.,  0.,\n",
       "        0.,  0.,  0.,  0.,  0.,  0.,  0.,  0.,  0.,  0.,  0.,  0.,  0.,\n",
       "        0.,  0.,  0.,  0.,  0.,  0.,  0.,  0.,  0.,  0.,  0.,  0.,  0.,\n",
       "        0.,  0.,  0.,  0.,  0.,  0.,  0.,  0.,  0.,  0.,  0.,  0.,  0.,\n",
       "        0.,  0.,  0.,  0.,  0.,  0.,  0.,  0.,  0.,  0.,  0.,  0.,  0.,\n",
       "        0.,  0.,  0.,  0.,  0.,  0.,  0.,  0.,  0.,  0.,  0.,  0.,  0.,\n",
       "        0.,  0.,  0.,  0.,  0.,  0.,  0.,  0.,  0.,  0.,  0.,  0.,  0.,\n",
       "        0.,  0.,  0.,  0.,  0.,  0.,  0.,  0.,  0.,  0.,  0.,  1.,  2.,\n",
       "        2.,  3.,  4.,  4.,  5.,  6.,  6.,  7.,  8.,  8.,  9., 10., 10.,\n",
       "       11., 11., 12., 13., 13., 14., 15., 15., 16., 17., 17., 18., 19.,\n",
       "       19., 20., 21., 21., 22., 22., 23., 24., 24., 25., 26., 26., 27.,\n",
       "       28., 28., 29., 30., 30., 31., 32., 32., 33., 33., 34., 35., 35.,\n",
       "       36., 37., 37., 38., 39., 39., 40., 41., 41., 42., 43., 43., 44.,\n",
       "       44., 45., 46., 46., 47., 48., 48., 49., 50., 50., 51., 52., 52.,\n",
       "       53., 54., 54., 55., 55., 56., 57., 57., 58., 59.])"
      ]
     },
     "execution_count": 55,
     "metadata": {},
     "output_type": "execute_result"
    }
   ],
   "source": [
    "grid.sum(axis=1)"
   ]
  },
  {
   "cell_type": "code",
   "execution_count": null,
   "metadata": {},
   "outputs": [],
   "source": [
    "plt.plot(grid.sum(axis=1))"
   ]
  },
  {
   "cell_type": "code",
   "execution_count": null,
   "metadata": {},
   "outputs": [],
   "source": [
    "plt.figure(figsize=(14,6))\n",
    "plt.plot(grid.sum(axis=0))"
   ]
  },
  {
   "cell_type": "code",
   "execution_count": null,
   "metadata": {},
   "outputs": [],
   "source": []
  }
 ],
 "metadata": {
  "kernelspec": {
   "display_name": "Python 3",
   "language": "python",
   "name": "python3"
  },
  "language_info": {
   "codemirror_mode": {
    "name": "ipython",
    "version": 3
   },
   "file_extension": ".py",
   "mimetype": "text/x-python",
   "name": "python",
   "nbconvert_exporter": "python",
   "pygments_lexer": "ipython3",
   "version": "3.7.3"
  }
 },
 "nbformat": 4,
 "nbformat_minor": 2
}

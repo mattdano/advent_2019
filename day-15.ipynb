{
 "cells": [
  {
   "cell_type": "code",
   "execution_count": 122,
   "metadata": {},
   "outputs": [
    {
     "name": "stdout",
     "output_type": "stream",
     "text": [
      "found 2!\n"
     ]
    }
   ],
   "source": [
    "import sys\n",
    "import itertools\n",
    "\n",
    "\n",
    "class IntcodeMachine:\n",
    "    VERBOSE=True\n",
    "    def __init__(self, data,first=False):\n",
    "        self.memory = data\n",
    "        self.pointer = 0\n",
    "        self.size = len(data)\n",
    "        self.out = 0\n",
    "        self.halt = False\n",
    "        self.initialized = False\n",
    "        self.relBase = 0\n",
    "        \n",
    "        self.painted_x = dict()\n",
    "        self.painted_y = dict()\n",
    "        self.current_pos = [0,0]\n",
    "        # do a self.direction%4\n",
    "        # {0:up,1:right,2:down,3:left}\n",
    "        \n",
    "        self.direction = 0\n",
    "        self.ticker = 0\n",
    "        self.paint_history = []\n",
    "        self.colour = 1\n",
    "        self.first = first\n",
    "        self.blocked = False\n",
    "        self.results = set()\n",
    "        self.direction = 0\n",
    "        self.walls = set()\n",
    "        self.runtime = 0\n",
    "\n",
    "    def process(self, inputArg = None):\n",
    "        if inputArg != None:  \n",
    "            self.initialized = True\n",
    "        \n",
    "        while self.pointer < self.size:\n",
    "            opcode = int(str(self.memory[self.pointer])[-2:])\n",
    "            paramModes = str(self.memory[self.pointer])[:-2]\n",
    "            if self.halt:\n",
    "                print('found 2!')\n",
    "                break\n",
    "            if self.runtime >100000:\n",
    "                print('timedout after N')\n",
    "                break\n",
    "            if (opcode == 99): # HALT\n",
    "                self.halt = True\n",
    "                print('halt')\n",
    "                break\n",
    "            elif (opcode == 1): # OPCODE 01 - Sum\n",
    "                self.__setParam(paramModes, 3, self.__getParam(paramModes,1) + self.__getParam(paramModes,2))\n",
    "                self.pointer += 4\n",
    "            elif (opcode == 2): # OPCODE 02 - Multiply\n",
    "                self.__setParam(paramModes, 3, self.__getParam(paramModes,1) * self.__getParam(paramModes,2))\n",
    "                self.pointer += 4\n",
    "            elif (opcode == 3):  # OPCODE 03 - Input\n",
    "                if inputArg != None:\n",
    "                    self.__setParam(paramModes, 1, inputArg)\n",
    "                    inputArg = None\n",
    "                else:\n",
    "                    if VERBOSE:\n",
    "\n",
    "                        self.__setParam(paramModes, 1, self.direction +1)\n",
    "                    else:\n",
    "                        break\n",
    "                self.pointer += 2\n",
    "            elif (opcode == 4):  # OPCODE 04 - Print\n",
    "                out = self.__getParam(paramModes,1)\n",
    "\n",
    "                self.status=out\n",
    "                \n",
    "                self.make_moves()\n",
    "                \n",
    "                self.pointer += 2\n",
    "            # Start of part 2\n",
    "            elif (opcode == 5):  # OPCODE 05 - JNZ (jump if not zero)\n",
    "                if (self.__getParam(paramModes,1) != 0):\n",
    "                    self.pointer = self.__getParam(paramModes,2)\n",
    "                else:\n",
    "                    self.pointer += 3\n",
    "            elif (opcode == 6):  # OPCODE 06 - JZ (jump if zero)\n",
    "                if (self.__getParam(paramModes,1) == 0):\n",
    "                    self.pointer = self.__getParam(paramModes,2)\n",
    "                else:\n",
    "                    self.pointer += 3\n",
    "            elif (opcode == 7):  # OPCODE 07 - Set 1 if first is less than second else 0\n",
    "                if (self.__getParam(paramModes,1) < self.__getParam(paramModes,2)):\n",
    "                    self.__setParam(paramModes, 3, 1)\n",
    "                else:\n",
    "                    self.__setParam(paramModes, 3, 0)\n",
    "                self.pointer += 4\n",
    "            elif (opcode == 8):  # OPCODE 08 - Set 1 if first is equal to second else 0\n",
    "                if (self.__getParam(paramModes,1) == self.__getParam(paramModes,2)):\n",
    "                    self.__setParam(paramModes, 3, 1)\n",
    "                else:\n",
    "                    self.__setParam(paramModes, 3, 0)\n",
    "                self.pointer += 4\n",
    "            elif opcode == 9:\n",
    "                self.relBase += self.__getParam(paramModes,1)\n",
    "                self.pointer += 2\n",
    "            else:\n",
    "                print(str(self.memory[self.pointer]) + \" Something went wrong :(\")\n",
    "                break\n",
    "\n",
    "    def __getParam(self, paramModes, param):\n",
    "        return self.memory[self.__getParamAddress(paramModes, param)]\n",
    "\n",
    "    def __setParam(self, paramModes, param, value):\n",
    "        self.memory[self.__getParamAddress(paramModes, param)] = value\n",
    "    \n",
    "    def __getParamAddress(self, paramModes, param):\n",
    "        type = 0\n",
    "        try:\n",
    "            type = int(paramModes[-param])\n",
    "        except:\n",
    "            pass\n",
    "        if type == 0:\n",
    "            return self.memory[self.pointer + param]\n",
    "        elif type == 1:\n",
    "            return self.pointer + param\n",
    "        elif type == 2:\n",
    "            offset = self.memory[self.pointer + param]\n",
    "            return self.relBase + offset\n",
    "        else:\n",
    "            print('Param type error')\n",
    "            return 0\n",
    "        \n",
    "        \n",
    "    def make_moves(self):\n",
    "        self.runtime+=1\n",
    "        #print(self.direction)\n",
    "        # north (1), south (2), west (3), and east (4)\n",
    "        if self.direction==0:\n",
    "            dx=0\n",
    "            dy=1\n",
    "        elif self.direction ==2:\n",
    "            dx=1\n",
    "            dy=0\n",
    "        elif self.direction ==1:\n",
    "            dx=0\n",
    "            dy=-1\n",
    "        elif self.direction ==3:\n",
    "            dx=-1\n",
    "            dy=0\n",
    "        \n",
    "        if self.status == 1:\n",
    "            self.current_pos = [self.current_pos[0]+dx, self.current_pos[1]+dy]\n",
    "            self.results.add((self.direction,self.current_pos[0],self.current_pos[1],self.status))\n",
    "        elif self.status == 2:\n",
    "            self.current_pos = [self.current_pos[0]+dx, self.current_pos[1]+dy]\n",
    "            self.results.add((self.direction,self.current_pos[0],self.current_pos[1],self.status))\n",
    "            self.halt = True\n",
    "        elif self.status == 0 :\n",
    "            self.results.add((self.direction,self.current_pos[0]+dx,self.current_pos[1]+dy,self.status))\n",
    "            self.blocked = True\n",
    "            self.walls.add((self.current_pos[0]+dx,self.current_pos[1]+dy))\n",
    "            x = [0,1,2,3]\n",
    "            np.random.shuffle(x)\n",
    "        \n",
    "            for moves in x:\n",
    "                if moves != self.direction:\n",
    "                    if moves==0:\n",
    "                        dx=0\n",
    "                        dy=1\n",
    "                    elif moves ==2:\n",
    "                        dx=1\n",
    "                        dy=0\n",
    "                    elif moves ==1:\n",
    "                        dx=0\n",
    "                        dy=-1\n",
    "                    elif moves ==3:\n",
    "                        dx=-1\n",
    "                        dy=0\n",
    "                if (self.current_pos[0]+dx,self.current_pos[1]+dy) not in self.walls:\n",
    "                    self.direction = moves\n",
    "                    break\n",
    "                            \n",
    "    \n",
    "VERBOSE=True\n",
    "data = list(map(lambda x: int(x), open('./input-15.txt', \"r\").read().split(','))) + [0 for i in range(10000)]\n",
    "machine = IntcodeMachine(data)\n",
    "machine.process()\n",
    "\n"
   ]
  },
  {
   "cell_type": "code",
   "execution_count": 128,
   "metadata": {},
   "outputs": [
    {
     "name": "stdout",
     "output_type": "stream",
     "text": [
      "found 2!\n",
      "found 2!\n",
      "found 2!\n",
      "found 2!\n",
      "found 2!\n",
      "found 2!\n",
      "found 2!\n",
      "found 2!\n",
      "found 2!\n",
      "found 2!\n"
     ]
    }
   ],
   "source": [
    "runs =dict()\n",
    "big_results = set()\n",
    "\n",
    "for run in range(0,10):\n",
    "    data = list(map(lambda x: int(x), open('./input-15.txt', \"r\").read().split(','))) + [0 for i in range(10000)]\n",
    "    machine = IntcodeMachine(data)\n",
    "    machine.process()\n",
    "    runs[run] = machine.results\n",
    "    big_results = big_results.union(machine.results)\n"
   ]
  },
  {
   "cell_type": "code",
   "execution_count": 123,
   "metadata": {},
   "outputs": [
    {
     "name": "stdout",
     "output_type": "stream",
     "text": [
      "1 16 -14 2\n"
     ]
    }
   ],
   "source": [
    "for i,j,k,z in machine.results:\n",
    "    if z==2:\n",
    "        print(i,j,k,z)"
   ]
  },
  {
   "cell_type": "code",
   "execution_count": 124,
   "metadata": {},
   "outputs": [],
   "source": [
    "import matplotlib.pyplot as plt \n",
    "%matplotlib inline\n",
    "\n"
   ]
  },
  {
   "cell_type": "code",
   "execution_count": 125,
   "metadata": {},
   "outputs": [
    {
     "data": {
      "text/plain": [
       "633"
      ]
     },
     "execution_count": 125,
     "metadata": {},
     "output_type": "execute_result"
    }
   ],
   "source": [
    "len(machine.results)"
   ]
  },
  {
   "cell_type": "code",
   "execution_count": 130,
   "metadata": {},
   "outputs": [
    {
     "data": {
      "text/plain": [
       "680"
      ]
     },
     "execution_count": 130,
     "metadata": {},
     "output_type": "execute_result"
    }
   ],
   "source": [
    "len(big_results)"
   ]
  },
  {
   "cell_type": "code",
   "execution_count": 131,
   "metadata": {},
   "outputs": [
    {
     "data": {
      "image/png": "[encoded data removed]",
      "text/plain": [
       "<Figure size 864x864 with 1 Axes>"
      ]
     },
     "metadata": {
      "needs_background": "light"
     },
     "output_type": "display_data"
    }
   ],
   "source": [
    "plt.figure(figsize=(12,12))\n",
    "plt.scatter(0,0,marker='o',c='g')\n",
    "\n",
    "for direction,x,y,status in list(big_results):\n",
    "    if status == 0 :\n",
    "        plt.scatter(x,y,marker = 'X',c='b')\n",
    "    elif status == 1:\n",
    "        plt.scatter(x,y,marker='.',c='k')\n",
    "    elif status == 2:\n",
    "        plt.scatter(x,y,marker='o',c='r')\n",
    "\n"
   ]
  },
  {
   "cell_type": "code",
   "execution_count": 76,
   "metadata": {},
   "outputs": [
    {
     "data": {
      "text/plain": [
       "[(2, 4, 0, 1),\n",
       " (0, 6, -1, 1),\n",
       " (2, 3, 0, 1),\n",
       " (1, 0, 0, 0),\n",
       " (1, 6, -1, 1),\n",
       " (1, 6, -2, 1),\n",
       " (2, 6, 0, 1),\n",
       " (0, 6, 0, 1),\n",
       " (2, 5, 0, 1),\n",
       " (0, 0, 0, 0)]"
      ]
     },
     "execution_count": 76,
     "metadata": {},
     "output_type": "execute_result"
    }
   ],
   "source": [
    "list(machine.results)[0:10]"
   ]
  },
  {
   "cell_type": "code",
   "execution_count": 94,
   "metadata": {},
   "outputs": [
    {
     "data": {
      "text/plain": [
       "(1, 10, -6, 1)"
      ]
     },
     "execution_count": 94,
     "metadata": {},
     "output_type": "execute_result"
    }
   ],
   "source": [
    "list(machine.results)[-1]"
   ]
  },
  {
   "cell_type": "code",
   "execution_count": 78,
   "metadata": {},
   "outputs": [
    {
     "data": {
      "text/plain": [
       "{(0, -1), (0, 1), (6, -3), (6, 1), (7, 0)}"
      ]
     },
     "execution_count": 78,
     "metadata": {},
     "output_type": "execute_result"
    }
   ],
   "source": [
    "machine.walls"
   ]
  },
  {
   "cell_type": "code",
   "execution_count": 64,
   "metadata": {},
   "outputs": [],
   "source": [
    "import numpy as np\n",
    "myresults = np.asarray(list(machine.results))"
   ]
  },
  {
   "cell_type": "code",
   "execution_count": 70,
   "metadata": {},
   "outputs": [
    {
     "data": {
      "text/plain": [
       "array([[ 2,  4,  0,  1],\n",
       "       [ 0,  6, -1,  1],\n",
       "       [ 2,  3,  0,  1],\n",
       "       [ 1,  0,  0,  0],\n",
       "       [ 1,  6, -1,  1],\n",
       "       [ 1,  6, -2,  1],\n",
       "       [ 2,  6,  0,  1],\n",
       "       [ 0,  6,  0,  1],\n",
       "       [ 2,  5,  0,  1],\n",
       "       [ 0,  0,  0,  0],\n",
       "       [ 2,  6,  0,  0],\n",
       "       [ 0,  6,  0,  0],\n",
       "       [ 2,  2,  0,  1],\n",
       "       [ 2,  1,  0,  1],\n",
       "       [ 1,  6, -2,  0]])"
      ]
     },
     "execution_count": 70,
     "metadata": {},
     "output_type": "execute_result"
    }
   ],
   "source": [
    "myresults"
   ]
  },
  {
   "cell_type": "code",
   "execution_count": 135,
   "metadata": {},
   "outputs": [],
   "source": [
    "class Node():\n",
    "    \"\"\"A node class for A* Pathfinding\"\"\"\n",
    "\n",
    "    def __init__(self, parent=None, position=None):\n",
    "        self.parent = parent\n",
    "        self.position = position\n",
    "\n",
    "        self.g = 0\n",
    "        self.h = 0\n",
    "        self.f = 0\n",
    "\n",
    "    def __eq__(self, other):\n",
    "        return self.position == other.position\n",
    "\n",
    "\n",
    "def astar(maze, start, end):\n",
    "    \"\"\"Returns a list of tuples as a path from the given start to the given end in the given maze\"\"\"\n",
    "\n",
    "    # Create start and end node\n",
    "    start_node = Node(None, start)\n",
    "    start_node.g = start_node.h = start_node.f = 0\n",
    "    end_node = Node(None, end)\n",
    "    end_node.g = end_node.h = end_node.f = 0\n",
    "\n",
    "    # Initialize both open and closed list\n",
    "    open_list = []\n",
    "    closed_list = []\n",
    "\n",
    "    # Add the start node\n",
    "    open_list.append(start_node)\n",
    "\n",
    "    # Loop until you find the end\n",
    "    while len(open_list) > 0:\n",
    "\n",
    "        # Get the current node\n",
    "        current_node = open_list[0]\n",
    "        current_index = 0\n",
    "        for index, item in enumerate(open_list):\n",
    "            if item.f < current_node.f:\n",
    "                current_node = item\n",
    "                current_index = index\n",
    "\n",
    "        # Pop current off open list, add to closed list\n",
    "        open_list.pop(current_index)\n",
    "        closed_list.append(current_node)\n",
    "\n",
    "        # Found the goal\n",
    "        if current_node == end_node:\n",
    "            path = []\n",
    "            current = current_node\n",
    "            while current is not None:\n",
    "                path.append(current.position)\n",
    "                current = current.parent\n",
    "            return path[::-1] # Return reversed path\n",
    "\n",
    "        # Generate children\n",
    "        children = []\n",
    "        for new_position in [(0, -1), (0, 1), (-1, 0), (1, 0), (-1, -1), (-1, 1), (1, -1), (1, 1)]: # Adjacent squares\n",
    "\n",
    "            # Get node position\n",
    "            node_position = (current_node.position[0] + new_position[0], current_node.position[1] + new_position[1])\n",
    "\n",
    "            # Make sure within range\n",
    "            if node_position[0] > (len(maze) - 1) or node_position[0] < 0 or node_position[1] > (len(maze[len(maze)-1]) -1) or node_position[1] < 0:\n",
    "                continue\n",
    "\n",
    "            # Make sure walkable terrain\n",
    "            if maze[node_position[0]][node_position[1]] != 0:\n",
    "                continue\n",
    "\n",
    "            # Create new node\n",
    "            new_node = Node(current_node, node_position)\n",
    "\n",
    "            # Append\n",
    "            children.append(new_node)\n",
    "\n",
    "        # Loop through children\n",
    "        for child in children:\n",
    "\n",
    "            # Child is on the closed list\n",
    "            for closed_child in closed_list:\n",
    "                if child == closed_child:\n",
    "                    continue\n",
    "\n",
    "            # Create the f, g, and h values\n",
    "            child.g = current_node.g + 1\n",
    "            child.h = ((child.position[0] - end_node.position[0]) ** 2) + ((child.position[1] - end_node.position[1]) ** 2)\n",
    "            child.f = child.g + child.h\n",
    "\n",
    "            # Child is already in the open list\n",
    "            for open_node in open_list:\n",
    "                if child == open_node and child.g > open_node.g:\n",
    "                    continue\n",
    "\n",
    "            # Add the child to the open list\n",
    "            open_list.append(child)\n"
   ]
  },
  {
   "cell_type": "code",
   "execution_count": 148,
   "metadata": {},
   "outputs": [
    {
     "name": "stdout",
     "output_type": "stream",
     "text": [
      "-9 21 31\n",
      "-19 9 29\n"
     ]
    }
   ],
   "source": [
    "tmp = np.asarray(list(machine.results)).T\n",
    "print(min(tmp[1]),max(tmp[1]),abs(min(tmp[1]))+max(tmp[1])+1)\n",
    "print(min(tmp[2]),max(tmp[2]),abs(min(tmp[2]))+max(tmp[2])+1)\n",
    "min_x = min(tmp[1])\n",
    "min_y = min(tmp[2])"
   ]
  },
  {
   "cell_type": "code",
   "execution_count": null,
   "metadata": {},
   "outputs": [],
   "source": []
  },
  {
   "cell_type": "code",
   "execution_count": 160,
   "metadata": {},
   "outputs": [
    {
     "name": "stdout",
     "output_type": "stream",
     "text": [
      "module found at: 16 -14\n",
      "(9, 19) (25, 5)\n"
     ]
    }
   ],
   "source": [
    "start = (abs(min_x), +abs(min_y))\n",
    "maze = np.ones((31,29))\n",
    "for d,x,y,s in machine.results:\n",
    "    if s==2:\n",
    "        print('module found at:',x,y)\n",
    "        end = (x+abs(min_x),y+abs(min_y))\n",
    "    if s==1:\n",
    "        maze[x+abs(min_x),y+abs(min_y)] = 0\n",
    "\n",
    "\n",
    "print(start,end)"
   ]
  },
  {
   "cell_type": "code",
   "execution_count": 158,
   "metadata": {},
   "outputs": [
    {
     "data": {
      "text/plain": [
       "<matplotlib.image.AxesImage at 0x11f68fb38>"
      ]
     },
     "execution_count": 158,
     "metadata": {},
     "output_type": "execute_result"
    },
    {
     "data": {
      "image/png": "[encoded data removed]",
      "text/plain": [
       "<Figure size 432x288 with 1 Axes>"
      ]
     },
     "metadata": {
      "needs_background": "light"
     },
     "output_type": "display_data"
    }
   ],
   "source": [
    "plt.imshow(maze)"
   ]
  },
  {
   "cell_type": "code",
   "execution_count": 161,
   "metadata": {},
   "outputs": [
    {
     "name": "stdout",
     "output_type": "stream",
     "text": [
      "Starting A* search\n"
     ]
    },
    {
     "ename": "KeyboardInterrupt",
     "evalue": "",
     "output_type": "error",
     "traceback": [
      "\u001b[0;31m---------------------------------------------------------------------------\u001b[0m",
      "\u001b[0;31mKeyboardInterrupt\u001b[0m                         Traceback (most recent call last)",
      "\u001b[0;32m<ipython-input-161-dd4c2de71d40>\u001b[0m in \u001b[0;36m<module>\u001b[0;34m\u001b[0m\n\u001b[1;32m      1\u001b[0m \u001b[0mprint\u001b[0m\u001b[0;34m(\u001b[0m\u001b[0;34m'Starting A* search'\u001b[0m\u001b[0;34m)\u001b[0m\u001b[0;34m\u001b[0m\u001b[0;34m\u001b[0m\u001b[0m\n\u001b[0;32m----> 2\u001b[0;31m \u001b[0mpath\u001b[0m \u001b[0;34m=\u001b[0m \u001b[0mastar\u001b[0m\u001b[0;34m(\u001b[0m\u001b[0mmaze\u001b[0m\u001b[0;34m,\u001b[0m \u001b[0mstart\u001b[0m\u001b[0;34m,\u001b[0m \u001b[0mend\u001b[0m\u001b[0;34m)\u001b[0m\u001b[0;34m\u001b[0m\u001b[0;34m\u001b[0m\u001b[0m\n\u001b[0m\u001b[1;32m      3\u001b[0m \u001b[0mprint\u001b[0m\u001b[0;34m(\u001b[0m\u001b[0mpath\u001b[0m\u001b[0;34m)\u001b[0m\u001b[0;34m\u001b[0m\u001b[0;34m\u001b[0m\u001b[0m\n\u001b[1;32m      4\u001b[0m \u001b[0mprint\u001b[0m\u001b[0;34m(\u001b[0m\u001b[0mlen\u001b[0m\u001b[0;34m(\u001b[0m\u001b[0mpath\u001b[0m\u001b[0;34m)\u001b[0m\u001b[0;34m)\u001b[0m\u001b[0;34m\u001b[0m\u001b[0;34m\u001b[0m\u001b[0m\n",
      "\u001b[0;32m<ipython-input-135-e7619e30b1aa>\u001b[0m in \u001b[0;36mastar\u001b[0;34m(maze, start, end)\u001b[0m\n\u001b[1;32m     36\u001b[0m         \u001b[0mcurrent_node\u001b[0m \u001b[0;34m=\u001b[0m \u001b[0mopen_list\u001b[0m\u001b[0;34m[\u001b[0m\u001b[0;36m0\u001b[0m\u001b[0;34m]\u001b[0m\u001b[0;34m\u001b[0m\u001b[0;34m\u001b[0m\u001b[0m\n\u001b[1;32m     37\u001b[0m         \u001b[0mcurrent_index\u001b[0m \u001b[0;34m=\u001b[0m \u001b[0;36m0\u001b[0m\u001b[0;34m\u001b[0m\u001b[0;34m\u001b[0m\u001b[0m\n\u001b[0;32m---> 38\u001b[0;31m         \u001b[0;32mfor\u001b[0m \u001b[0mindex\u001b[0m\u001b[0;34m,\u001b[0m \u001b[0mitem\u001b[0m \u001b[0;32min\u001b[0m \u001b[0menumerate\u001b[0m\u001b[0;34m(\u001b[0m\u001b[0mopen_list\u001b[0m\u001b[0;34m)\u001b[0m\u001b[0;34m:\u001b[0m\u001b[0;34m\u001b[0m\u001b[0;34m\u001b[0m\u001b[0m\n\u001b[0m\u001b[1;32m     39\u001b[0m             \u001b[0;32mif\u001b[0m \u001b[0mitem\u001b[0m\u001b[0;34m.\u001b[0m\u001b[0mf\u001b[0m \u001b[0;34m<\u001b[0m \u001b[0mcurrent_node\u001b[0m\u001b[0;34m.\u001b[0m\u001b[0mf\u001b[0m\u001b[0;34m:\u001b[0m\u001b[0;34m\u001b[0m\u001b[0;34m\u001b[0m\u001b[0m\n\u001b[1;32m     40\u001b[0m                 \u001b[0mcurrent_node\u001b[0m \u001b[0;34m=\u001b[0m \u001b[0mitem\u001b[0m\u001b[0;34m\u001b[0m\u001b[0;34m\u001b[0m\u001b[0m\n",
      "\u001b[0;31mKeyboardInterrupt\u001b[0m: "
     ]
    }
   ],
   "source": [
    "print('Starting A* search')\n",
    "path = astar(maze, start, end)\n",
    "print(path)\n",
    "print(len(path))"
   ]
  },
  {
   "cell_type": "code",
   "execution_count": 182,
   "metadata": {},
   "outputs": [
    {
     "name": "stdout",
     "output_type": "stream",
     "text": [
      "found 2!\n",
      "found 2!\n"
     ]
    }
   ],
   "source": [
    "import sys\n",
    "import itertools\n",
    "\n",
    "#turn this into an iterator\n",
    "\n",
    "class IntcodeMachine:\n",
    "    VERBOSE=True\n",
    "    def __init__(self, data,turn_dir=1):\n",
    "        self.memory = data\n",
    "        self.pointer = 0\n",
    "        self.size = len(data)\n",
    "        self.out = 0\n",
    "        self.halt = False\n",
    "        self.initialized = False\n",
    "        self.relBase = 0\n",
    "        \n",
    "        self.painted_x = dict()\n",
    "        self.painted_y = dict()\n",
    "        self.current_pos = [0,0]\n",
    "        self.facing = 0\n",
    "\n",
    "        self.direction = 0\n",
    "        self.ticker = 0\n",
    "        self.paint_history = []\n",
    "        self.colour = 1\n",
    "        self.blocked = False\n",
    "        self.results = set()\n",
    "        self.direction = 1\n",
    "        self.walls = set()\n",
    "        self.runtime = 0\n",
    "        self.turn_dir = turn_dir\n",
    "        self.p = 0\n",
    "    \n",
    "    def process(self, inputArg = None):\n",
    "        if inputArg != None:  \n",
    "            self.initialized = True\n",
    "        \n",
    "        while self.pointer < self.size:\n",
    "            opcode = int(str(self.memory[self.pointer])[-2:])\n",
    "            paramModes = str(self.memory[self.pointer])[:-2]\n",
    "            if self.halt:\n",
    "                print('found 2!')\n",
    "                break\n",
    "            if self.runtime >100000:\n",
    "                print('timedout after N')\n",
    "                break\n",
    "            if (opcode == 99): # HALT\n",
    "                self.halt = True\n",
    "                print('halt')\n",
    "                break\n",
    "            elif (opcode == 1): # OPCODE 01 - Sum\n",
    "                self.__setParam(paramModes, 3, self.__getParam(paramModes,1) + self.__getParam(paramModes,2))\n",
    "                self.pointer += 4\n",
    "            elif (opcode == 2): # OPCODE 02 - Multiply\n",
    "                self.__setParam(paramModes, 3, self.__getParam(paramModes,1) * self.__getParam(paramModes,2))\n",
    "                self.pointer += 4\n",
    "            elif (opcode == 3):  # OPCODE 03 - Input\n",
    "                if inputArg != None:\n",
    "                    self.__setParam(paramModes, 1, inputArg)\n",
    "                    inputArg = None\n",
    "                else:\n",
    "                    if VERBOSE:\n",
    "\n",
    "                        self.__setParam(paramModes, 1, self.direction)\n",
    "                    else:\n",
    "                        break\n",
    "                self.pointer += 2\n",
    "            elif (opcode == 4):  # OPCODE 04 - Print\n",
    "                out = self.__getParam(paramModes,1)\n",
    "\n",
    "                self.status=out\n",
    "                \n",
    "                self.make_moves()\n",
    "                \n",
    "                self.pointer += 2\n",
    "            # Start of part 2\n",
    "            elif (opcode == 5):  # OPCODE 05 - JNZ (jump if not zero)\n",
    "                if (self.__getParam(paramModes,1) != 0):\n",
    "                    self.pointer = self.__getParam(paramModes,2)\n",
    "                else:\n",
    "                    self.pointer += 3\n",
    "            elif (opcode == 6):  # OPCODE 06 - JZ (jump if zero)\n",
    "                if (self.__getParam(paramModes,1) == 0):\n",
    "                    self.pointer = self.__getParam(paramModes,2)\n",
    "                else:\n",
    "                    self.pointer += 3\n",
    "            elif (opcode == 7):  # OPCODE 07 - Set 1 if first is less than second else 0\n",
    "                if (self.__getParam(paramModes,1) < self.__getParam(paramModes,2)):\n",
    "                    self.__setParam(paramModes, 3, 1)\n",
    "                else:\n",
    "                    self.__setParam(paramModes, 3, 0)\n",
    "                self.pointer += 4\n",
    "            elif (opcode == 8):  # OPCODE 08 - Set 1 if first is equal to second else 0\n",
    "                if (self.__getParam(paramModes,1) == self.__getParam(paramModes,2)):\n",
    "                    self.__setParam(paramModes, 3, 1)\n",
    "                else:\n",
    "                    self.__setParam(paramModes, 3, 0)\n",
    "                self.pointer += 4\n",
    "            elif opcode == 9:\n",
    "                self.relBase += self.__getParam(paramModes,1)\n",
    "                self.pointer += 2\n",
    "            else:\n",
    "                print(str(self.memory[self.pointer]) + \" Something went wrong :(\")\n",
    "                break\n",
    "\n",
    "    def __getParam(self, paramModes, param):\n",
    "        return self.memory[self.__getParamAddress(paramModes, param)]\n",
    "\n",
    "    def __setParam(self, paramModes, param, value):\n",
    "        self.memory[self.__getParamAddress(paramModes, param)] = value\n",
    "    \n",
    "    def __getParamAddress(self, paramModes, param):\n",
    "        type = 0\n",
    "        try:\n",
    "            type = int(paramModes[-param])\n",
    "        except:\n",
    "            pass\n",
    "        if type == 0:\n",
    "            return self.memory[self.pointer + param]\n",
    "        elif type == 1:\n",
    "            return self.pointer + param\n",
    "        elif type == 2:\n",
    "            offset = self.memory[self.pointer + param]\n",
    "            return self.relBase + offset\n",
    "        else:\n",
    "            print('Param type error')\n",
    "            return 0\n",
    "        \n",
    "        \n",
    "    def make_moves(self):\n",
    "        self.runtime+=1\n",
    "        #print(self.direction)\n",
    "        compass = [1,4,2,3]\n",
    "        turns = [-1j,1,1j,-1]\n",
    "        #self.facing = 0\n",
    "        #np = p + dp[d]\n",
    "\n",
    "        if self.direction==1:\n",
    "            dx=0\n",
    "            dy=1\n",
    "        elif self.direction ==3:\n",
    "            dx=1\n",
    "            dy=0\n",
    "        elif self.direction ==2:\n",
    "            dx=0\n",
    "            dy=-1\n",
    "        elif self.direction ==4:\n",
    "            dx=-1\n",
    "            dy=0\n",
    "\n",
    "        \n",
    "        if self.status == 1:\n",
    "            self.current_pos = [self.current_pos[0]+dx, self.current_pos[1]+dy]\n",
    "            self.results.add((self.direction,self.current_pos[0],self.current_pos[1],self.status))\n",
    "            self.facing = (self.facing+self.turn_dir+6)%4\n",
    "\n",
    "            \n",
    "        elif self.status == 2:\n",
    "            self.current_pos = [self.current_pos[0]+dx, self.current_pos[1]+dy]\n",
    "            self.results.add((self.direction,self.current_pos[0],self.current_pos[1],self.status))\n",
    "            self.halt = True\n",
    "            \n",
    "        elif self.status == 0 :\n",
    "            self.results.add((self.direction,self.current_pos[0]+dx,self.current_pos[1]+dy,self.status))\n",
    "            self.blocked = True\n",
    "            self.walls.add((self.current_pos[0]+dx,self.current_pos[1]+dy))\n",
    "            self.facing = (self.facing+self.turn_dir+4)%4\n",
    "        \n",
    "        self.direction = compass[self.facing]\n",
    "        #print(self.direction)\n",
    "                  \n",
    "    \n",
    "VERBOSE=True\n",
    "data = list(map(lambda x: int(x), open('./input-15.txt', \"r\").read().split(','))) + [0 for i in range(10000)]\n",
    "left_turn_machine = IntcodeMachine(data,turn_dir=1)\n",
    "left_turn_machine.process()\n",
    "\n",
    "data = list(map(lambda x: int(x), open('./input-15.txt', \"r\").read().split(','))) + [0 for i in range(10000)]\n",
    "right_turn_machine = IntcodeMachine(data,turn_dir=-1)\n",
    "right_turn_machine.process()\n",
    "\n"
   ]
  },
  {
   "cell_type": "code",
   "execution_count": 183,
   "metadata": {},
   "outputs": [
    {
     "data": {
      "text/plain": [
       "(597, 2597)"
      ]
     },
     "execution_count": 183,
     "metadata": {},
     "output_type": "execute_result"
    }
   ],
   "source": [
    "len(left_turn_machine.results) , len(right_turn_machine.results)"
   ]
  },
  {
   "cell_type": "code",
   "execution_count": 185,
   "metadata": {},
   "outputs": [
    {
     "data": {
      "image/png": "[encoded data removed]",
      "text/plain": [
       "<Figure size 864x864 with 1 Axes>"
      ]
     },
     "metadata": {
      "needs_background": "light"
     },
     "output_type": "display_data"
    }
   ],
   "source": [
    "big_results = left_turn_machine.results.union(right_turn_machine.results)\n",
    "#big_results = right_turn_machine.results\n",
    "\n",
    "\n",
    "plt.figure(figsize=(12,12))\n",
    "plt.scatter(0,0,marker='o',c='g')\n",
    "\n",
    "for direction,x,y,status in list(big_results):\n",
    "    if status == 0 :\n",
    "        plt.scatter(x,y,marker = 'X',c='b')\n",
    "    elif status == 1:\n",
    "        plt.scatter(x,y,marker='.',c='k')\n",
    "    elif status == 2:\n",
    "        plt.scatter(x,y,marker='o',c='r')\n",
    "\n",
    "        "
   ]
  },
  {
   "cell_type": "code",
   "execution_count": null,
   "metadata": {},
   "outputs": [],
   "source": [
    "np.ones((-25,25))\n",
    "for direction,x,y,status in list(big_results):\n",
    "\n"
   ]
  },
  {
   "cell_type": "code",
   "execution_count": 188,
   "metadata": {},
   "outputs": [
    {
     "name": "stdout",
     "output_type": "stream",
     "text": [
      "module found at: 16 -14\n",
      "(25, 25) (41, 11)\n"
     ]
    }
   ],
   "source": [
    "np.ones((50,50))\n",
    "\n",
    "start = (25, 25)\n",
    "maze = np.ones((50,50))*5\n",
    "for d,x,y,s in big_results:\n",
    "    if s==2:\n",
    "        print('module found at:',x,y)\n",
    "        end = (x+25,y+25)\n",
    "    elif s==1:\n",
    "        maze[x+25,y+25] = 0\n",
    "    \n",
    "\n",
    "\n",
    "print(start,end)"
   ]
  },
  {
   "cell_type": "code",
   "execution_count": 194,
   "metadata": {},
   "outputs": [
    {
     "data": {
      "text/plain": [
       "<matplotlib.collections.PathCollection at 0x108fca390>"
      ]
     },
     "execution_count": 194,
     "metadata": {},
     "output_type": "execute_result"
    },
    {
     "data": {
      "image/png": "[encoded data removed]",
      "text/plain": [
       "<Figure size 432x288 with 1 Axes>"
      ]
     },
     "metadata": {
      "needs_background": "light"
     },
     "output_type": "display_data"
    }
   ],
   "source": [
    "plt.imshow(maze)\n",
    "plt.scatter(start[0],start[1],c='r')\n",
    "plt.scatter(end[0],end[1],c='g')"
   ]
  },
  {
   "cell_type": "code",
   "execution_count": 196,
   "metadata": {},
   "outputs": [
    {
     "name": "stdout",
     "output_type": "stream",
     "text": [
      "Starting A* search\n"
     ]
    },
    {
     "ename": "KeyboardInterrupt",
     "evalue": "",
     "output_type": "error",
     "traceback": [
      "\u001b[0;31m---------------------------------------------------------------------------\u001b[0m",
      "\u001b[0;31mKeyboardInterrupt\u001b[0m                         Traceback (most recent call last)",
      "\u001b[0;32m<ipython-input-196-dd4c2de71d40>\u001b[0m in \u001b[0;36m<module>\u001b[0;34m\u001b[0m\n\u001b[1;32m      1\u001b[0m \u001b[0mprint\u001b[0m\u001b[0;34m(\u001b[0m\u001b[0;34m'Starting A* search'\u001b[0m\u001b[0;34m)\u001b[0m\u001b[0;34m\u001b[0m\u001b[0;34m\u001b[0m\u001b[0m\n\u001b[0;32m----> 2\u001b[0;31m \u001b[0mpath\u001b[0m \u001b[0;34m=\u001b[0m \u001b[0mastar\u001b[0m\u001b[0;34m(\u001b[0m\u001b[0mmaze\u001b[0m\u001b[0;34m,\u001b[0m \u001b[0mstart\u001b[0m\u001b[0;34m,\u001b[0m \u001b[0mend\u001b[0m\u001b[0;34m)\u001b[0m\u001b[0;34m\u001b[0m\u001b[0;34m\u001b[0m\u001b[0m\n\u001b[0m\u001b[1;32m      3\u001b[0m \u001b[0mprint\u001b[0m\u001b[0;34m(\u001b[0m\u001b[0mpath\u001b[0m\u001b[0;34m)\u001b[0m\u001b[0;34m\u001b[0m\u001b[0;34m\u001b[0m\u001b[0m\n\u001b[1;32m      4\u001b[0m \u001b[0mprint\u001b[0m\u001b[0;34m(\u001b[0m\u001b[0mlen\u001b[0m\u001b[0;34m(\u001b[0m\u001b[0mpath\u001b[0m\u001b[0;34m)\u001b[0m\u001b[0;34m)\u001b[0m\u001b[0;34m\u001b[0m\u001b[0;34m\u001b[0m\u001b[0m\n",
      "\u001b[0;32m<ipython-input-135-e7619e30b1aa>\u001b[0m in \u001b[0;36mastar\u001b[0;34m(maze, start, end)\u001b[0m\n\u001b[1;32m     80\u001b[0m             \u001b[0;31m# Child is on the closed list\u001b[0m\u001b[0;34m\u001b[0m\u001b[0;34m\u001b[0m\u001b[0;34m\u001b[0m\u001b[0m\n\u001b[1;32m     81\u001b[0m             \u001b[0;32mfor\u001b[0m \u001b[0mclosed_child\u001b[0m \u001b[0;32min\u001b[0m \u001b[0mclosed_list\u001b[0m\u001b[0;34m:\u001b[0m\u001b[0;34m\u001b[0m\u001b[0;34m\u001b[0m\u001b[0m\n\u001b[0;32m---> 82\u001b[0;31m                 \u001b[0;32mif\u001b[0m \u001b[0mchild\u001b[0m \u001b[0;34m==\u001b[0m \u001b[0mclosed_child\u001b[0m\u001b[0;34m:\u001b[0m\u001b[0;34m\u001b[0m\u001b[0;34m\u001b[0m\u001b[0m\n\u001b[0m\u001b[1;32m     83\u001b[0m                     \u001b[0;32mcontinue\u001b[0m\u001b[0;34m\u001b[0m\u001b[0;34m\u001b[0m\u001b[0m\n\u001b[1;32m     84\u001b[0m \u001b[0;34m\u001b[0m\u001b[0m\n",
      "\u001b[0;32m<ipython-input-135-e7619e30b1aa>\u001b[0m in \u001b[0;36m__eq__\u001b[0;34m(self, other)\u001b[0m\n\u001b[1;32m     11\u001b[0m \u001b[0;34m\u001b[0m\u001b[0m\n\u001b[1;32m     12\u001b[0m     \u001b[0;32mdef\u001b[0m \u001b[0m__eq__\u001b[0m\u001b[0;34m(\u001b[0m\u001b[0mself\u001b[0m\u001b[0;34m,\u001b[0m \u001b[0mother\u001b[0m\u001b[0;34m)\u001b[0m\u001b[0;34m:\u001b[0m\u001b[0;34m\u001b[0m\u001b[0;34m\u001b[0m\u001b[0m\n\u001b[0;32m---> 13\u001b[0;31m         \u001b[0;32mreturn\u001b[0m \u001b[0mself\u001b[0m\u001b[0;34m.\u001b[0m\u001b[0mposition\u001b[0m \u001b[0;34m==\u001b[0m \u001b[0mother\u001b[0m\u001b[0;34m.\u001b[0m\u001b[0mposition\u001b[0m\u001b[0;34m\u001b[0m\u001b[0;34m\u001b[0m\u001b[0m\n\u001b[0m\u001b[1;32m     14\u001b[0m \u001b[0;34m\u001b[0m\u001b[0m\n\u001b[1;32m     15\u001b[0m \u001b[0;34m\u001b[0m\u001b[0m\n",
      "\u001b[0;31mKeyboardInterrupt\u001b[0m: "
     ]
    }
   ],
   "source": [
    "print('Starting A* search')\n",
    "path = astar(maze, start, end)\n",
    "print(path)\n",
    "print(len(path))"
   ]
  },
  {
   "cell_type": "code",
   "execution_count": null,
   "metadata": {},
   "outputs": [],
   "source": [
    "scipy.ndimage.morphology.binary_dilation"
   ]
  },
  {
   "cell_type": "code",
   "execution_count": 264,
   "metadata": {},
   "outputs": [
    {
     "name": "stdout",
     "output_type": "stream",
     "text": [
      "module found at: 16 -14\n",
      "(19, 19) (35, 5)\n"
     ]
    },
    {
     "data": {
      "text/plain": [
       "<matplotlib.image.AxesImage at 0x12b714128>"
      ]
     },
     "execution_count": 264,
     "metadata": {},
     "output_type": "execute_result"
    },
    {
     "data": {
      "image/png": "[encoded data removed]",
      "text/plain": [
       "<Figure size 432x288 with 1 Axes>"
      ]
     },
     "metadata": {
      "needs_background": "light"
     },
     "output_type": "display_data"
    }
   ],
   "source": [
    "gridsize=41\n",
    "midpint = 19\n",
    "start = (midpint, midpint)\n",
    "maze = np.ones((gridsize,gridsize))*-1\n",
    "for d,x,y,s in big_results:\n",
    "    if s==2:\n",
    "        print('module found at:',x,y)\n",
    "        end = (x+midpint,y+midpint)\n",
    "        maze[x+midpint,y+midpint] = 2\n",
    "    elif s==1:\n",
    "        maze[x+midpint,y+midpint] = 1\n",
    "    \n",
    "\n",
    "print(start,end)\n",
    "plt.imshow(maze)\n",
    "#plt.scatter(start[0],start[1],c='r')\n",
    "#plt.scatter(end[0],end[1],c='g')"
   ]
  },
  {
   "cell_type": "code",
   "execution_count": 265,
   "metadata": {},
   "outputs": [],
   "source": [
    "import copy\n",
    "\n",
    "guide = copy.deepcopy(maze)"
   ]
  },
  {
   "cell_type": "code",
   "execution_count": 266,
   "metadata": {},
   "outputs": [],
   "source": [
    "from scipy.ndimage.morphology import binary_dilation\n",
    "from scipy.ndimage import grey_dilation\n"
   ]
  },
  {
   "cell_type": "code",
   "execution_count": 267,
   "metadata": {},
   "outputs": [
    {
     "data": {
      "text/plain": [
       "797"
      ]
     },
     "execution_count": 267,
     "metadata": {},
     "output_type": "execute_result"
    }
   ],
   "source": [
    "(guide==1).sum()"
   ]
  },
  {
   "cell_type": "code",
   "execution_count": 268,
   "metadata": {},
   "outputs": [
    {
     "name": "stdout",
     "output_type": "stream",
     "text": [
      "274\n"
     ]
    }
   ],
   "source": [
    "tmp = maze\n",
    "tmap = []\n",
    "for i in range(0,500):\n",
    "    tmp = np.ceil(grey_dilation(tmp,size=(3,3))*guide)\n",
    "    tmap.append(tmp)\n",
    "    if np.sum(tmp>1) == 797:\n",
    "        print(i)\n",
    "        break\n"
   ]
  },
  {
   "cell_type": "code",
   "execution_count": 241,
   "metadata": {},
   "outputs": [
    {
     "data": {
      "text/plain": [
       "array([[1., 1., 1., ..., 1., 1., 1.],\n",
       "       [1., 0., 0., ..., 0., 0., 1.],\n",
       "       [1., 1., 1., ..., 1., 1., 1.],\n",
       "       ...,\n",
       "       [1., 0., 1., ..., 1., 1., 1.],\n",
       "       [1., 0., 0., ..., 0., 0., 1.],\n",
       "       [1., 1., 1., ..., 1., 1., 1.]])"
      ]
     },
     "execution_count": 241,
     "metadata": {},
     "output_type": "execute_result"
    }
   ],
   "source": [
    "np.ceil(grey_dilation(maze,size=(3,3))*guide)"
   ]
  },
  {
   "cell_type": "code",
   "execution_count": null,
   "metadata": {},
   "outputs": [],
   "source": [
    "for n,t in enumerate(tmap):\n",
    "    #plt.figure()\n",
    "    plt.imshow(t>1)\n",
    "    plt.savefig('./figs/'+str(n).zfill(3)+'.png')"
   ]
  },
  {
   "cell_type": "code",
   "execution_count": null,
   "metadata": {},
   "outputs": [],
   "source": []
  }
 ],
 "metadata": {
  "kernelspec": {
   "display_name": "Python 3",
   "language": "python",
   "name": "python3"
  },
  "language_info": {
   "codemirror_mode": {
    "name": "ipython",
    "version": 3
   },
   "file_extension": ".py",
   "mimetype": "text/x-python",
   "name": "python",
   "nbconvert_exporter": "python",
   "pygments_lexer": "ipython3",
   "version": "3.7.3"
  }
 },
 "nbformat": 4,
 "nbformat_minor": 2
}

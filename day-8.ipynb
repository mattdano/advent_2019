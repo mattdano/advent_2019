{
 "cells": [
  {
   "cell_type": "markdown",
   "metadata": {},
   "source": [
    "--- Day 8: Space Image Format ---\n",
    "\n",
    "The Elves' spirits are lifted when they realize you have an opportunity to reboot one of their Mars rovers, and so they are curious if you would spend a brief sojourn on Mars. You land your ship near the rover.\n",
    "\n",
    "When you reach the rover, you discover that it's already in the process of rebooting! It's just waiting for someone to enter a BIOS password. The Elf responsible for the rover takes a picture of the password (your puzzle input) and sends it to you via the Digital Sending Network.\n",
    "\n",
    "Unfortunately, images sent via the Digital Sending Network aren't encoded with any normal encoding; instead, they're encoded in a special Space Image Format. None of the Elves seem to remember why this is the case. They send you the instructions to decode it.\n",
    "\n",
    "Images are sent as a series of digits that each represent the color of a single pixel. The digits fill each row of the image left-to-right, then move downward to the next row, filling rows top-to-bottom until every pixel of the image is filled.\n",
    "\n",
    "Each image actually consists of a series of identically-sized layers that are filled in this way. So, the first digit corresponds to the top-left pixel of the first layer, the second digit corresponds to the pixel to the right of that on the same layer, and so on until the last digit, which corresponds to the bottom-right pixel of the last layer.\n",
    "\n",
    "For example, given an image 3 pixels wide and 2 pixels tall, the image data 123456789012 corresponds to the following image layers:\n",
    "\n",
    "Layer 1: 123\n",
    "         456\n",
    "\n",
    "Layer 2: 789\n",
    "         012\n",
    "The image you received is 25 pixels wide and 6 pixels tall.\n",
    "\n",
    "To make sure the image wasn't corrupted during transmission, the Elves would like you to find the layer that contains the fewest 0 digits. On that layer, what is the number of 1 digits multiplied by the number of 2 digits?"
   ]
  },
  {
   "cell_type": "code",
   "execution_count": 1,
   "metadata": {},
   "outputs": [],
   "source": [
    "import numpy as np"
   ]
  },
  {
   "cell_type": "code",
   "execution_count": 2,
   "metadata": {},
   "outputs": [],
   "source": [
    "dat = open('input-8.txt','r').readlines()"
   ]
  },
  {
   "cell_type": "code",
   "execution_count": 3,
   "metadata": {},
   "outputs": [],
   "source": [
    "nums = []\n",
    "for c in dat[0][:-1]:\n",
    "    nums.append(int(c))"
   ]
  },
  {
   "cell_type": "code",
   "execution_count": 12,
   "metadata": {},
   "outputs": [
    {
     "data": {
      "text/plain": [
       "array([[[1, 2, 3],\n",
       "        [4, 5, 6]],\n",
       "\n",
       "       [[7, 8, 9],\n",
       "        [0, 1, 2]]])"
      ]
     },
     "execution_count": 12,
     "metadata": {},
     "output_type": "execute_result"
    }
   ],
   "source": [
    "np.reshape(np.asarray([1,2,3,4,5,6,7,8,9,0,1,2]),(2,2,3))"
   ]
  },
  {
   "cell_type": "code",
   "execution_count": 14,
   "metadata": {},
   "outputs": [],
   "source": [
    "layers = np.reshape(np.asarray(nums),(100,6,25))"
   ]
  },
  {
   "cell_type": "code",
   "execution_count": 26,
   "metadata": {},
   "outputs": [
    {
     "data": {
      "text/plain": [
       "5"
      ]
     },
     "execution_count": 26,
     "metadata": {},
     "output_type": "execute_result"
    }
   ],
   "source": [
    "layers = np.reshape(np.asarray(nums),(100,6*25))\n",
    "layer_fewest_zeros = (layers == 0).sum(axis=1).argmin()\n",
    "layer_fewest_zeros"
   ]
  },
  {
   "cell_type": "code",
   "execution_count": 30,
   "metadata": {},
   "outputs": [
    {
     "data": {
      "text/plain": [
       "2460"
      ]
     },
     "execution_count": 30,
     "metadata": {},
     "output_type": "execute_result"
    }
   ],
   "source": [
    "layers = np.reshape(np.asarray(nums),(100,6,25))\n",
    "selected = layers[layer_fewest_zeros,:,:]\n",
    "\n",
    "(selected.ravel()==1).sum()*(selected.ravel()==2).sum()"
   ]
  },
  {
   "cell_type": "markdown",
   "metadata": {},
   "source": [
    "--- Part Two ---\n",
    "\n",
    "Now you're ready to decode the image. The image is rendered by stacking the layers and aligning the pixels with the same positions in each layer. The digits indicate the color of the corresponding pixel: 0 is black, 1 is white, and 2 is transparent.\n",
    "\n",
    "The layers are rendered with the first layer in front and the last layer in back. So, if a given position has a transparent pixel in the first and second layers, a black pixel in the third layer, and a white pixel in the fourth layer, the final image would have a black pixel at that position.\n",
    "\n",
    "For example, given an image 2 pixels wide and 2 pixels tall, the image data 0222112222120000 corresponds to the following image layers:\n",
    "\n",
    "Layer 1: 02\n",
    "         22\n",
    "\n",
    "Layer 2: 11\n",
    "         22\n",
    "\n",
    "Layer 3: 22\n",
    "         12\n",
    "\n",
    "Layer 4: 00\n",
    "         00\n",
    "Then, the full image can be found by determining the top visible pixel in each position:\n",
    "\n",
    "The top-left pixel is black because the top layer is 0.\n",
    "The top-right pixel is white because the top layer is 2 (transparent), but the second layer is 1.\n",
    "The bottom-left pixel is white because the top two layers are 2, but the third layer is 1.\n",
    "The bottom-right pixel is black because the only visible pixel in that position is 0 (from layer 4).\n",
    "So, the final image looks like this:\n",
    "\n",
    "01\n",
    "10\n",
    "What message is produced after decoding your image?\n",
    "\n"
   ]
  },
  {
   "cell_type": "code",
   "execution_count": 5,
   "metadata": {},
   "outputs": [
    {
     "data": {
      "text/plain": [
       "100.0"
      ]
     },
     "execution_count": 5,
     "metadata": {},
     "output_type": "execute_result"
    }
   ],
   "source": [
    "#2s do nothing\n",
    "#1 is white\n",
    "#0 is black"
   ]
  },
  {
   "cell_type": "code",
   "execution_count": 42,
   "metadata": {},
   "outputs": [],
   "source": [
    "def which_colour(inputlist):\n",
    "    for colour in inputlist:\n",
    "        if colour != 2:\n",
    "            return colour\n",
    "\n",
    "blank = np.zeros((6,25))\n",
    "\n",
    "layers = np.reshape(np.asarray(nums),(100,6,25))\n",
    "for i in range(0,6):\n",
    "    for j in range(0,25):\n",
    "        #print(layers[:,i,j])\n",
    "        blank[i,j]= which_colour(layers[:,i,j])\n",
    "                \n",
    "        \n",
    "    "
   ]
  },
  {
   "cell_type": "code",
   "execution_count": 43,
   "metadata": {},
   "outputs": [],
   "source": [
    "import matplotlib.pyplot as plt\n",
    "%matplotlib inline\n"
   ]
  },
  {
   "cell_type": "code",
   "execution_count": 44,
   "metadata": {},
   "outputs": [
    {
     "data": {
      "text/plain": [
       "<matplotlib.image.AxesImage at 0x11ee82780>"
      ]
     },
     "execution_count": 44,
     "metadata": {},
     "output_type": "execute_result"
    },
    {
     "data": {
      "image/png": "[encoded data removed]",
      "text/plain": [
       "<Figure size 432x288 with 1 Axes>"
      ]
     },
     "metadata": {
      "needs_background": "light"
     },
     "output_type": "display_data"
    }
   ],
   "source": [
    "plt.imshow(blank)"
   ]
  },
  {
   "cell_type": "code",
   "execution_count": null,
   "metadata": {},
   "outputs": [],
   "source": [
    "LRFKU"
   ]
  }
 ],
 "metadata": {
  "kernelspec": {
   "display_name": "Python 3",
   "language": "python",
   "name": "python3"
  }
 },
 "nbformat": 4,
 "nbformat_minor": 2
}

{
 "cells": [
  {
   "cell_type": "code",
   "execution_count": 1,
   "metadata": {},
   "outputs": [],
   "source": [
    "import numpy as np\n"
   ]
  },
  {
   "cell_type": "code",
   "execution_count": 13,
   "metadata": {},
   "outputs": [
    {
     "data": {
      "text/plain": [
       "0"
      ]
     },
     "execution_count": 13,
     "metadata": {},
     "output_type": "execute_result"
    }
   ],
   "source": [
    "4%4"
   ]
  },
  {
   "cell_type": "code",
   "execution_count": 119,
   "metadata": {},
   "outputs": [
    {
     "name": "stdout",
     "output_type": "stream",
     "text": [
      "halt\n"
     ]
    }
   ],
   "source": [
    "import sys\n",
    "import itertools\n",
    "\n",
    "\n",
    "class IntcodeMachine:\n",
    "    VERBOSE=True\n",
    "    def __init__(self, data,first=False):\n",
    "        self.memory = data\n",
    "        self.pointer = 0\n",
    "        self.size = len(data)\n",
    "        self.out = 0\n",
    "        self.halt = False\n",
    "        self.initialized = False\n",
    "        self.relBase = 0\n",
    "        \n",
    "        self.painted_x = dict()\n",
    "        self.painted_y = dict()\n",
    "        self.current_pos = [0,0]\n",
    "        # do a self.direction%4\n",
    "        # {0:up,1:right,2:down,3:left}\n",
    "        self.direction = 0\n",
    "        self.ticker = 0\n",
    "        self.paint_history = []\n",
    "        self.colour = 1\n",
    "        self.first = first\n",
    "        \n",
    "       \n",
    "\n",
    "    def process(self, inputArg = None):\n",
    "        if inputArg != None:  \n",
    "            self.initialized = True\n",
    "        \n",
    "        while self.pointer < self.size:\n",
    "            opcode = int(str(self.memory[self.pointer])[-2:])\n",
    "            paramModes = str(self.memory[self.pointer])[:-2]\n",
    "            if (opcode == 99): # HALT\n",
    "                self.halt = True\n",
    "                print('halt')\n",
    "                break\n",
    "            elif (opcode == 1): # OPCODE 01 - Sum\n",
    "                self.__setParam(paramModes, 3, self.__getParam(paramModes,1) + self.__getParam(paramModes,2))\n",
    "                self.pointer += 4\n",
    "            elif (opcode == 2): # OPCODE 02 - Multiply\n",
    "                self.__setParam(paramModes, 3, self.__getParam(paramModes,1) * self.__getParam(paramModes,2))\n",
    "                self.pointer += 4\n",
    "            elif (opcode == 3):  # OPCODE 03 - Input\n",
    "                if inputArg != None:\n",
    "                    self.__setParam(paramModes, 1, inputArg)\n",
    "                    inputArg = None\n",
    "                else:\n",
    "                    if VERBOSE:\n",
    "                        most_recent = 0 \n",
    "                        for x,y,z in machine.paint_history:\n",
    "                            if x==self.current_pos[0] and y ==self.current_pos[1]:\n",
    "                                most_recent = z\n",
    "                        if self.first:\n",
    "                            self.first = False\n",
    "                            self.__setParam(paramModes, 1, 1)\n",
    "\n",
    "\n",
    "                        else:\n",
    "                            self.__setParam(paramModes, 1, most_recent)\n",
    "                    else:\n",
    "                        break\n",
    "                self.pointer += 2\n",
    "            elif (opcode == 4):  # OPCODE 04 - Print\n",
    "                out = self.__getParam(paramModes,1)\n",
    "                self.ticker +=1\n",
    "\n",
    "#                if VERBOSE:\n",
    "#                    print(\">> \" + str(out))\n",
    "                \n",
    "                self.out = out\n",
    "                if self.ticker ==1:\n",
    "                    self.colour=out\n",
    "                    #print(out)\n",
    "                \n",
    "\n",
    "                if self.ticker ==2:\n",
    "                    if out ==0:\n",
    "                        self.direction-=1\n",
    "                    elif out ==1:\n",
    "                        self.direction+=1\n",
    "\n",
    "                    self.direction = self.direction%4\n",
    "                    self.make_moves()\n",
    "\n",
    "                    self.ticker =0\n",
    "\n",
    "\n",
    "                \n",
    "                self.pointer += 2\n",
    "            # Start of part 2\n",
    "            elif (opcode == 5):  # OPCODE 05 - JNZ (jump if not zero)\n",
    "                if (self.__getParam(paramModes,1) != 0):\n",
    "                    self.pointer = self.__getParam(paramModes,2)\n",
    "                else:\n",
    "                    self.pointer += 3\n",
    "            elif (opcode == 6):  # OPCODE 06 - JZ (jump if zero)\n",
    "                if (self.__getParam(paramModes,1) == 0):\n",
    "                    self.pointer = self.__getParam(paramModes,2)\n",
    "                else:\n",
    "                    self.pointer += 3\n",
    "            elif (opcode == 7):  # OPCODE 07 - Set 1 if first is less than second else 0\n",
    "                if (self.__getParam(paramModes,1) < self.__getParam(paramModes,2)):\n",
    "                    self.__setParam(paramModes, 3, 1)\n",
    "                else:\n",
    "                    self.__setParam(paramModes, 3, 0)\n",
    "                self.pointer += 4\n",
    "            elif (opcode == 8):  # OPCODE 08 - Set 1 if first is equal to second else 0\n",
    "                if (self.__getParam(paramModes,1) == self.__getParam(paramModes,2)):\n",
    "                    self.__setParam(paramModes, 3, 1)\n",
    "                else:\n",
    "                    self.__setParam(paramModes, 3, 0)\n",
    "                self.pointer += 4\n",
    "            elif opcode == 9:\n",
    "                self.relBase += self.__getParam(paramModes,1)\n",
    "                self.pointer += 2\n",
    "            else:\n",
    "                print(str(self.memory[self.pointer]) + \" Something went wrong :(\")\n",
    "                break\n",
    "\n",
    "    def __getParam(self, paramModes, param):\n",
    "        return self.memory[self.__getParamAddress(paramModes, param)]\n",
    "\n",
    "    def __setParam(self, paramModes, param, value):\n",
    "        self.memory[self.__getParamAddress(paramModes, param)] = value\n",
    "    \n",
    "    def __getParamAddress(self, paramModes, param):\n",
    "        type = 0\n",
    "        try:\n",
    "            type = int(paramModes[-param])\n",
    "        except:\n",
    "            pass\n",
    "        if type == 0:\n",
    "            return self.memory[self.pointer + param]\n",
    "        elif type == 1:\n",
    "            return self.pointer + param\n",
    "        elif type == 2:\n",
    "            offset = self.memory[self.pointer + param]\n",
    "            return self.relBase + offset\n",
    "        else:\n",
    "            print('Param type error')\n",
    "            return 0\n",
    "        \n",
    "        \n",
    "    def make_moves(self):\n",
    "        #paint current pos tile\n",
    "        self.paint_history.append([self.current_pos[0],self.current_pos[1],self.colour])\n",
    "        #do a turn\n",
    "        \n",
    "        #{0:up,1:right,2:down,3:left}\n",
    "        if self.direction==0:\n",
    "            dx=0\n",
    "            dy=1\n",
    "        elif self.direction ==1:\n",
    "            dx=1\n",
    "            dy=0\n",
    "        elif self.direction ==2:\n",
    "            dx=0\n",
    "            dy=-1\n",
    "        elif self.direction ==3:\n",
    "            dx=-1\n",
    "            dy=0\n",
    "            \n",
    "        self.current_pos = [self.current_pos[0]+dx, self.current_pos[1]+dy]\n",
    "    \n",
    "    \n",
    "VERBOSE=True\n",
    "data = list(map(lambda x: int(x), open('./input-11.txt', \"r\").read().split(','))) + [0 for i in range(10000)]\n",
    "machine = IntcodeMachine(data)\n",
    "machine.process()\n"
   ]
  },
  {
   "cell_type": "code",
   "execution_count": 121,
   "metadata": {},
   "outputs": [],
   "source": [
    "painted = set()\n",
    "for x,y,c in machine.paint_history:\n",
    "    mystr = str(x)+'_'+str(y)\n",
    "    #print(mystr)\n",
    "    painted.add(mystr)"
   ]
  },
  {
   "cell_type": "code",
   "execution_count": 122,
   "metadata": {},
   "outputs": [
    {
     "data": {
      "text/plain": [
       "2343"
      ]
     },
     "execution_count": 122,
     "metadata": {},
     "output_type": "execute_result"
    }
   ],
   "source": [
    "len(painted)"
   ]
  },
  {
   "cell_type": "code",
   "execution_count": 123,
   "metadata": {},
   "outputs": [
    {
     "name": "stdout",
     "output_type": "stream",
     "text": [
      "halt\n"
     ]
    }
   ],
   "source": [
    "data = list(map(lambda x: int(x), open('./input-11.txt', \"r\").read().split(','))) + [0 for i in range(10000)]\n",
    "machine = IntcodeMachine(data,True)\n",
    "machine.process()"
   ]
  },
  {
   "cell_type": "code",
   "execution_count": 124,
   "metadata": {},
   "outputs": [
    {
     "data": {
      "text/plain": [
       "249"
      ]
     },
     "execution_count": 124,
     "metadata": {},
     "output_type": "execute_result"
    }
   ],
   "source": [
    "painted = set()\n",
    "for x,y,c in machine.paint_history:\n",
    "    mystr = str(x)+'_'+str(y)\n",
    "    #print(mystr)\n",
    "    painted.add(mystr)\n",
    "    \n",
    "len(painted)"
   ]
  },
  {
   "cell_type": "code",
   "execution_count": 125,
   "metadata": {},
   "outputs": [],
   "source": [
    "most_recent = 0 \n",
    "for x,y,z in machine.paint_history:\n",
    "    if x==2 and y ==2:\n",
    "        most_recent = z\n"
   ]
  },
  {
   "cell_type": "code",
   "execution_count": 126,
   "metadata": {},
   "outputs": [],
   "source": [
    "import matplotlib.pyplot as plt"
   ]
  },
  {
   "cell_type": "code",
   "execution_count": 127,
   "metadata": {},
   "outputs": [],
   "source": [
    "hist = np.asarray(machine.paint_history)"
   ]
  },
  {
   "cell_type": "code",
   "execution_count": 128,
   "metadata": {},
   "outputs": [
    {
     "data": {
      "text/plain": [
       "array([ 0, -5])"
      ]
     },
     "execution_count": 128,
     "metadata": {},
     "output_type": "execute_result"
    }
   ],
   "source": [
    "np.max(hist.T[0:2],axis=1)\n",
    "np.min(hist.T[0:2],axis=1)"
   ]
  },
  {
   "cell_type": "code",
   "execution_count": 129,
   "metadata": {},
   "outputs": [
    {
     "data": {
      "text/plain": [
       "<matplotlib.collections.PathCollection at 0x11a7b3780>"
      ]
     },
     "execution_count": 129,
     "metadata": {},
     "output_type": "execute_result"
    },
    {
     "data": {
      "image/png": "[encoded data removed]",
      "text/plain": [
       "<Figure size 864x144 with 1 Axes>"
      ]
     },
     "metadata": {
      "needs_background": "light"
     },
     "output_type": "display_data"
    }
   ],
   "source": [
    "plt.figure(figsize=(12,2))\n",
    "plt.scatter(hist.T[0],hist.T[1],c=1-hist.T[2],s=20)"
   ]
  },
  {
   "cell_type": "code",
   "execution_count": 131,
   "metadata": {},
   "outputs": [],
   "source": [
    "#JFBERBUH"
   ]
  },
  {
   "cell_type": "code",
   "execution_count": null,
   "metadata": {},
   "outputs": [],
   "source": []
  }
 ],
 "metadata": {
  "kernelspec": {
   "display_name": "Python 3",
   "language": "python",
   "name": "python3"
  },
  "language_info": {
   "codemirror_mode": {
    "name": "ipython",
    "version": 3
   },
   "file_extension": ".py",
   "mimetype": "text/x-python",
   "name": "python",
   "nbconvert_exporter": "python",
   "pygments_lexer": "ipython3",
   "version": "3.7.3"
  }
 },
 "nbformat": 4,
 "nbformat_minor": 2
}

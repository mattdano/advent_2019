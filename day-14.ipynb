{
 "cells": [
  {
   "cell_type": "code",
   "execution_count": 2,
   "metadata": {},
   "outputs": [],
   "source": [
    "f = open('input-14.txt','r')"
   ]
  },
  {
   "cell_type": "code",
   "execution_count": 3,
   "metadata": {},
   "outputs": [],
   "source": [
    "recipe = f.readlines()"
   ]
  },
  {
   "cell_type": "code",
   "execution_count": 30,
   "metadata": {},
   "outputs": [
    {
     "name": "stdout",
     "output_type": "stream",
     "text": [
      "[[[13, 'WDSR'], [16, 'FXQB']], ['BSTCB', '6']]\n",
      "[[[185, 'ORE']], ['BWSCM', '9']]\n",
      "[[[1, 'WDSR']], ['RLFSK', '9']]\n",
      "[[[5, 'LCGL'], [7, 'BWSCM']], ['BSVW', '9']]\n",
      "[[[6, 'NLSL']], ['MJSQ', '3']]\n",
      "[[[1, 'JFGM'], [7, 'BSVW'], [7, 'XRLN']], ['WDSR', '6']]\n",
      "[[[3, 'WZLFV']], ['BZDPT', '3']]\n",
      "[[[5, 'DTHZH'], [12, 'QNTH'], [20, 'BSTCB']], ['BMXF', '4']]\n",
      "[[[18, 'JSJWJ'], [6, 'JLMD'], [6, 'TMTF'], [3, 'XSNL'], [3, 'BWSCM'], [83, 'LQTJ'], [29, 'KDGNL']], ['FUEL', '1']]\n",
      "[[[1, 'LWPD'], [28, 'RTML'], [16, 'FDPM'], [8, 'JSJWJ'], [2, 'TNMTC'], [20, 'DTHZH']], ['JLMD', '9']]\n",
      "[[[1, 'SDVXW']], ['BPTV', '6']]\n",
      "[[[180, 'ORE']], ['JFGM', '7']]\n",
      "[[[13, 'RLFSK'], [15, 'HRKD'], [1, 'RFQWL']], ['QNTH', '5']]\n",
      "[[[1, 'RFQWL'], [3, 'NZHFV'], [18, 'XRLN']], ['HRKD', '9']]\n",
      "[[[2, 'NLSL'], [2, 'JXVZ']], ['GTSJ', '5']]\n",
      "[[[19, 'SDVXW'], [2, 'BSVW'], [19, 'XRLN']], ['QMFV', '6']]\n",
      "[[[1, 'CSKP']], ['LQTJ', '8']]\n",
      "[[[4, 'ZSZBN']], ['RBRZT', '5']]\n",
      "[[[8, 'WZLFV'], [3, 'QNWRZ'], [1, 'DTHZH']], ['RTRN', '4']]\n",
      "[[[1, 'CGXBG'], [1, 'PGXFJ']], ['TNMTC', '3']]\n",
      "[[[4, 'CGCSL']], ['RNFW', '7']]\n",
      "[[[9, 'CGCSL'], [1, 'HGTL'], [3, 'BHJXV']], ['RSVR', '8']]\n",
      "[[[5, 'NGJW']], ['HTDM', '8']]\n",
      "[[[21, 'FPBTN'], [1, 'TNMTC'], [2, 'RBRZT'], [8, 'BDHJ'], [28, 'WXQX'], [9, 'RNFW'], [6, 'RSVR']], ['XSNL', '1']]\n",
      "[[[2, 'WZLFV']], ['BHJXV', '5']]\n",
      "[[[10, 'BSTCB'], [4, 'NLSL']], ['HQLHN', '4']]\n",
      "[[[1, 'JFGM']], ['SDVXW', '7']]\n",
      "[[[6, 'CSKP']], ['FXQB', '8']]\n",
      "[[[6, 'TNMTC'], [4, 'BZDPT'], [1, 'BPTV'], [18, 'JSJWJ'], [2, 'DTHZH'], [1, 'LWPD'], [8, 'RTML']], ['KDGNL', '8']]\n",
      "[[[6, 'XFGWZ']], ['CGCSL', '7']]\n",
      "[[[3, 'GTSJ']], ['LWPD', '4']]\n",
      "[[[1, 'WDSR'], [1, 'QNWRZ']], ['XFGWZ', '5']]\n",
      "[[[11, 'CSKP'], [10, 'SDVXW']], ['QNWRZ', '4']]\n",
      "[[[7, 'BSVW'], [4, 'QMFV']], ['RFQWL', '1']]\n",
      "[[[12, 'QNTH'], [10, 'HTDM'], [3, 'WXQX']], ['FDPM', '3']]\n",
      "[[[2, 'HGTL']], ['PGXFJ', '7']]\n",
      "[[[14, 'SDVXW']], ['CSKP', '6']]\n",
      "[[[11, 'HQLHN'], [1, 'GTSJ'], [1, 'QNTH']], ['TMTF', '5']]\n",
      "[[[173, 'ORE']], ['LCGL', '9']]\n",
      "[[[4, 'WXQX']], ['BDHJ', '9']]\n",
      "[[[5, 'BZDPT']], ['NGJW', '7']]\n",
      "[[[1, 'GTSJ'], [23, 'QNWRZ'], [6, 'LQTJ']], ['JSJWJ', '7']]\n",
      "[[[23, 'NZHFV'], [3, 'HQLHN']], ['DTHZH', '6']]\n",
      "[[[2, 'JFGM']], ['XRLN', '4']]\n",
      "[[[20, 'CGCSL']], ['WXQX', '9']]\n",
      "[[[2, 'BSTCB'], [3, 'HRKD']], ['NLSL', '9']]\n",
      "[[[1, 'MJSQ'], [1, 'BPTV']], ['CGXBG', '8']]\n",
      "[[[1, 'RTRN'], [1, 'RSVR']], ['ZSZBN', '3']]\n",
      "[[[2, 'NZHFV'], [1, 'BSTCB'], [20, 'HRKD']], ['JXVZ', '1']]\n",
      "[[[2, 'BZDPT']], ['HGTL', '5']]\n",
      "[[[1, 'ZSZBN'], [14, 'FDPM']], ['RTML', '9']]\n",
      "[[[3, 'BMXF']], ['FPBTN', '8']]\n",
      "[[[1, 'SDVXW'], [8, 'XRLN']], ['NZHFV', '9']]\n",
      "[[[18, 'QNWRZ'], [7, 'RLFSK']], ['WZLFV', '1']]\n"
     ]
    }
   ],
   "source": [
    "ingredients = dict()\n",
    "for line in recipe:\n",
    "    x,y = line.split('=>')\n",
    "    x = x.strip()\n",
    "    y = y.strip().replace('\\n','').split()\n",
    "    yamt, yname = y\n",
    "    \n",
    "    stuff = []\n",
    "    for i in x.split(','):\n",
    "        amt, name = i.strip().split()\n",
    "        stuff.append([int(amt),name])\n",
    "        \n",
    "    print([stuff,[yname,yamt]])\n",
    "    ingredients[yname] = [int(yamt),stuff]"
   ]
  },
  {
   "cell_type": "code",
   "execution_count": 31,
   "metadata": {},
   "outputs": [
    {
     "data": {
      "text/plain": [
       "[1,\n",
       " [[18, 'JSJWJ'],\n",
       "  [6, 'JLMD'],\n",
       "  [6, 'TMTF'],\n",
       "  [3, 'XSNL'],\n",
       "  [3, 'BWSCM'],\n",
       "  [83, 'LQTJ'],\n",
       "  [29, 'KDGNL']]]"
      ]
     },
     "execution_count": 31,
     "metadata": {},
     "output_type": "execute_result"
    }
   ],
   "source": [
    "ingredients['FUEL']"
   ]
  },
  {
   "cell_type": "code",
   "execution_count": 32,
   "metadata": {},
   "outputs": [
    {
     "data": {
      "text/plain": [
       "[7, [[1, 'GTSJ'], [23, 'QNWRZ'], [6, 'LQTJ']]]"
      ]
     },
     "execution_count": 32,
     "metadata": {},
     "output_type": "execute_result"
    }
   ],
   "source": [
    "ingredients['JSJWJ']"
   ]
  },
  {
   "cell_type": "code",
   "execution_count": 40,
   "metadata": {},
   "outputs": [],
   "source": [
    "from collections import defaultdict\n",
    "\n",
    "amount_made = defaultdict(int)\n",
    "amount_made['FUEL'] = 0"
   ]
  },
  {
   "cell_type": "code",
   "execution_count": 34,
   "metadata": {},
   "outputs": [
    {
     "name": "stdout",
     "output_type": "stream",
     "text": [
      "[18, 'JSJWJ']\n",
      "[6, 'JLMD']\n",
      "[6, 'TMTF']\n",
      "[3, 'XSNL']\n",
      "[3, 'BWSCM']\n",
      "[83, 'LQTJ']\n",
      "[29, 'KDGNL']\n"
     ]
    }
   ],
   "source": [
    "tally = dict()\n",
    "\n",
    "start_place = ingredients['FUEL']\n",
    "\n",
    "while any(tally[key] > 0 and key != \"ORE\" for key in tally):\n",
    "    print(needed)\n",
    "    amount_needed = needed[0]\n",
    "    item = needed[1]\n",
    "    made_at_a_time = ingredients[item][0]\n",
    "    amount_needed/made_at_a_time"
   ]
  },
  {
   "cell_type": "code",
   "execution_count": 53,
   "metadata": {},
   "outputs": [
    {
     "data": {
      "text/plain": [
       "{'BSTCB': [6, [[13, 'WDSR'], [16, 'FXQB']]],\n",
       " 'BWSCM': [9, [[185, 'ORE']]],\n",
       " 'RLFSK': [9, [[1, 'WDSR']]],\n",
       " 'BSVW': [9, [[5, 'LCGL'], [7, 'BWSCM']]],\n",
       " 'MJSQ': [3, [[6, 'NLSL']]],\n",
       " 'WDSR': [6, [[1, 'JFGM'], [7, 'BSVW'], [7, 'XRLN']]],\n",
       " 'BZDPT': [3, [[3, 'WZLFV']]],\n",
       " 'BMXF': [4, [[5, 'DTHZH'], [12, 'QNTH'], [20, 'BSTCB']]],\n",
       " 'FUEL': [1,\n",
       "  [[18, 'JSJWJ'],\n",
       "   [6, 'JLMD'],\n",
       "   [6, 'TMTF'],\n",
       "   [3, 'XSNL'],\n",
       "   [3, 'BWSCM'],\n",
       "   [83, 'LQTJ'],\n",
       "   [29, 'KDGNL']]],\n",
       " 'JLMD': [9,\n",
       "  [[1, 'LWPD'],\n",
       "   [28, 'RTML'],\n",
       "   [16, 'FDPM'],\n",
       "   [8, 'JSJWJ'],\n",
       "   [2, 'TNMTC'],\n",
       "   [20, 'DTHZH']]],\n",
       " 'BPTV': [6, [[1, 'SDVXW']]],\n",
       " 'JFGM': [7, [[180, 'ORE']]],\n",
       " 'QNTH': [5, [[13, 'RLFSK'], [15, 'HRKD'], [1, 'RFQWL']]],\n",
       " 'HRKD': [9, [[1, 'RFQWL'], [3, 'NZHFV'], [18, 'XRLN']]],\n",
       " 'GTSJ': [5, [[2, 'NLSL'], [2, 'JXVZ']]],\n",
       " 'QMFV': [6, [[19, 'SDVXW'], [2, 'BSVW'], [19, 'XRLN']]],\n",
       " 'LQTJ': [8, [[1, 'CSKP']]],\n",
       " 'RBRZT': [5, [[4, 'ZSZBN']]],\n",
       " 'RTRN': [4, [[8, 'WZLFV'], [3, 'QNWRZ'], [1, 'DTHZH']]],\n",
       " 'TNMTC': [3, [[1, 'CGXBG'], [1, 'PGXFJ']]],\n",
       " 'RNFW': [7, [[4, 'CGCSL']]],\n",
       " 'RSVR': [8, [[9, 'CGCSL'], [1, 'HGTL'], [3, 'BHJXV']]],\n",
       " 'HTDM': [8, [[5, 'NGJW']]],\n",
       " 'XSNL': [1,\n",
       "  [[21, 'FPBTN'],\n",
       "   [1, 'TNMTC'],\n",
       "   [2, 'RBRZT'],\n",
       "   [8, 'BDHJ'],\n",
       "   [28, 'WXQX'],\n",
       "   [9, 'RNFW'],\n",
       "   [6, 'RSVR']]],\n",
       " 'BHJXV': [5, [[2, 'WZLFV']]],\n",
       " 'HQLHN': [4, [[10, 'BSTCB'], [4, 'NLSL']]],\n",
       " 'SDVXW': [7, [[1, 'JFGM']]],\n",
       " 'FXQB': [8, [[6, 'CSKP']]],\n",
       " 'KDGNL': [8,\n",
       "  [[6, 'TNMTC'],\n",
       "   [4, 'BZDPT'],\n",
       "   [1, 'BPTV'],\n",
       "   [18, 'JSJWJ'],\n",
       "   [2, 'DTHZH'],\n",
       "   [1, 'LWPD'],\n",
       "   [8, 'RTML']]],\n",
       " 'CGCSL': [7, [[6, 'XFGWZ']]],\n",
       " 'LWPD': [4, [[3, 'GTSJ']]],\n",
       " 'XFGWZ': [5, [[1, 'WDSR'], [1, 'QNWRZ']]],\n",
       " 'QNWRZ': [4, [[11, 'CSKP'], [10, 'SDVXW']]],\n",
       " 'RFQWL': [1, [[7, 'BSVW'], [4, 'QMFV']]],\n",
       " 'FDPM': [3, [[12, 'QNTH'], [10, 'HTDM'], [3, 'WXQX']]],\n",
       " 'PGXFJ': [7, [[2, 'HGTL']]],\n",
       " 'CSKP': [6, [[14, 'SDVXW']]],\n",
       " 'TMTF': [5, [[11, 'HQLHN'], [1, 'GTSJ'], [1, 'QNTH']]],\n",
       " 'LCGL': [9, [[173, 'ORE']]],\n",
       " 'BDHJ': [9, [[4, 'WXQX']]],\n",
       " 'NGJW': [7, [[5, 'BZDPT']]],\n",
       " 'JSJWJ': [7, [[1, 'GTSJ'], [23, 'QNWRZ'], [6, 'LQTJ']]],\n",
       " 'DTHZH': [6, [[23, 'NZHFV'], [3, 'HQLHN']]],\n",
       " 'XRLN': [4, [[2, 'JFGM']]],\n",
       " 'WXQX': [9, [[20, 'CGCSL']]],\n",
       " 'NLSL': [9, [[2, 'BSTCB'], [3, 'HRKD']]],\n",
       " 'CGXBG': [8, [[1, 'MJSQ'], [1, 'BPTV']]],\n",
       " 'ZSZBN': [3, [[1, 'RTRN'], [1, 'RSVR']]],\n",
       " 'JXVZ': [1, [[2, 'NZHFV'], [1, 'BSTCB'], [20, 'HRKD']]],\n",
       " 'HGTL': [5, [[2, 'BZDPT']]],\n",
       " 'RTML': [9, [[1, 'ZSZBN'], [14, 'FDPM']]],\n",
       " 'FPBTN': [8, [[3, 'BMXF']]],\n",
       " 'NZHFV': [9, [[1, 'SDVXW'], [8, 'XRLN']]],\n",
       " 'WZLFV': [1, [[18, 'QNWRZ'], [7, 'RLFSK']]]}"
      ]
     },
     "execution_count": 53,
     "metadata": {},
     "output_type": "execute_result"
    }
   ],
   "source": [
    "ingredients"
   ]
  },
  {
   "cell_type": "code",
   "execution_count": 37,
   "metadata": {},
   "outputs": [
    {
     "data": {
      "text/plain": [
       "3.625"
      ]
     },
     "execution_count": 37,
     "metadata": {},
     "output_type": "execute_result"
    }
   ],
   "source": [
    "import math\n",
    "\n",
    "amount_needed/made_at_a_time"
   ]
  },
  {
   "cell_type": "code",
   "execution_count": 128,
   "metadata": {},
   "outputs": [
    {
     "data": {
      "text/plain": [
       "387001"
      ]
     },
     "execution_count": 128,
     "metadata": {},
     "output_type": "execute_result"
    }
   ],
   "source": [
    "def fuel_needed(fuel_amount):\n",
    "    required = {}\n",
    "    required['FUEL'] = fuel_amount\n",
    "\n",
    "    while any(required[key] > 0 and key != \"ORE\" for key in required):\n",
    "        ingredient = [k for k in required if required[k] > 0 and k != \"ORE\"][0]\n",
    "        #keep track of all the produced and remainders. \n",
    "        zq = required[ingredient]\n",
    "        produced = ingredients[ingredient][0]\n",
    "        remainder = math.ceil(required[ingredient]/produced)\n",
    "        required[ingredient] -= produced*remainder\n",
    "        \n",
    "        for ing in ingredients[ingredient][1]:\n",
    "            if ing[1] in required:\n",
    "                required[ing[1]] += ing[0]*remainder\n",
    "            else:\n",
    "                required[ing[1]] = ing[0]*remainder\n",
    "    return required['ORE']\n",
    "\n",
    "fuel_needed(1)\n"
   ]
  },
  {
   "cell_type": "code",
   "execution_count": 129,
   "metadata": {},
   "outputs": [
    {
     "data": {
      "text/plain": [
       "[1,\n",
       " [[18, 'JSJWJ'],\n",
       "  [6, 'JLMD'],\n",
       "  [6, 'TMTF'],\n",
       "  [3, 'XSNL'],\n",
       "  [3, 'BWSCM'],\n",
       "  [83, 'LQTJ'],\n",
       "  [29, 'KDGNL']]]"
      ]
     },
     "execution_count": 129,
     "metadata": {},
     "output_type": "execute_result"
    }
   ],
   "source": [
    "ingredients['FUEL']"
   ]
  },
  {
   "cell_type": "code",
   "execution_count": 124,
   "metadata": {},
   "outputs": [
    {
     "name": "stdout",
     "output_type": "stream",
     "text": [
      "3400000\n"
     ]
    }
   ],
   "source": [
    "for xx in range(3000000,4000000,100000):\n",
    "    if ((fuel_needed(xx) < 1000000000000) and (fuel_needed(xx+100000) > 1000000000000)):\n",
    "        search = xx\n",
    "        print(xx)\n"
   ]
  },
  {
   "cell_type": "code",
   "execution_count": 125,
   "metadata": {},
   "outputs": [
    {
     "name": "stdout",
     "output_type": "stream",
     "text": [
      "3412420\n"
     ]
    }
   ],
   "source": [
    "# print the roughly amount needed, then just inspect the fucker manually\n",
    "for xx in range(3410000,3450000,10):\n",
    "    if ((fuel_needed(xx) < 1000000000000) and (fuel_needed(xx+10) > 1000000000000)):\n",
    "        search = xx\n",
    "        print(xx)"
   ]
  },
  {
   "cell_type": "code",
   "execution_count": 126,
   "metadata": {},
   "outputs": [
    {
     "data": {
      "text/plain": [
       "999999808842"
      ]
     },
     "execution_count": 126,
     "metadata": {},
     "output_type": "execute_result"
    }
   ],
   "source": [
    "fuel_needed(3412429)# < 1000000000000\n"
   ]
  },
  {
   "cell_type": "code",
   "execution_count": 127,
   "metadata": {},
   "outputs": [
    {
     "name": "stdout",
     "output_type": "stream",
     "text": [
      "3412429\n"
     ]
    }
   ],
   "source": [
    "for i in range(search-20,search+20):\n",
    "    amt = fuel_needed(i)\n",
    "    #print(i,abs(1E12-amt))\n",
    "    if amt > 1E12:\n",
    "        print(last_amount)\n",
    "        break\n",
    "    last_amount = i"
   ]
  }
 ],
 "metadata": {
  "kernelspec": {
   "display_name": "Python 3",
   "language": "python",
   "name": "python3"
  },
  "language_info": {
   "codemirror_mode": {
    "name": "ipython",
    "version": 3
   },
   "file_extension": ".py",
   "mimetype": "text/x-python",
   "name": "python",
   "nbconvert_exporter": "python",
   "pygments_lexer": "ipython3",
   "version": "3.7.3"
  }
 },
 "nbformat": 4,
 "nbformat_minor": 2
}

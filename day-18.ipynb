{
 "cells": [
  {
   "cell_type": "code",
   "execution_count": 1,
   "metadata": {},
   "outputs": [],
   "source": [
    "f = open('input-18.txt','r')\n",
    "lines = f.readlines()\n",
    "f.close()"
   ]
  },
  {
   "cell_type": "code",
   "execution_count": 18,
   "metadata": {},
   "outputs": [],
   "source": [
    "from collections import defaultdict\n",
    "grid = defaultdict(list)\n",
    "len(lines)\n",
    "key=dict()\n",
    "door=dict()\n",
    "for y, l in enumerate(lines):\n",
    "    for x,n in enumerate(l.replace('\\n','')):\n",
    "        if n == '@':\n",
    "            start = (x,y)\n",
    "            grid[y].append('.')\n",
    "        elif n =='#' or n == '.':\n",
    "            grid[y].append(n)\n",
    "        else:\n",
    "            if n.islower():\n",
    "                key[n] = (x,y)\n",
    "            if n.isupper():\n",
    "                door[n] = (x,y)\n",
    "                \n",
    "            grid[y].append('.')\n"
   ]
  },
  {
   "cell_type": "code",
   "execution_count": 19,
   "metadata": {},
   "outputs": [
    {
     "data": {
      "text/plain": [
       "{'a': (17, 1),\n",
       " 'e': (35, 1),\n",
       " 't': (55, 3),\n",
       " 'q': (3, 5),\n",
       " 'm': (75, 7),\n",
       " 'h': (33, 9),\n",
       " 'w': (1, 13),\n",
       " 'y': (17, 21),\n",
       " 'o': (1, 35),\n",
       " 'u': (51, 41),\n",
       " 'r': (59, 43),\n",
       " 'b': (65, 45),\n",
       " 'c': (79, 45),\n",
       " 'p': (1, 47),\n",
       " 'x': (11, 47),\n",
       " 'z': (7, 61),\n",
       " 'j': (45, 65),\n",
       " 'd': (59, 65),\n",
       " 'n': (13, 69),\n",
       " 'i': (79, 73),\n",
       " 'f': (49, 75),\n",
       " 'k': (31, 77),\n",
       " 's': (43, 79),\n",
       " 'g': (51, 79),\n",
       " 'v': (63, 79),\n",
       " 'l': (79, 79)}"
      ]
     },
     "execution_count": 19,
     "metadata": {},
     "output_type": "execute_result"
    }
   ],
   "source": [
    "key"
   ]
  },
  {
   "cell_type": "code",
   "execution_count": 9,
   "metadata": {},
   "outputs": [
    {
     "data": {
      "text/plain": [
       "['#################################################################################\\n',\n",
       " '#...#.......#....a..#...........#..e....#.....#...#...#...........#.............#\\n',\n",
       " '#.#.#.#####.#.#####.#.#######.###.###.#.#.###.#.#.###.#.#########.#.###.#######.#\\n',\n",
       " '#.#.#.#.#...#.#.K...#...#...#.....#.#.#.#.#.....#.#...#t......#...#.#...#.......#\\n',\n",
       " '#.###B#.#.#.#.#.#######.###.#######.#.###.#######.#.#########.#.#####.###.#######\\n',\n",
       " '#.#q..#.#.#.#.#...#.....#...#.......#...#...#.#...#.........#.#.......#.#.#.....#\\n',\n",
       " '#.#.###.#.#.#.###.#.#####.#.#.#####.###.###.#.#.#####.#######.#########.#.###.#.#\\n',\n",
       " '#...#...#.#.#...#.#.......#...#.....#...#...#.........#.....#.......#.#...#m..#.#\\n',\n",
       " '#.#####.#.#####.#.#######.#########.#.###F#############.###.###.###.#.#.###.#####\\n',\n",
       " '#...#...#.......#.......#.#......h#.#...#.#.....#.......#.....#.#...#.#.#.......#\\n',\n",
       " '###.#.###########.#####.#.#.#####.#####.#.#.###.#.#####.#####.#.#.###G#.###.###.#\\n',\n",
       " '#.#.#.......#...#...#...#.#...J.#.#.....#.#...#.#.....#.#...#.#.#.#...#...#...#.#\\n',\n",
       " '#.#.#####.###.#.###.#####.#####.#.#.###.#.###.#.#####.#.#.#.#.###.#.#.###.#####S#\\n',\n",
       " '#w#...#...#...#...#...#...#...#.#...#...#.#...#.....#.#.#.#.#.....#.#...#.......#\\n',\n",
       " '#.###.#.###.#####.###.#.#####.#.#####.###.#.###.###.#.###.#.#######.###.#######.#\\n',\n",
       " '#...#...#...#.....#...#.#...#.#...#.#.#.#.#.#.#.#...#.....#...#...#.#.#.........#\\n',\n",
       " '#.#####.#.###.#####.###.#.#.#.###.#.#.#.#.#.#.#.###.#########.#.#.#.#.###########\\n',\n",
       " '#.......#...#.....#.#.....#...#.#.#...#.#...#.#...#.....#...#.#.#.#.....#.......#\\n',\n",
       " '#C#########.#####.#.#.#######.#.#.###.#.#.###.###.#####.#.###.#.#######.###.###.#\\n',\n",
       " '#.#.......#.#.#...#...#...#.....#...#...#.......#.#.....#.#...#.....#.#...#...#.#\\n',\n",
       " '#.###.#.#.#.#.#.###.###.#.#########.###.#####.###.#.#####.#.#####.#.#.###.###.###\\n',\n",
       " '#...#.#.#.#.#.#.#y..#...#...#.....#.#...#.....#...#.#.....#...#...#.....#...#...#\\n',\n",
       " '###.###.#I#.#.#.###########.#.###.#.#####.#####.###.#.###.#####.###########.#.#.#\\n',\n",
       " '#...#...#.#.#.#...........#...#...#.#...#...#...#.#...#...#.....#.........#.#.#.#\\n',\n",
       " '#.###.###.#.#.#####.###########.###.#.#.#####.###.#.#####.###.###.#######.#.###.#\\n',\n",
       " '#.....#...#...#...#.............#.....#.#.....#...#.#...#.....#...#.....#...#...#\\n',\n",
       " '#####.#######.#.#.###############.#####.#.#######.#.#.#.#####.#.###.###.#####.###\\n',\n",
       " '#.....#.....#...#.#...#.............#...#.......#...#.#.#.....#.#.#.#.#.........#\\n',\n",
       " '#.#####.###.#####.#.###.###########.#.###.#####.#####.#.#######.#.#.#.#########.#\\n',\n",
       " '#...#.#.#.#.......#...........#...#.#...#.....#.......#...#.....#...#.....#...#.#\\n',\n",
       " '###.#.#.#.###############.#####.#.#.###.#####.###########.#.#######.###.###.#.#.#\\n',\n",
       " '#...#.#...#.......#.....#.#.....#.#...#.#.....#...#.....#...#.....#.#...#...#...#\\n',\n",
       " '#.###.###.#.#####.#.###.###.#####.#####.#.#####.###.###.#####.###.#.#.###.#####.#\\n',\n",
       " '#.#.....#.#...#.....#...#...#.....#.....#...#.......#...#.....#.#.#...#...#.....#\\n',\n",
       " '#.###L#.#.#.#.#######.###.###.#####.###.###.#.#######.#.###.###.#.###.#.###.#####\\n',\n",
       " '#o..#.#.#.#.#.....#.#.#...#.#...#...#.#.#.#.#.....#...#.....#.#...#...#.#.......#\\n',\n",
       " '###.###.#.#######.#.#.#.#.#.###.#.###.#.#.#.#######.#########.#.#######.#######.#\\n',\n",
       " '#.#...#.#.......#.#.#.#.#.#.#...#.#...#.#.#.#...#...#.........#.#.....#.......#.#\\n',\n",
       " '#.###.#.#######.#.#.#.###.#.#.###.#.###.#.#.#.#.#.###.#######.#.#.###.#######.#.#\\n',\n",
       " '#.............#...#.......#.......#...........#...#.........#.....#...........#.#\\n',\n",
       " '#######################################.@.#######################################\\n',\n",
       " '#.....#.....#.#.........#.#...#.....#...........#..u........#...#.......#.....Q.#\\n',\n",
       " '#.#.###.#.#.#.#.#######.#.#.#.#.#.###.#.#.#.###.#.#########.###.#.#.###.#######.#\\n',\n",
       " '#.#.#...#.#.#.#.....#...#.R.#.#.#.....#.#.#...#...#.......#r....#.#...#.........#\\n',\n",
       " '#.#.#.###.#.#.#####.###.#####.#.#######.#.###.#######.###.#####.#.###.#####.#####\\n',\n",
       " '#.#...#...#.......#...#.....#.#.#.#...#.#.#.#...#...#.#...#.....#b#.#...#...#..c#\\n',\n",
       " '#.#####.#############.#####.#.#.#.#.#.#.#.#.###.#.#.#.#.###.#####.#.###.#####.#.#\\n',\n",
       " '#p#...V.#..x#.......#...#...#.....#.#...#.#...#.#.#...#...#.#.#...#...#.....#.#.#\\n',\n",
       " '###.#####.#.#.#####.###.#.###U#####.###.#.#.#.#.#.#######.#.#.#.###.#.#####.#.#.#\\n',\n",
       " '#...#.....#.....#...#...#.#.#.#.....#.#.#...#.#.#.#...#.#.#...#...#.#.....#...#.#\\n',\n",
       " '#.###.###########.###.###.#.#.#.#####.#.#.#####.#.#.#.#.#.###.###.#.#####.#####.#\\n',\n",
       " '#.......#.......#...#.#.#.#...#...#.....#.#...#.#.#.#.#...#...#.#.#.....#...#.#.#\\n',\n",
       " '#.#####.#.#####.###.#.#.#.#.#####.#######.#.#.#.#.#H#.###.#.###.#.#.###.###.#.#.#\\n',\n",
       " '#.#...#.#.#...#.....#.#...#.....#...#...#.#.#...#.#.#...#.#.....#.#...#.#.#...#.#\\n',\n",
       " '#.#.#.###.#.#######.#.###.#########.#.#.###.#####.#.###.###.#####.#####.#.###.#.#\\n',\n",
       " '#.#.#.....#...#.....#...#.#.......#...#.#...#.....#.#.#.....#...#.......#.....#.#\\n',\n",
       " '#.#.#########.#.#######.#.#.#####.#####.#.###.#.###.#.#######.#.#########.#####.#\\n',\n",
       " '#.#.........#.#.#.#.....#...#...#.....#.#...#.#.#.........#...#...#.....#...#...#\\n',\n",
       " '#.#########.#.#.#.#.#########.#.#####.#.#.#.#.###.#########.###.###.#.#####.#.#.#\\n',\n",
       " '#.#.......#.#.#...#.#.......#.#.....#.#.#.#.#.....#.#.........#.#...#.#.....#.#.#\\n',\n",
       " '#.#######.#.#.###.#.###.#####.#####.#.#.#.#.###.###.#.#########.#.###.#.#####.#.#\\n',\n",
       " '#......z..#.#.#...#...#.....#.#.....#.#.#.#...#.....#.......#.#.#.#.#...#...#.#.#\\n',\n",
       " '#########.#.#.#.#######.###.#.#.###.#.#.#.###.###########.###.#.#.#.#######.#.#.#\\n',\n",
       " '#.#.......#.#...#.....#.#.#.#.#.#...#.#.#.#.#.............#...#.#.......#...#.#.#\\n',\n",
       " '#.#.#######.#.###.#.#.#.#.#.#.#.#.###.#.#.#.###############.###.#######.#.###.#.#\\n',\n",
       " '#...#.......#...#.#.#.#...#...#.#...#.#.#....j#...#...#....d#...#...#...#...#.#.#\\n',\n",
       " '#.###.#########.###.#.###.#####.#####.#.#####.#.###.#.#.#######.#.#.#.#####.#.#.#\\n',\n",
       " '#...#.#.......#.#...#...#...#.#.....#...#...#.#.....#.#.Z.#.....#.#...#.....#.#.#\\n',\n",
       " '#D###.#####.###.#.#####.###.#.#####.###.###.#.#######.###.###.###.#######.###.#.#\\n',\n",
       " '#.#...#...#..n#...#.N.#.#...#.....#.....#...#.....#...#.#...#.....#.....#.#...#.#\\n',\n",
       " '###.###.#.###.#######.#.#.#####.#.#######.#######.#.#.#.###.#.#####.###.#.#.###W#\\n',\n",
       " '#...#...#.............#.#.....#.#.....M.#.#.......#.#...#...#.......#.....#...#.#\\n',\n",
       " '#.###.#.###############.#####.###.#####.#.#.#######.###.#.#######.#####.#####.#.#\\n',\n",
       " '#.#.P.#...#...#.......#.#...#.....#...#.#.#...#.....#...#...#.#...#...#.#.....#i#\\n',\n",
       " '#.#######.#.#.#.#####.#.#.#.#######.#.#.#.###.###.###.#####.#.#.###.#.###.#####.#\\n',\n",
       " '#.......#...#.......#...#.#.......#.#...#...#....f#.E.#...#.#.....#.#.#...#.O.#.#\\n',\n",
       " '#.#####.#################.###.#####.#####.#########.#####.#.#######X#.#.###.#.###\\n',\n",
       " '#.#.#...#...#...T...#.A.#...#..k..#.#...#.#...#...#.#...#.#.....#...#.#.....#...#\\n',\n",
       " '#.#.#.###.#.#.#####.#.#.###.#####.#.#.#.#.#.#.#.#.#.#.#.#.#####.#.###.#########.#\\n',\n",
       " '#...#.....#.......#...#.........#.Y...#.#..s#...#..g..#.......#v..#............l#\\n',\n",
       " '#################################################################################\\n']"
      ]
     },
     "execution_count": 9,
     "metadata": {},
     "output_type": "execute_result"
    }
   ],
   "source": [
    "lines"
   ]
  },
  {
   "cell_type": "code",
   "execution_count": 23,
   "metadata": {},
   "outputs": [
    {
     "name": "stdout",
     "output_type": "stream",
     "text": [
      "#################################################################################\n",
      "#...#.......#.......#...........#.......#.....#...#...#...........#.............#\n",
      "#.#.#.#####.#.#####.#.#######.###.###.#.#.###.#.#.###.#.#########.#.###.#######.#\n",
      "#.#.#.#.#...#.#.....#...#...#.....#.#.#.#.#.....#.#...#.......#...#.#...#.......#\n",
      "#.###.#.#.#.#.#.#######.###.#######.#.###.#######.#.#########.#.#####.###.#######\n",
      "#.#...#.#.#.#.#...#.....#...#.......#...#...#.#...#.........#.#.......#.#.#.....#\n",
      "#.#.###.#.#.#.###.#.#####.#.#.#####.###.###.#.#.#####.#######.#########.#.###.#.#\n",
      "#...#...#.#.#...#.#.......#...#.....#...#...#.........#.....#.......#.#...#...#.#\n",
      "#.#####.#.#####.#.#######.#########.#.###.#############.###.###.###.#.#.###.#####\n",
      "#...#...#.......#.......#.#.......#.#...#.#.....#.......#.....#.#...#.#.#.......#\n",
      "###.#.###########.#####.#.#.#####.#####.#.#.###.#.#####.#####.#.#.###.#.###.###.#\n",
      "#.#.#.......#...#...#...#.#.....#.#.....#.#...#.#.....#.#...#.#.#.#...#...#...#.#\n",
      "#.#.#####.###.#.###.#####.#####.#.#.###.#.###.#.#####.#.#.#.#.###.#.#.###.#####.#\n",
      "#.#...#...#...#...#...#...#...#.#...#...#.#...#.....#.#.#.#.#.....#.#...#.......#\n",
      "#.###.#.###.#####.###.#.#####.#.#####.###.#.###.###.#.###.#.#######.###.#######.#\n",
      "#...#...#...#.....#...#.#...#.#...#.#.#.#.#.#.#.#...#.....#...#...#.#.#.........#\n",
      "#.#####.#.###.#####.###.#.#.#.###.#.#.#.#.#.#.#.###.#########.#.#.#.#.###########\n",
      "#.......#...#.....#.#.....#...#.#.#...#.#...#.#...#.....#...#.#.#.#.....#.......#\n",
      "#.#########.#####.#.#.#######.#.#.###.#.#.###.###.#####.#.###.#.#######.###.###.#\n",
      "#.#.......#.#.#...#...#...#.....#...#...#.......#.#.....#.#...#.....#.#...#...#.#\n",
      "#.###.#.#.#.#.#.###.###.#.#########.###.#####.###.#.#####.#.#####.#.#.###.###.###\n",
      "#...#.#.#.#.#.#.#...#...#...#.....#.#...#.....#...#.#.....#...#...#.....#...#...#\n",
      "###.###.#.#.#.#.###########.#.###.#.#####.#####.###.#.###.#####.###########.#.#.#\n",
      "#...#...#.#.#.#...........#...#...#.#...#...#...#.#...#...#.....#.........#.#.#.#\n",
      "#.###.###.#.#.#####.###########.###.#.#.#####.###.#.#####.###.###.#######.#.###.#\n",
      "#.....#...#...#...#.............#.....#.#.....#...#.#...#.....#...#.....#...#...#\n",
      "#####.#######.#.#.###############.#####.#.#######.#.#.#.#####.#.###.###.#####.###\n",
      "#.....#.....#...#.#...#.............#...#.......#...#.#.#.....#.#.#.#.#.........#\n",
      "#.#####.###.#####.#.###.###########.#.###.#####.#####.#.#######.#.#.#.#########.#\n",
      "#...#.#.#.#.......#...........#...#.#...#.....#.......#...#.....#...#.....#...#.#\n",
      "###.#.#.#.###############.#####.#.#.###.#####.###########.#.#######.###.###.#.#.#\n",
      "#...#.#...#.......#.....#.#.....#.#...#.#.....#...#.....#...#.....#.#...#...#...#\n",
      "#.###.###.#.#####.#.###.###.#####.#####.#.#####.###.###.#####.###.#.#.###.#####.#\n",
      "#.#.....#.#...#.....#...#...#.....#.....#...#.......#...#.....#.#.#...#...#.....#\n",
      "#.###.#.#.#.#.#######.###.###.#####.###.###.#.#######.#.###.###.#.###.#.###.#####\n",
      "#...#.#.#.#.#.....#.#.#...#.#...#...#.#.#.#.#.....#...#.....#.#...#...#.#.......#\n",
      "###.###.#.#######.#.#.#.#.#.###.#.###.#.#.#.#######.#########.#.#######.#######.#\n",
      "#.#...#.#.......#.#.#.#.#.#.#...#.#...#.#.#.#...#...#.........#.#.....#.......#.#\n",
      "#.###.#.#######.#.#.#.###.#.#.###.#.###.#.#.#.#.#.###.#######.#.#.###.#######.#.#\n",
      "#.............#...#.......#.......#...........#...#.........#.....#...........#.#\n",
      "#######################################...#######################################\n",
      "#.....#.....#.#.........#.#...#.....#...........#...........#...#.......#.......#\n",
      "#.#.###.#.#.#.#.#######.#.#.#.#.#.###.#.#.#.###.#.#########.###.#.#.###.#######.#\n",
      "#.#.#...#.#.#.#.....#...#...#.#.#.....#.#.#...#...#.......#.....#.#...#.........#\n",
      "#.#.#.###.#.#.#####.###.#####.#.#######.#.###.#######.###.#####.#.###.#####.#####\n",
      "#.#...#...#.......#...#.....#.#.#.#...#.#.#.#...#...#.#...#.....#.#.#...#...#...#\n",
      "#.#####.#############.#####.#.#.#.#.#.#.#.#.###.#.#.#.#.###.#####.#.###.#####.#.#\n",
      "#.#.....#...#.......#...#...#.....#.#...#.#...#.#.#...#...#.#.#...#...#.....#.#.#\n",
      "###.#####.#.#.#####.###.#.###.#####.###.#.#.#.#.#.#######.#.#.#.###.#.#####.#.#.#\n",
      "#...#.....#.....#...#...#.#.#.#.....#.#.#...#.#.#.#...#.#.#...#...#.#.....#...#.#\n",
      "#.###.###########.###.###.#.#.#.#####.#.#.#####.#.#.#.#.#.###.###.#.#####.#####.#\n",
      "#.......#.......#...#.#.#.#...#...#.....#.#...#.#.#.#.#...#...#.#.#.....#...#.#.#\n",
      "#.#####.#.#####.###.#.#.#.#.#####.#######.#.#.#.#.#.#.###.#.###.#.#.###.###.#.#.#\n",
      "#.#...#.#.#...#.....#.#...#.....#...#...#.#.#...#.#.#...#.#.....#.#...#.#.#...#.#\n",
      "#.#.#.###.#.#######.#.###.#########.#.#.###.#####.#.###.###.#####.#####.#.###.#.#\n",
      "#.#.#.....#...#.....#...#.#.......#...#.#...#.....#.#.#.....#...#.......#.....#.#\n",
      "#.#.#########.#.#######.#.#.#####.#####.#.###.#.###.#.#######.#.#########.#####.#\n",
      "#.#.........#.#.#.#.....#...#...#.....#.#...#.#.#.........#...#...#.....#...#...#\n",
      "#.#########.#.#.#.#.#########.#.#####.#.#.#.#.###.#########.###.###.#.#####.#.#.#\n",
      "#.#.......#.#.#...#.#.......#.#.....#.#.#.#.#.....#.#.........#.#...#.#.....#.#.#\n",
      "#.#######.#.#.###.#.###.#####.#####.#.#.#.#.###.###.#.#########.#.###.#.#####.#.#\n",
      "#.........#.#.#...#...#.....#.#.....#.#.#.#...#.....#.......#.#.#.#.#...#...#.#.#\n",
      "#########.#.#.#.#######.###.#.#.###.#.#.#.###.###########.###.#.#.#.#######.#.#.#\n",
      "#.#.......#.#...#.....#.#.#.#.#.#...#.#.#.#.#.............#...#.#.......#...#.#.#\n",
      "#.#.#######.#.###.#.#.#.#.#.#.#.#.###.#.#.#.###############.###.#######.#.###.#.#\n",
      "#...#.......#...#.#.#.#...#...#.#...#.#.#.....#...#...#.....#...#...#...#...#.#.#\n",
      "#.###.#########.###.#.###.#####.#####.#.#####.#.###.#.#.#######.#.#.#.#####.#.#.#\n",
      "#...#.#.......#.#...#...#...#.#.....#...#...#.#.....#.#...#.....#.#...#.....#.#.#\n",
      "#.###.#####.###.#.#####.###.#.#####.###.###.#.#######.###.###.###.#######.###.#.#\n",
      "#.#...#...#...#...#...#.#...#.....#.....#...#.....#...#.#...#.....#.....#.#...#.#\n",
      "###.###.#.###.#######.#.#.#####.#.#######.#######.#.#.#.###.#.#####.###.#.#.###.#\n",
      "#...#...#.............#.#.....#.#.......#.#.......#.#...#...#.......#.....#...#.#\n",
      "#.###.#.###############.#####.###.#####.#.#.#######.###.#.#######.#####.#####.#.#\n",
      "#.#...#...#...#.......#.#...#.....#...#.#.#...#.....#...#...#.#...#...#.#.....#.#\n",
      "#.#######.#.#.#.#####.#.#.#.#######.#.#.#.###.###.###.#####.#.#.###.#.###.#####.#\n",
      "#.......#...#.......#...#.#.......#.#...#...#.....#...#...#.#.....#.#.#...#...#.#\n",
      "#.#####.#################.###.#####.#####.#########.#####.#.#######.#.#.###.#.###\n",
      "#.#.#...#...#.......#...#...#.....#.#...#.#...#...#.#...#.#.....#...#.#.....#...#\n",
      "#.#.#.###.#.#.#####.#.#.###.#####.#.#.#.#.#.#.#.#.#.#.#.#.#####.#.###.#########.#\n",
      "#...#.....#.......#...#.........#.....#.#...#...#.....#.......#...#.............#\n",
      "#################################################################################\n"
     ]
    }
   ],
   "source": [
    "#should be a blank map\n",
    "for m in grid.keys():\n",
    "    print(''.join(grid[m]))"
   ]
  },
  {
   "cell_type": "code",
   "execution_count": 20,
   "metadata": {},
   "outputs": [
    {
     "data": {
      "text/plain": [
       "(40, 40)"
      ]
     },
     "execution_count": 20,
     "metadata": {},
     "output_type": "execute_result"
    }
   ],
   "source": [
    "start"
   ]
  },
  {
   "cell_type": "code",
   "execution_count": 25,
   "metadata": {},
   "outputs": [],
   "source": [
    "#number of steps between two points in this maze.\n",
    "import networkx as nx\n",
    "\n",
    "graph = nx.Graph()\n",
    "\n",
    "for y,m in enumerate(grid.keys()):\n",
    "    for x,tile in enumerate(grid[m]):\n",
    "        if tile == '.':\n",
    "            if grid[m][x-1] == '.':\n",
    "                graph.add_edge((x,y), (x-1,y))\n",
    "            if grid[m][x+1] == '.':\n",
    "                graph.add_edge((x,y), (x+1,y))\n",
    "            if grid[m+1][x] == '.':\n",
    "                graph.add_edge((x,y), (x,y+1))\n",
    "            if grid[m-1][x] == '.':\n",
    "                graph.add_edge((x,y), (x,y-1))\n",
    "\n",
    "    "
   ]
  },
  {
   "cell_type": "code",
   "execution_count": 30,
   "metadata": {},
   "outputs": [
    {
     "data": {
      "text/plain": [
       "81"
      ]
     },
     "execution_count": 30,
     "metadata": {},
     "output_type": "execute_result"
    }
   ],
   "source": [
    "len(grid[0])"
   ]
  },
  {
   "cell_type": "code",
   "execution_count": 43,
   "metadata": {},
   "outputs": [],
   "source": [
    "import numpy as np\n",
    "arr_grid = np.zeros((81,81))\n",
    "for y,m in enumerate(grid.keys()):\n",
    "    for x,tile in enumerate(grid[m]):\n",
    "        if tile =='.':\n",
    "            arr_grid[y,x] = 2\n",
    "        if tile =='#':\n",
    "            arr_grid[y,x] = 1\n"
   ]
  },
  {
   "cell_type": "code",
   "execution_count": 44,
   "metadata": {},
   "outputs": [],
   "source": [
    "start_to_a = nx.shortest_path(graph, start, key['a'])"
   ]
  },
  {
   "cell_type": "code",
   "execution_count": 48,
   "metadata": {},
   "outputs": [
    {
     "data": {
      "text/plain": [
       "(40, 40)"
      ]
     },
     "execution_count": 48,
     "metadata": {},
     "output_type": "execute_result"
    }
   ],
   "source": [
    "start"
   ]
  },
  {
   "cell_type": "code",
   "execution_count": null,
   "metadata": {},
   "outputs": [],
   "source": [
    "# from the start point, compute the short key, then door combo.\n",
    "mystart = [40,40]\n",
    "nx.shortest_path(graph, mystart, key[k])\n",
    "mystart = key[k]\n",
    "nx.shortest_path(graph, mystart, door[k.upper()])\n",
    "\n"
   ]
  },
  {
   "cell_type": "code",
   "execution_count": 104,
   "metadata": {},
   "outputs": [],
   "source": [
    "import copy"
   ]
  },
  {
   "cell_type": "code",
   "execution_count": 179,
   "metadata": {},
   "outputs": [],
   "source": [
    "\n",
    "\n",
    "#distance to possible keys, some of these are not valid due to doors. \n",
    "kind = 'closest'\n",
    "def simulate(kind='random'):\n",
    "    route = []\n",
    "    start = (40,40)\n",
    "    simkeys = copy.deepcopy(key)\n",
    "    simdoors = copy.deepcopy(door)\n",
    "\n",
    "\n",
    "    total_dist=0\n",
    "    while True:\n",
    "        keybag = set()\n",
    "        doorunlocked = []\n",
    "\n",
    "        path = dict()\n",
    "        dist = dict()\n",
    "        for k in simkeys.keys():\n",
    "            doorblocked=False\n",
    "            path[k]=nx.shortest_path(graph, start, simkeys[k])\n",
    "\n",
    "            for dkey,d in simdoors.items():\n",
    "                if d in path[k] and dkey not in keybag:\n",
    "                    doorblocked = True\n",
    "                    break\n",
    "\n",
    "            if not doorblocked:\n",
    "                dist[k] = len(path[k])\n",
    "\n",
    "\n",
    "        #sort by closest:\n",
    "        if kind == 'closest':\n",
    "            choice = list({k: v for k, v in sorted(dist.items(), key=lambda item: item[1])}.keys())[0]\n",
    "\n",
    "        #randomally sorted\n",
    "        if kind == 'random':\n",
    "            choice = np.random.choice(list(dist.keys()))\n",
    "            \n",
    "        if kind == 'semirandom':\n",
    "            tmp = np.random.rand()\n",
    "            \n",
    "            if tmp >0.1:\n",
    "                limit = min(3,len(list(dist.keys())))\n",
    "                clist = list({k: v for k, v in sorted(dist.items(), key=lambda item: item[1])}.keys())[0:limit]\n",
    "                choice = np.random.choice(clist)\n",
    "            else:\n",
    "                choice = list({k: v for k, v in sorted(dist.items(), key=lambda item: item[1])}.keys())[0]\n",
    "\n",
    "\n",
    "        start = simkeys[choice]\n",
    "        keybag.add(choice)\n",
    "        route.append(choice)\n",
    "        del simkeys[choice]\n",
    "        del simdoors[choice.upper()]\n",
    "\n",
    "        total_dist+=dist[choice]\n",
    "\n",
    "        if len(list(simkeys.keys())) == 0:\n",
    "            break\n",
    "        #print('going to :',choice)\n",
    "    #print(total_dist)\n",
    "    return total_dist,route"
   ]
  },
  {
   "cell_type": "code",
   "execution_count": 184,
   "metadata": {},
   "outputs": [
    {
     "name": "stdout",
     "output_type": "stream",
     "text": [
      "(1, 1)\n"
     ]
    }
   ],
   "source": [
    "for g in graph.nodes:\n",
    "    print(g)\n",
    "    break"
   ]
  },
  {
   "cell_type": "code",
   "execution_count": 180,
   "metadata": {},
   "outputs": [
    {
     "name": "stdout",
     "output_type": "stream",
     "text": [
      "(59, 43)\n",
      "(45, 65)\n",
      "(33, 9)\n",
      "(17, 21)\n",
      "(35, 1)\n",
      "(49, 75)\n",
      "(43, 79)\n",
      "(75, 7)\n",
      "(55, 3)\n",
      "(51, 79)\n",
      "(51, 41)\n",
      "(31, 77)\n",
      "(65, 45)\n",
      "(17, 1)\n",
      "(3, 5)\n",
      "(1, 13)\n",
      "(79, 73)\n",
      "(11, 47)\n",
      "(13, 69)\n",
      "(79, 45)\n",
      "(1, 35)\n",
      "(63, 79)\n",
      "(7, 61)\n",
      "(1, 47)\n",
      "(79, 79)\n",
      "(59, 65)\n"
     ]
    },
    {
     "data": {
      "text/plain": [
       "6574"
      ]
     },
     "execution_count": 180,
     "metadata": {},
     "output_type": "execute_result"
    }
   ],
   "source": [
    "bestresult,mybroute = simulate(kind='semirandom')\n",
    "\n",
    "bestresult"
   ]
  },
  {
   "cell_type": "code",
   "execution_count": 176,
   "metadata": {},
   "outputs": [
    {
     "data": {
      "text/plain": [
       "(5342,\n",
       " ['u',\n",
       "  'r',\n",
       "  'j',\n",
       "  'f',\n",
       "  'h',\n",
       "  'e',\n",
       "  'y',\n",
       "  'g',\n",
       "  's',\n",
       "  'm',\n",
       "  't',\n",
       "  'k',\n",
       "  'a',\n",
       "  'b',\n",
       "  'c',\n",
       "  'q',\n",
       "  'w',\n",
       "  'o',\n",
       "  'i',\n",
       "  'l',\n",
       "  'x',\n",
       "  'z',\n",
       "  'n',\n",
       "  'v',\n",
       "  'd',\n",
       "  'p'])"
      ]
     },
     "execution_count": 176,
     "metadata": {},
     "output_type": "execute_result"
    }
   ],
   "source": [
    "bestresult = simulate(kind='closest')\n",
    "\n",
    "bestresult"
   ]
  },
  {
   "cell_type": "code",
   "execution_count": 177,
   "metadata": {},
   "outputs": [
    {
     "name": "stderr",
     "output_type": "stream",
     "text": [
      "  0% (1 of 500) |                        | Elapsed Time: 0:00:00 ETA:   0:02:36"
     ]
    },
    {
     "name": "stdout",
     "output_type": "stream",
     "text": [
      "5546\n"
     ]
    },
    {
     "name": "stderr",
     "output_type": "stream",
     "text": [
      "  1% (6 of 500) |                        | Elapsed Time: 0:00:01 ETA:   0:02:22"
     ]
    },
    {
     "name": "stdout",
     "output_type": "stream",
     "text": [
      "5190\n"
     ]
    },
    {
     "name": "stderr",
     "output_type": "stream",
     "text": [
      " 22% (114 of 500) |#####                 | Elapsed Time: 0:00:32 ETA:   0:01:52"
     ]
    },
    {
     "name": "stdout",
     "output_type": "stream",
     "text": [
      "5174\n"
     ]
    },
    {
     "name": "stderr",
     "output_type": "stream",
     "text": [
      " 23% (119 of 500) |#####                 | Elapsed Time: 0:00:34 ETA:   0:01:52"
     ]
    },
    {
     "name": "stdout",
     "output_type": "stream",
     "text": [
      "5010\n"
     ]
    },
    {
     "name": "stderr",
     "output_type": "stream",
     "text": [
      " 78% (394 of 500) |#################     | Elapsed Time: 0:01:54 ETA:   0:00:30"
     ]
    },
    {
     "name": "stdout",
     "output_type": "stream",
     "text": [
      "4930\n"
     ]
    },
    {
     "name": "stderr",
     "output_type": "stream",
     "text": [
      "100% (500 of 500) |######################| Elapsed Time: 0:02:25 Time:  0:02:25\n"
     ]
    }
   ],
   "source": [
    "bestresult = 4250\n",
    "bestresult = 4346\n",
    "bestresult = 7914\n",
    "import progressbar\n",
    "\n",
    "for i in progressbar.progressbar(range(0,500)):\n",
    "    result,broute = simulate(kind='semirandom')\n",
    "    if result < bestresult:\n",
    "        bestresult = result\n",
    "        bestroute = broute\n",
    "        print(bestresult)"
   ]
  },
  {
   "cell_type": "code",
   "execution_count": 172,
   "metadata": {},
   "outputs": [
    {
     "data": {
      "text/plain": [
       "'jfruhtbcyegsmkqwoaizxndlvp'"
      ]
     },
     "execution_count": 172,
     "metadata": {},
     "output_type": "execute_result"
    }
   ],
   "source": [
    "''.join(bestroute)"
   ]
  },
  {
   "cell_type": "code",
   "execution_count": 173,
   "metadata": {},
   "outputs": [
    {
     "data": {
      "text/plain": [
       "'ujfryhtesmgkcbqwaixzolnvdp'"
      ]
     },
     "execution_count": 173,
     "metadata": {},
     "output_type": "execute_result"
    }
   ],
   "source": [
    "''.join(mybroute)"
   ]
  },
  {
   "cell_type": "code",
   "execution_count": 45,
   "metadata": {},
   "outputs": [
    {
     "data": {
      "text/plain": [
       "[(40, 40),\n",
       " (40, 39),\n",
       " (39, 39),\n",
       " (39, 38),\n",
       " (39, 37),\n",
       " (39, 36),\n",
       " (39, 35),\n",
       " (39, 34),\n",
       " (39, 33),\n",
       " (39, 32),\n",
       " (39, 31),\n",
       " (39, 30),\n",
       " (39, 29),\n",
       " (38, 29),\n",
       " (37, 29),\n",
       " (37, 28),\n",
       " (37, 27),\n",
       " (38, 27),\n",
       " (39, 27),\n",
       " (39, 26),\n",
       " (39, 25),\n",
       " (39, 24),\n",
       " (39, 23),\n",
       " (38, 23),\n",
       " (37, 23),\n",
       " (37, 24),\n",
       " (37, 25),\n",
       " (36, 25),\n",
       " (35, 25),\n",
       " (35, 24),\n",
       " (35, 23),\n",
       " (35, 22),\n",
       " (35, 21),\n",
       " (35, 20),\n",
       " (35, 19),\n",
       " (34, 19),\n",
       " (33, 19),\n",
       " (33, 18),\n",
       " (33, 17),\n",
       " (33, 16),\n",
       " (33, 15),\n",
       " (32, 15),\n",
       " (31, 15),\n",
       " (31, 14),\n",
       " (31, 13),\n",
       " (31, 12),\n",
       " (31, 11),\n",
       " (30, 11),\n",
       " (29, 11),\n",
       " (28, 11),\n",
       " (27, 11),\n",
       " (27, 10),\n",
       " (27, 9),\n",
       " (28, 9),\n",
       " (29, 9),\n",
       " (30, 9),\n",
       " (31, 9),\n",
       " (32, 9),\n",
       " (33, 9),\n",
       " (33, 10),\n",
       " (33, 11),\n",
       " (33, 12),\n",
       " (33, 13),\n",
       " (34, 13),\n",
       " (35, 13),\n",
       " (35, 12),\n",
       " (35, 11),\n",
       " (36, 11),\n",
       " (37, 11),\n",
       " (38, 11),\n",
       " (39, 11),\n",
       " (39, 10),\n",
       " (39, 9),\n",
       " (38, 9),\n",
       " (37, 9),\n",
       " (37, 8),\n",
       " (37, 7),\n",
       " (38, 7),\n",
       " (39, 7),\n",
       " (39, 6),\n",
       " (39, 5),\n",
       " (38, 5),\n",
       " (37, 5),\n",
       " (37, 4),\n",
       " (37, 3),\n",
       " (37, 2),\n",
       " (37, 1),\n",
       " (36, 1),\n",
       " (35, 1),\n",
       " (34, 1),\n",
       " (33, 1),\n",
       " (33, 2),\n",
       " (33, 3),\n",
       " (32, 3),\n",
       " (31, 3),\n",
       " (30, 3),\n",
       " (29, 3),\n",
       " (29, 2),\n",
       " (29, 1),\n",
       " (28, 1),\n",
       " (27, 1),\n",
       " (26, 1),\n",
       " (25, 1),\n",
       " (24, 1),\n",
       " (23, 1),\n",
       " (22, 1),\n",
       " (21, 1),\n",
       " (21, 2),\n",
       " (21, 3),\n",
       " (22, 3),\n",
       " (23, 3),\n",
       " (23, 4),\n",
       " (23, 5),\n",
       " (22, 5),\n",
       " (21, 5),\n",
       " (20, 5),\n",
       " (19, 5),\n",
       " (19, 6),\n",
       " (19, 7),\n",
       " (20, 7),\n",
       " (21, 7),\n",
       " (22, 7),\n",
       " (23, 7),\n",
       " (24, 7),\n",
       " (25, 7),\n",
       " (25, 8),\n",
       " (25, 9),\n",
       " (25, 10),\n",
       " (25, 11),\n",
       " (25, 12),\n",
       " (25, 13),\n",
       " (24, 13),\n",
       " (23, 13),\n",
       " (23, 14),\n",
       " (23, 15),\n",
       " (23, 16),\n",
       " (23, 17),\n",
       " (22, 17),\n",
       " (21, 17),\n",
       " (21, 18),\n",
       " (21, 19),\n",
       " (20, 19),\n",
       " (19, 19),\n",
       " (19, 18),\n",
       " (19, 17),\n",
       " (19, 16),\n",
       " (19, 15),\n",
       " (20, 15),\n",
       " (21, 15),\n",
       " (21, 14),\n",
       " (21, 13),\n",
       " (20, 13),\n",
       " (19, 13),\n",
       " (19, 12),\n",
       " (19, 11),\n",
       " (18, 11),\n",
       " (17, 11),\n",
       " (17, 10),\n",
       " (17, 9),\n",
       " (17, 8),\n",
       " (17, 7),\n",
       " (17, 6),\n",
       " (17, 5),\n",
       " (16, 5),\n",
       " (15, 5),\n",
       " (15, 4),\n",
       " (15, 3),\n",
       " (16, 3),\n",
       " (17, 3),\n",
       " (18, 3),\n",
       " (19, 3),\n",
       " (19, 2),\n",
       " (19, 1),\n",
       " (18, 1),\n",
       " (17, 1)]"
      ]
     },
     "execution_count": 45,
     "metadata": {},
     "output_type": "execute_result"
    }
   ],
   "source": [
    "start_to_a"
   ]
  },
  {
   "cell_type": "code",
   "execution_count": 47,
   "metadata": {},
   "outputs": [
    {
     "data": {
      "image/png": "[encoded data removed]",
      "text/plain": [
       "<Figure size 576x576 with 1 Axes>"
      ]
     },
     "metadata": {
      "needs_background": "light"
     },
     "output_type": "display_data"
    }
   ],
   "source": [
    "\n",
    "import matplotlib.pyplot as plt\n",
    "%matplotlib inline\n",
    "plt.figure(figsize=(8,8))\n",
    "plt.imshow(arr_grid)\n",
    "for x,y in start_to_a:\n",
    "    plt.scatter(x,y,c='r',s=0.5)"
   ]
  },
  {
   "cell_type": "code",
   "execution_count": 98,
   "metadata": {},
   "outputs": [
    {
     "data": {
      "text/plain": [
       "{'a',\n",
       " 'b',\n",
       " 'c',\n",
       " 'd',\n",
       " 'e',\n",
       " 'f',\n",
       " 'g',\n",
       " 'h',\n",
       " 'i',\n",
       " 'j',\n",
       " 'k',\n",
       " 'l',\n",
       " 'm',\n",
       " 'n',\n",
       " 'o',\n",
       " 'p',\n",
       " 'q',\n",
       " 'r',\n",
       " 's',\n",
       " 't',\n",
       " 'u',\n",
       " 'v',\n",
       " 'w',\n",
       " 'x',\n",
       " 'y',\n",
       " 'z'}"
      ]
     },
     "execution_count": 98,
     "metadata": {},
     "output_type": "execute_result"
    }
   ],
   "source": [
    "set(key.keys())"
   ]
  },
  {
   "cell_type": "code",
   "execution_count": 198,
   "metadata": {},
   "outputs": [
    {
     "data": {
      "text/plain": [
       "(5374,\n",
       " ['r',\n",
       "  'j',\n",
       "  'u',\n",
       "  'e',\n",
       "  'f',\n",
       "  'y',\n",
       "  'h',\n",
       "  'g',\n",
       "  't',\n",
       "  'b',\n",
       "  's',\n",
       "  'm',\n",
       "  'k',\n",
       "  'a',\n",
       "  'w',\n",
       "  'z',\n",
       "  'i',\n",
       "  'c',\n",
       "  'x',\n",
       "  'q',\n",
       "  'n',\n",
       "  'o',\n",
       "  'd',\n",
       "  'v',\n",
       "  'l',\n",
       "  'p'])"
      ]
     },
     "execution_count": 198,
     "metadata": {},
     "output_type": "execute_result"
    }
   ],
   "source": [
    "\n",
    "\n",
    "#distance to possible keys, some of these are not valid due to doors. \n",
    "kind = 'closest'\n",
    "def simulate_for_robots(kind='random'):\n",
    "    route = []\n",
    "    starts = [(39,39),(41,41),(41,39),(39,41)]\n",
    "    simkeys = copy.deepcopy(key)\n",
    "    simdoors = copy.deepcopy(door)\n",
    "    run = True\n",
    "\n",
    "    total_dist=0\n",
    "    while True and run:\n",
    "        keybag = set()\n",
    "        doorunlocked = []\n",
    "\n",
    "        for rid,rstarts in enumerate(starts):\n",
    "            if len(list(simkeys.keys())) == 0:\n",
    "                run=False\n",
    "                break\n",
    "\n",
    "            path = dict()\n",
    "            dist = dict()\n",
    "            for k in simkeys.keys():\n",
    "                doorblocked=False\n",
    "                path[k]=nx.shortest_path(graph, rstarts, simkeys[k])\n",
    "\n",
    "                for dkey,d in simdoors.items():\n",
    "                    if d in path[k] and dkey not in keybag:\n",
    "                        doorblocked = True\n",
    "                        break\n",
    "\n",
    "                if not doorblocked:\n",
    "                    dist[k] = len(path[k])\n",
    "\n",
    "\n",
    "            #sort by closest:\n",
    "            if kind == 'closest':\n",
    "                tmp = np.random.rand()\n",
    "                if tmp > 0.5:\n",
    "                    choice = list({k: v for k, v in sorted(dist.items(), key=lambda item: item[1])}.keys())[0]\n",
    "                else: \n",
    "                    choice = None\n",
    "\n",
    "\n",
    "            #randomally sorted\n",
    "            if kind == 'random':\n",
    "                choice = np.random.choice(list(dist.keys()))\n",
    "\n",
    "            if kind == 'semirandom':\n",
    "                tmp = np.random.rand()\n",
    "\n",
    "                if tmp >0.5:\n",
    "                    limit = min(3,len(list(dist.keys())))\n",
    "                    clist = list({k: v for k, v in sorted(dist.items(), key=lambda item: item[1])}.keys())[0:limit]\n",
    "                    choice = np.random.choice(clist)\n",
    "                else:\n",
    "                    choice = None\n",
    "\n",
    "            if choice != None:\n",
    "                starts[rid] = simkeys[choice]\n",
    "                keybag.add(choice)\n",
    "                route.append(choice)\n",
    "                del simkeys[choice]\n",
    "                del simdoors[choice.upper()]\n",
    "\n",
    "                total_dist+=dist[choice]\n",
    "            \n",
    "            if len(list(simkeys.keys())) == 0:\n",
    "                run=False\n",
    "                break\n",
    "        #print('going to :',choice)\n",
    "    #print(total_dist)\n",
    "    return total_dist,route\n",
    "\n",
    "simulate_for_robots('semirandom')"
   ]
  },
  {
   "cell_type": "code",
   "execution_count": null,
   "metadata": {},
   "outputs": [
    {
     "name": "stderr",
     "output_type": "stream",
     "text": [
      " 27% (406 of 1500) |#####                | Elapsed Time: 0:01:43 ETA:   0:04:37"
     ]
    }
   ],
   "source": [
    "bestresult = 4790\n",
    "bestresult = 2500\n",
    "#bestresult = 1640\n",
    "\n",
    "import progressbar\n",
    "\n",
    "\n",
    "for i in progressbar.progressbar(range(0,1500)):\n",
    "    result,broute = simulate_for_robots(kind='random')\n",
    "    if result < bestresult:\n",
    "        bestresult = result\n",
    "        bestroute = broute\n",
    "        print(bestresult)"
   ]
  },
  {
   "cell_type": "code",
   "execution_count": 201,
   "metadata": {},
   "outputs": [
    {
     "data": {
      "text/plain": [
       "(5160,\n",
       " ['u',\n",
       "  'r',\n",
       "  'j',\n",
       "  'h',\n",
       "  'f',\n",
       "  'e',\n",
       "  'y',\n",
       "  'g',\n",
       "  's',\n",
       "  'm',\n",
       "  'b',\n",
       "  'k',\n",
       "  't',\n",
       "  'a',\n",
       "  'q',\n",
       "  'c',\n",
       "  'w',\n",
       "  'o',\n",
       "  'i',\n",
       "  'l',\n",
       "  'x',\n",
       "  'v',\n",
       "  'z',\n",
       "  'd',\n",
       "  'p',\n",
       "  'n'])"
      ]
     },
     "execution_count": 201,
     "metadata": {},
     "output_type": "execute_result"
    }
   ],
   "source": [
    "\n",
    "simulate_for_robots('closest')"
   ]
  },
  {
   "cell_type": "code",
   "execution_count": null,
   "metadata": {},
   "outputs": [],
   "source": []
  }
 ],
 "metadata": {
  "kernelspec": {
   "display_name": "Python 3",
   "language": "python",
   "name": "python3"
  },
  "language_info": {
   "codemirror_mode": {
    "name": "ipython",
    "version": 3
   },
   "file_extension": ".py",
   "mimetype": "text/x-python",
   "name": "python",
   "nbconvert_exporter": "python",
   "pygments_lexer": "ipython3",
   "version": "3.7.3"
  }
 },
 "nbformat": 4,
 "nbformat_minor": 2
}

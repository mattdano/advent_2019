{
 "cells": [
  {
   "cell_type": "markdown",
   "metadata": {},
   "source": [
    "You're 3/4ths of the way through the gas giants. Not only do roundtrip signals to Earth take five hours, but the signal quality is quite bad as well. You can clean up the signal with the Flawed Frequency Transmission algorithm, or FFT.\n",
    "\n",
    "As input, FFT takes a list of numbers. In the signal you received (your puzzle input), each number is a single digit: data like 15243 represents the sequence 1, 5, 2, 4, 3.\n",
    "\n",
    "FFT operates in repeated phases. In each phase, a new list is constructed with the same length as the input list. This new list is also used as the input for the next phase.\n",
    "\n",
    "Each element in the new list is built by multiplying every value in the input list by a value in a repeating pattern and then adding up the results. So, if the input list were 9, 8, 7, 6, 5 and the pattern for a given element were 1, 2, 3, the result would be 9*1 + 8*2 + 7*3 + 6*1 + 5*2 (with each input element on the left and each value in the repeating pattern on the right of each multiplication). Then, only the ones digit is kept: 38 becomes 8, -17 becomes 7, and so on.\n",
    "\n",
    "While each element in the output array uses all of the same input array elements, the actual repeating pattern to use depends on which output element is being calculated. The base pattern is 0, 1, 0, -1. Then, repeat each value in the pattern a number of times equal to the position in the output list being considered. Repeat once for the first element, twice for the second element, three times for the third element, and so on. So, if the third element of the output list is being calculated, repeating the values would produce: 0, 0, 0, 1, 1, 1, 0, 0, 0, -1, -1, -1.\n",
    "\n",
    "When applying the pattern, skip the very first value exactly once. (In other words, offset the whole pattern left by one.) So, for the second element of the output list, the actual pattern used would be: 0, 1, 1, 0, 0, -1, -1, 0, 0, 1, 1, 0, 0, -1, -1, ....\n",
    "\n",
    "After using this process to calculate each element of the output list, the phase is complete, and the output list of this phase is used as the new input list for the next phase, if any.\n",
    "\n",
    "Given the input signal 12345678, below are four phases of FFT. Within each phase, each output digit is calculated on a single line with the result at the far right; each multiplication operation shows the input digit on the left and the pattern value on the right:\n",
    "\n",
    "Input signal: 12345678\n",
    "\n",
    "1*1  + 2*0  + 3*-1 + 4*0  + 5*1  + 6*0  + 7*-1 + 8*0  = 4\n",
    "1*0  + 2*1  + 3*1  + 4*0  + 5*0  + 6*-1 + 7*-1 + 8*0  = 8\n",
    "1*0  + 2*0  + 3*1  + 4*1  + 5*1  + 6*0  + 7*0  + 8*0  = 2\n",
    "1*0  + 2*0  + 3*0  + 4*1  + 5*1  + 6*1  + 7*1  + 8*0  = 2\n",
    "1*0  + 2*0  + 3*0  + 4*0  + 5*1  + 6*1  + 7*1  + 8*1  = 6\n",
    "1*0  + 2*0  + 3*0  + 4*0  + 5*0  + 6*1  + 7*1  + 8*1  = 1\n",
    "1*0  + 2*0  + 3*0  + 4*0  + 5*0  + 6*0  + 7*1  + 8*1  = 5\n",
    "1*0  + 2*0  + 3*0  + 4*0  + 5*0  + 6*0  + 7*0  + 8*1  = 8\n",
    "\n",
    "After 1 phase: 48226158\n",
    "\n",
    "4*1  + 8*0  + 2*-1 + 2*0  + 6*1  + 1*0  + 5*-1 + 8*0  = 3\n",
    "4*0  + 8*1  + 2*1  + 2*0  + 6*0  + 1*-1 + 5*-1 + 8*0  = 4\n",
    "4*0  + 8*0  + 2*1  + 2*1  + 6*1  + 1*0  + 5*0  + 8*0  = 0\n",
    "4*0  + 8*0  + 2*0  + 2*1  + 6*1  + 1*1  + 5*1  + 8*0  = 4\n",
    "4*0  + 8*0  + 2*0  + 2*0  + 6*1  + 1*1  + 5*1  + 8*1  = 0\n",
    "4*0  + 8*0  + 2*0  + 2*0  + 6*0  + 1*1  + 5*1  + 8*1  = 4\n",
    "4*0  + 8*0  + 2*0  + 2*0  + 6*0  + 1*0  + 5*1  + 8*1  = 3\n",
    "4*0  + 8*0  + 2*0  + 2*0  + 6*0  + 1*0  + 5*0  + 8*1  = 8\n",
    "\n",
    "After 2 phases: 34040438\n",
    "\n",
    "3*1  + 4*0  + 0*-1 + 4*0  + 0*1  + 4*0  + 3*-1 + 8*0  = 0\n",
    "3*0  + 4*1  + 0*1  + 4*0  + 0*0  + 4*-1 + 3*-1 + 8*0  = 3\n",
    "3*0  + 4*0  + 0*1  + 4*1  + 0*1  + 4*0  + 3*0  + 8*0  = 4\n",
    "3*0  + 4*0  + 0*0  + 4*1  + 0*1  + 4*1  + 3*1  + 8*0  = 1\n",
    "3*0  + 4*0  + 0*0  + 4*0  + 0*1  + 4*1  + 3*1  + 8*1  = 5\n",
    "3*0  + 4*0  + 0*0  + 4*0  + 0*0  + 4*1  + 3*1  + 8*1  = 5\n",
    "3*0  + 4*0  + 0*0  + 4*0  + 0*0  + 4*0  + 3*1  + 8*1  = 1\n",
    "3*0  + 4*0  + 0*0  + 4*0  + 0*0  + 4*0  + 3*0  + 8*1  = 8\n",
    "\n",
    "After 3 phases: 03415518\n",
    "\n",
    "0*1  + 3*0  + 4*-1 + 1*0  + 5*1  + 5*0  + 1*-1 + 8*0  = 0\n",
    "0*0  + 3*1  + 4*1  + 1*0  + 5*0  + 5*-1 + 1*-1 + 8*0  = 1\n",
    "0*0  + 3*0  + 4*1  + 1*1  + 5*1  + 5*0  + 1*0  + 8*0  = 0\n",
    "0*0  + 3*0  + 4*0  + 1*1  + 5*1  + 5*1  + 1*1  + 8*0  = 2\n",
    "0*0  + 3*0  + 4*0  + 1*0  + 5*1  + 5*1  + 1*1  + 8*1  = 9\n",
    "0*0  + 3*0  + 4*0  + 1*0  + 5*0  + 5*1  + 1*1  + 8*1  = 4\n",
    "0*0  + 3*0  + 4*0  + 1*0  + 5*0  + 5*0  + 1*1  + 8*1  = 9\n",
    "0*0  + 3*0  + 4*0  + 1*0  + 5*0  + 5*0  + 1*0  + 8*1  = 8\n",
    "\n",
    "After 4 phases: 01029498\n",
    "Here are the first eight digits of the final output list after 100 phases for some larger inputs:\n",
    "\n",
    "80871224585914546619083218645595 becomes 24176176.\n",
    "19617804207202209144916044189917 becomes 73745418.\n",
    "69317163492948606335995924319873 becomes 52432133.\n",
    "After 100 phases of FFT, what are the first eight digits in the final output list?\n",
    "\n",
    "To begin, get your puzzle input.\n",
    "\n"
   ]
  },
  {
   "cell_type": "code",
   "execution_count": 69,
   "metadata": {},
   "outputs": [],
   "source": [
    "f = open('input-16.txt','r')\n",
    "dat = f.readlines()\n",
    "f.close()"
   ]
  },
  {
   "cell_type": "code",
   "execution_count": 70,
   "metadata": {},
   "outputs": [],
   "source": [
    "nums = []\n",
    "for c in dat[0]:\n",
    "    try:\n",
    "        nums.append(int(c))\n",
    "    except:\n",
    "        break"
   ]
  },
  {
   "cell_type": "code",
   "execution_count": 13,
   "metadata": {},
   "outputs": [
    {
     "data": {
      "text/plain": [
       "9"
      ]
     },
     "execution_count": 13,
     "metadata": {},
     "output_type": "execute_result"
    }
   ],
   "source": [
    "nums[-1]"
   ]
  },
  {
   "cell_type": "code",
   "execution_count": 14,
   "metadata": {},
   "outputs": [],
   "source": [
    "nums = [1,2,3,4,5,6,7,8]"
   ]
  },
  {
   "cell_type": "code",
   "execution_count": 66,
   "metadata": {},
   "outputs": [
    {
     "data": {
      "text/plain": [
       "[0, 1, 0, 2, 9, 4, 9, 8]"
      ]
     },
     "execution_count": 66,
     "metadata": {},
     "output_type": "execute_result"
    }
   ],
   "source": [
    "def pattern(nth,input_size):\n",
    "    basic_pattern = [0, 1, 0, -1]\n",
    "    out_pattern = []\n",
    "    for b in basic_pattern:\n",
    "        if nth==0:\n",
    "            out_pattern.append(b)\n",
    "        else:\n",
    "            for pad in range(0,nth+1):\n",
    "                out_pattern.append(b)\n",
    "    \n",
    "    #need to repeat this to fill the size of the inputs. \n",
    "    #print((len(out_pattern)+1)/(input_size+1)) \n",
    "    while (len(out_pattern)+1)/(input_size+1) <1.1:\n",
    "        out_pattern = out_pattern+out_pattern\n",
    "    out_pattern.pop(0)\n",
    "    return out_pattern[0:input_size+1]\n",
    "\n",
    "def do_FFT(input_nums,debug =False):\n",
    "    output_nums = []\n",
    "    for pos in range(0,len(input_nums)):\n",
    "        p = pattern(pos,len(input_nums))\n",
    "        if debug:\n",
    "            print(p)\n",
    "        #if pos ==0:\n",
    "        #    print(p)\n",
    "        ans=0\n",
    "        for num,pat in zip(input_nums,p):\n",
    "            ans+=(num*pat)\n",
    "        \n",
    "        output_nums.append(int(str(ans)[-1]))\n",
    "    return output_nums\n",
    "\n",
    "def process_FFT(start_num,rounds):\n",
    "    phases = start_num\n",
    "    for i in range(0,rounds):\n",
    "        phases = do_FFT(phases)\n",
    "        #print(phases)\n",
    "    return phases\n",
    "    \n",
    "#pattern(1,8)\n",
    "#do_FFT(nums)\n",
    "process_FFT(nums,4)"
   ]
  },
  {
   "cell_type": "code",
   "execution_count": 42,
   "metadata": {},
   "outputs": [
    {
     "ename": "SyntaxError",
     "evalue": "invalid token (<ipython-input-42-4e11d67d9443>, line 3)",
     "output_type": "error",
     "traceback": [
      "\u001b[0;36m  File \u001b[0;32m\"<ipython-input-42-4e11d67d9443>\"\u001b[0;36m, line \u001b[0;32m3\u001b[0m\n\u001b[0;31m    03415518\u001b[0m\n\u001b[0m           ^\u001b[0m\n\u001b[0;31mSyntaxError\u001b[0m\u001b[0;31m:\u001b[0m invalid token\n"
     ]
    }
   ],
   "source": [
    "48226158\n",
    "34040438\n",
    "03415518\n",
    "01029498"
   ]
  },
  {
   "cell_type": "code",
   "execution_count": 68,
   "metadata": {},
   "outputs": [],
   "source": [
    "def make_num_list(chars):\n",
    "    out = []\n",
    "    for c in chars:\n",
    "        out.append(int(c))\n",
    "    return out\n",
    "\n",
    "\n",
    "assert process_FFT(make_num_list('80871224585914546619083218645595'),rounds=100)[0:8] == make_num_list('24176176')\n",
    "\n",
    "assert process_FFT(make_num_list('19617804207202209144916044189917'),rounds=100)[0:8] == make_num_list('73745418')\n",
    "\n"
   ]
  },
  {
   "cell_type": "code",
   "execution_count": 71,
   "metadata": {},
   "outputs": [
    {
     "data": {
      "text/plain": [
       "[2, 7, 8, 3, 1, 6, 6, 5]"
      ]
     },
     "execution_count": 71,
     "metadata": {},
     "output_type": "execute_result"
    }
   ],
   "source": [
    "process_FFT(nums,rounds=100)[0:8] "
   ]
  },
  {
   "cell_type": "code",
   "execution_count": 77,
   "metadata": {},
   "outputs": [
    {
     "data": {
      "text/plain": [
       "'27831665'"
      ]
     },
     "execution_count": 77,
     "metadata": {},
     "output_type": "execute_result"
    }
   ],
   "source": [
    "''.join(list(map(str,[2, 7, 8, 3, 1, 6, 6, 5])))"
   ]
  },
  {
   "cell_type": "code",
   "execution_count": null,
   "metadata": {},
   "outputs": [],
   "source": [
    "make_num_list('80871224585914546619083218645595'))"
   ]
  },
  {
   "cell_type": "code",
   "execution_count": 80,
   "metadata": {},
   "outputs": [
    {
     "data": {
      "text/plain": [
       "[5, 9, 7, 6, 6, 9, 7]"
      ]
     },
     "execution_count": 80,
     "metadata": {},
     "output_type": "execute_result"
    }
   ],
   "source": [
    "nums[0:7]"
   ]
  },
  {
   "cell_type": "code",
   "execution_count": 81,
   "metadata": {},
   "outputs": [
    {
     "data": {
      "text/plain": [
       "650"
      ]
     },
     "execution_count": 81,
     "metadata": {},
     "output_type": "execute_result"
    }
   ],
   "source": [
    "len(nums)"
   ]
  },
  {
   "cell_type": "code",
   "execution_count": 88,
   "metadata": {},
   "outputs": [
    {
     "data": {
      "text/plain": [
       "[3, 6, 2, 6, 5, 5, 8, 9]"
      ]
     },
     "execution_count": 88,
     "metadata": {},
     "output_type": "execute_result"
    }
   ],
   "source": [
    "to_skip = int(''.join(map(str, nums[:7])))\n",
    "\n",
    "mynums   = (nums * 10000)[to_skip:]\n",
    "length = len(mynums)\n",
    "\n",
    "#only do from the pos to the end, saves like 90%\n",
    "# since the pattern is massive, then the last value is just itself, \n",
    "# and the (n-1) is the sum of n up to n-1, due to all the \n",
    "# 000000000111\n",
    "# 000000000011\n",
    "# 000000000001 \n",
    "# etc patterns\n",
    "\n",
    "for phases in range(0,100):\n",
    "    for i in range(length - 2, -1, -1):\n",
    "        mynums[i] += mynums[i + 1]\n",
    "        mynums[i] = int(str(mynums[i])[-1])\n",
    "\n",
    "answer = mynums[:8]\n",
    "answer"
   ]
  },
  {
   "cell_type": "code",
   "execution_count": null,
   "metadata": {},
   "outputs": [],
   "source": []
  },
  {
   "cell_type": "code",
   "execution_count": null,
   "metadata": {},
   "outputs": [],
   "source": []
  }
 ],
 "metadata": {
  "kernelspec": {
   "display_name": "Python 3",
   "language": "python",
   "name": "python3"
  },
  "language_info": {
   "codemirror_mode": {
    "name": "ipython",
    "version": 3
   },
   "file_extension": ".py",
   "mimetype": "text/x-python",
   "name": "python",
   "nbconvert_exporter": "python",
   "pygments_lexer": "ipython3",
   "version": "3.7.3"
  }
 },
 "nbformat": 4,
 "nbformat_minor": 2
}
